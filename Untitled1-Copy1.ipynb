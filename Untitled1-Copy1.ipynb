{
 "cells": [
  {
   "cell_type": "code",
   "execution_count": 1,
   "metadata": {},
   "outputs": [],
   "source": [
    "import pandas as pd \n",
    "import numpy as np"
   ]
  },
  {
   "cell_type": "code",
   "execution_count": 2,
   "metadata": {},
   "outputs": [],
   "source": [
    "columns = ['videoid', 'annotations']\n",
    "dataset = pd.read_csv('Dataset.csv', encoding = 'utf-8', names = columns)"
   ]
  },
  {
   "cell_type": "code",
   "execution_count": 3,
   "metadata": {},
   "outputs": [],
   "source": [
    "dataset.to_pickle(\"dataset.pkl\") "
   ]
  },
  {
   "cell_type": "code",
   "execution_count": 4,
   "metadata": {},
   "outputs": [],
   "source": [
    "dataset = pd.read_pickle(\"dataset.pkl\")"
   ]
  },
  {
   "cell_type": "code",
   "execution_count": 5,
   "metadata": {},
   "outputs": [
    {
     "data": {
      "text/html": [
       "<div>\n",
       "<style scoped>\n",
       "    .dataframe tbody tr th:only-of-type {\n",
       "        vertical-align: middle;\n",
       "    }\n",
       "\n",
       "    .dataframe tbody tr th {\n",
       "        vertical-align: top;\n",
       "    }\n",
       "\n",
       "    .dataframe thead th {\n",
       "        text-align: right;\n",
       "    }\n",
       "</style>\n",
       "<table border=\"1\" class=\"dataframe\">\n",
       "  <thead>\n",
       "    <tr style=\"text-align: right;\">\n",
       "      <th></th>\n",
       "      <th>videoid</th>\n",
       "      <th>annotations</th>\n",
       "    </tr>\n",
       "  </thead>\n",
       "  <tbody>\n",
       "    <tr>\n",
       "      <th>0</th>\n",
       "      <td>1</td>\n",
       "      <td>3,3,1,1,2,2,2,3,3,2,1,1,3,3,1,1,2,2,2,3,2,2,1,...</td>\n",
       "    </tr>\n",
       "    <tr>\n",
       "      <th>1</th>\n",
       "      <td>2</td>\n",
       "      <td>3,1,2,2,3,1,1,1,1,2,2,1,2,2,2,2,2,3,2,2,3,1,1,...</td>\n",
       "    </tr>\n",
       "    <tr>\n",
       "      <th>2</th>\n",
       "      <td>3</td>\n",
       "      <td>1,1,1,3,2,2,1,1,2,2,2,2,2,2,2,1,1,2,3,1,3,3,2,...</td>\n",
       "    </tr>\n",
       "    <tr>\n",
       "      <th>3</th>\n",
       "      <td>4</td>\n",
       "      <td>1,1,1,2,3,2,3,2,2,3,2,2,2,3,2,3,3,1,1,3,2,2,2,...</td>\n",
       "    </tr>\n",
       "    <tr>\n",
       "      <th>4</th>\n",
       "      <td>5</td>\n",
       "      <td>1,1,1,1,1,1,1,1,1,1,1,1,1,1,1,1,1,2,2,2,1,1,2,...</td>\n",
       "    </tr>\n",
       "    <tr>\n",
       "      <th>5</th>\n",
       "      <td>6</td>\n",
       "      <td>3,1,2,2,3,2,2,3,2,2,2,3,3,2,2,3,3,2,3,1,2,2,3,...</td>\n",
       "    </tr>\n",
       "    <tr>\n",
       "      <th>6</th>\n",
       "      <td>7</td>\n",
       "      <td>1,1,1,1,1,1,2,2,2,2,1,1,1,1,1,1,1,2,1,1,1,1,1,...</td>\n",
       "    </tr>\n",
       "    <tr>\n",
       "      <th>7</th>\n",
       "      <td>8</td>\n",
       "      <td>3,2,1,1,1,1,1,1,1,1,3,1,1,1,1,3,1,1,1,1,1,1,1,...</td>\n",
       "    </tr>\n",
       "    <tr>\n",
       "      <th>8</th>\n",
       "      <td>9</td>\n",
       "      <td>1,3,1,1,1,1,2,2,2,2,3,1,1,1,1,1,2,3,2,1,1,1,1,...</td>\n",
       "    </tr>\n",
       "    <tr>\n",
       "      <th>9</th>\n",
       "      <td>10</td>\n",
       "      <td>1,2,3,3,3,2,3,2,3,1,1,1,3,3,3,3,3,2,3,1,3,2,2,...</td>\n",
       "    </tr>\n",
       "    <tr>\n",
       "      <th>10</th>\n",
       "      <td>11</td>\n",
       "      <td>3,1,2,3,3,2,1,1,1,1,1,1,1,3,2,2,3,2,1,2,1,3,1,...</td>\n",
       "    </tr>\n",
       "    <tr>\n",
       "      <th>11</th>\n",
       "      <td>12</td>\n",
       "      <td>3,3,2,1,2,3,1,3,2,3,2,2,2,1,1,1,1,3,2,3,3,2,2,...</td>\n",
       "    </tr>\n",
       "    <tr>\n",
       "      <th>12</th>\n",
       "      <td>13</td>\n",
       "      <td>1,3,2,1,2,3,1,1,1,1,1,3,2,3,3,2,1,3,3,2,1,1,2,...</td>\n",
       "    </tr>\n",
       "    <tr>\n",
       "      <th>13</th>\n",
       "      <td>14</td>\n",
       "      <td>3,2,2,3,2,2,3,1,1,3,3,1,2,1,2,2,1,1,2,1,2,1,1,...</td>\n",
       "    </tr>\n",
       "    <tr>\n",
       "      <th>14</th>\n",
       "      <td>15</td>\n",
       "      <td>3,2,3,2,3,1,2,3,2,3,1,3,1,2,1,1,1,2,1,2,1,3,1,...</td>\n",
       "    </tr>\n",
       "    <tr>\n",
       "      <th>15</th>\n",
       "      <td>16</td>\n",
       "      <td>1,1,3,3,3,2,1,1,3,3,2,1,3,3,2,3,3,2,3,2,3,2,3,...</td>\n",
       "    </tr>\n",
       "    <tr>\n",
       "      <th>16</th>\n",
       "      <td>17</td>\n",
       "      <td>1,1,1,1,2,3,2,2,1,2,3,3,2,3,3,2,1,3,2,1,1,1,2,...</td>\n",
       "    </tr>\n",
       "    <tr>\n",
       "      <th>17</th>\n",
       "      <td>18</td>\n",
       "      <td>3,2,2,1,1,1,2,3,1,2,1,1,3,3,2,1,1,2,2,3,2,1,3,...</td>\n",
       "    </tr>\n",
       "    <tr>\n",
       "      <th>18</th>\n",
       "      <td>19</td>\n",
       "      <td>3,3,3,1,2,3,1,2,3,3,2,1,1,3,3,1,3,2,1,2,3,1,1,...</td>\n",
       "    </tr>\n",
       "    <tr>\n",
       "      <th>19</th>\n",
       "      <td>20</td>\n",
       "      <td>1,1,3,1,3,2,2,3,1,1,1,2,2,1,3,3,2,2,1,3,1,1,1,...</td>\n",
       "    </tr>\n",
       "    <tr>\n",
       "      <th>20</th>\n",
       "      <td>21</td>\n",
       "      <td>2,2,1,1,3,1,1,2,1,1,2,3,2,1,3,2,1,3,2,3,2,1,1,...</td>\n",
       "    </tr>\n",
       "    <tr>\n",
       "      <th>21</th>\n",
       "      <td>22</td>\n",
       "      <td>2,3,2,3,3,3,2,2,3,2,1,1,3,2,2,2,1,1,1,1,2,1,1,...</td>\n",
       "    </tr>\n",
       "    <tr>\n",
       "      <th>22</th>\n",
       "      <td>23</td>\n",
       "      <td>3,3,2,3,2,2,3,3,2,2,1,1,3,1,3,2,3,3,2,3,2,1,1,...</td>\n",
       "    </tr>\n",
       "    <tr>\n",
       "      <th>23</th>\n",
       "      <td>24</td>\n",
       "      <td>3,3,3,2,3,3,1,1,1,3,1,3,3,1,2,3,1,1,1,1,2,3,1,...</td>\n",
       "    </tr>\n",
       "    <tr>\n",
       "      <th>24</th>\n",
       "      <td>25</td>\n",
       "      <td>3,3,3,3,3,2,3,2,1,3,3,3,1,1,1,1,1,3,3,2,1,1,1,...</td>\n",
       "    </tr>\n",
       "    <tr>\n",
       "      <th>25</th>\n",
       "      <td>26</td>\n",
       "      <td>1,2,2,3,1,1,1,3,2,1,3,1,1,1,3,2,2,3,3,2,1,1,3,...</td>\n",
       "    </tr>\n",
       "    <tr>\n",
       "      <th>26</th>\n",
       "      <td>27</td>\n",
       "      <td>3,3,3,3,3,3,3,2,1,1,3,3,3,2,1,1,1,1,3,3,1,1,1,...</td>\n",
       "    </tr>\n",
       "    <tr>\n",
       "      <th>27</th>\n",
       "      <td>28</td>\n",
       "      <td>3,3,3,3,3,3,3,3,3,3,3,3,3,3,3,3,3,3,3,3,3,3,3,...</td>\n",
       "    </tr>\n",
       "    <tr>\n",
       "      <th>28</th>\n",
       "      <td>29</td>\n",
       "      <td>3,1,1,1,2,1,1,1,1,1,1,2,2,3,1,1,1,1,1,1,1,2,1,...</td>\n",
       "    </tr>\n",
       "    <tr>\n",
       "      <th>29</th>\n",
       "      <td>30</td>\n",
       "      <td>3,3,2,1,1,3,2,3,2,1,3,3,3,3,2,2,2,1,3,1,1,1,1,...</td>\n",
       "    </tr>\n",
       "    <tr>\n",
       "      <th>30</th>\n",
       "      <td>31</td>\n",
       "      <td>3,2,2,3,3,1,3,3,3,2,3,3,3,2,3,2,1,1,3,1,3,3,1,...</td>\n",
       "    </tr>\n",
       "    <tr>\n",
       "      <th>31</th>\n",
       "      <td>32</td>\n",
       "      <td>2,3,2,3,2,3,1,2,3,1,1,2,3,1,2,1,3,1,3,2,3,1,3,...</td>\n",
       "    </tr>\n",
       "    <tr>\n",
       "      <th>32</th>\n",
       "      <td>33</td>\n",
       "      <td>3,3,2,2,1,3,3,3,1,2,3,1,2,3,3,1,3,1,3,2,3,2,3,...</td>\n",
       "    </tr>\n",
       "    <tr>\n",
       "      <th>33</th>\n",
       "      <td>34</td>\n",
       "      <td>3,1,1,3,1,2,3,1,2,3,1,3,2,1,3,1,3,2,3,3,2,1,3,...</td>\n",
       "    </tr>\n",
       "    <tr>\n",
       "      <th>34</th>\n",
       "      <td>35</td>\n",
       "      <td>3,3,3,2,2,3,2,1,3,2,3,2,1,3,3,2,3,2,1,3,3,1,3,...</td>\n",
       "    </tr>\n",
       "    <tr>\n",
       "      <th>35</th>\n",
       "      <td>36</td>\n",
       "      <td>3,2,1,1,1,1,1,2,1,1,1,2,1,1,1,2,2,3,3,2,3,2,3,...</td>\n",
       "    </tr>\n",
       "    <tr>\n",
       "      <th>36</th>\n",
       "      <td>37</td>\n",
       "      <td>3,1,1,1,2,1,1,1,1,2,1,1,2,1,1,2,1,1,2,1,1,2,1,...</td>\n",
       "    </tr>\n",
       "    <tr>\n",
       "      <th>37</th>\n",
       "      <td>38</td>\n",
       "      <td>3,2,1,1,3,2,1,2,1,1,1,3,2,3,2,3,3,3,3,3,2,3,3,...</td>\n",
       "    </tr>\n",
       "    <tr>\n",
       "      <th>38</th>\n",
       "      <td>39</td>\n",
       "      <td>3,1,1,3,1,1,1,3,1,1,1,1,1,1,1,3,1,1,1,3,1,1,3,...</td>\n",
       "    </tr>\n",
       "    <tr>\n",
       "      <th>39</th>\n",
       "      <td>40</td>\n",
       "      <td>3,1,1,3,3,1,1,1,1,2,2,3,1,2,2,1,3,3,1,1,3,2,2,...</td>\n",
       "    </tr>\n",
       "    <tr>\n",
       "      <th>40</th>\n",
       "      <td>41</td>\n",
       "      <td>3,3,3,3,1,3,3,2,2,3,1,3,1,2,3,1,3,1,2,1,3,1,1,...</td>\n",
       "    </tr>\n",
       "    <tr>\n",
       "      <th>41</th>\n",
       "      <td>42</td>\n",
       "      <td>1,3,2,1,1,3,3,3,3,2,3,1,3,3,3,2,3,3,1,3,1,3,3,...</td>\n",
       "    </tr>\n",
       "    <tr>\n",
       "      <th>42</th>\n",
       "      <td>43</td>\n",
       "      <td>3,2,3,2,1,3,2,3,2,3,2,1,3,1,1,1,3,1,1,3,1,1,1,...</td>\n",
       "    </tr>\n",
       "    <tr>\n",
       "      <th>43</th>\n",
       "      <td>44</td>\n",
       "      <td>3,2,1,2,3,3,1,3,3,1,3,3,3,3,3,1,3,1,3,3,3,3,3,...</td>\n",
       "    </tr>\n",
       "    <tr>\n",
       "      <th>44</th>\n",
       "      <td>45</td>\n",
       "      <td>3,2,3,3,3,2,3,2,2,3,3,3,1,3,1,2,2,3,2,1,3,3,1,...</td>\n",
       "    </tr>\n",
       "    <tr>\n",
       "      <th>45</th>\n",
       "      <td>46</td>\n",
       "      <td>1,3,3,1,3,1,3,3,3,2,3,3,2,1,3,1,2,2,3,1,1,1,3,...</td>\n",
       "    </tr>\n",
       "    <tr>\n",
       "      <th>46</th>\n",
       "      <td>47</td>\n",
       "      <td>3,2,3,3,3,3,2,3,1,3,1,1,2,3,3,3,3,2,1,3,2,3,3,...</td>\n",
       "    </tr>\n",
       "    <tr>\n",
       "      <th>47</th>\n",
       "      <td>48</td>\n",
       "      <td>3,3,1,2,2,3,2,3,3,3,1,1,3,3,2,1,1,3,3,1,1,3,2,...</td>\n",
       "    </tr>\n",
       "    <tr>\n",
       "      <th>48</th>\n",
       "      <td>49</td>\n",
       "      <td>1,3,2,2,3,1,3,2,3,2,1,3,1,2,1,1,3,1,1,3,1,3,1,...</td>\n",
       "    </tr>\n",
       "    <tr>\n",
       "      <th>49</th>\n",
       "      <td>50</td>\n",
       "      <td>3,3,3,3,3,1,1,2,3,2,1,3,2,3,1,2,1,2,3,3,3,3,2,...</td>\n",
       "    </tr>\n",
       "  </tbody>\n",
       "</table>\n",
       "</div>"
      ],
      "text/plain": [
       "    videoid                                        annotations\n",
       "0         1  3,3,1,1,2,2,2,3,3,2,1,1,3,3,1,1,2,2,2,3,2,2,1,...\n",
       "1         2  3,1,2,2,3,1,1,1,1,2,2,1,2,2,2,2,2,3,2,2,3,1,1,...\n",
       "2         3  1,1,1,3,2,2,1,1,2,2,2,2,2,2,2,1,1,2,3,1,3,3,2,...\n",
       "3         4  1,1,1,2,3,2,3,2,2,3,2,2,2,3,2,3,3,1,1,3,2,2,2,...\n",
       "4         5  1,1,1,1,1,1,1,1,1,1,1,1,1,1,1,1,1,2,2,2,1,1,2,...\n",
       "5         6  3,1,2,2,3,2,2,3,2,2,2,3,3,2,2,3,3,2,3,1,2,2,3,...\n",
       "6         7  1,1,1,1,1,1,2,2,2,2,1,1,1,1,1,1,1,2,1,1,1,1,1,...\n",
       "7         8  3,2,1,1,1,1,1,1,1,1,3,1,1,1,1,3,1,1,1,1,1,1,1,...\n",
       "8         9  1,3,1,1,1,1,2,2,2,2,3,1,1,1,1,1,2,3,2,1,1,1,1,...\n",
       "9        10  1,2,3,3,3,2,3,2,3,1,1,1,3,3,3,3,3,2,3,1,3,2,2,...\n",
       "10       11  3,1,2,3,3,2,1,1,1,1,1,1,1,3,2,2,3,2,1,2,1,3,1,...\n",
       "11       12  3,3,2,1,2,3,1,3,2,3,2,2,2,1,1,1,1,3,2,3,3,2,2,...\n",
       "12       13  1,3,2,1,2,3,1,1,1,1,1,3,2,3,3,2,1,3,3,2,1,1,2,...\n",
       "13       14  3,2,2,3,2,2,3,1,1,3,3,1,2,1,2,2,1,1,2,1,2,1,1,...\n",
       "14       15  3,2,3,2,3,1,2,3,2,3,1,3,1,2,1,1,1,2,1,2,1,3,1,...\n",
       "15       16  1,1,3,3,3,2,1,1,3,3,2,1,3,3,2,3,3,2,3,2,3,2,3,...\n",
       "16       17  1,1,1,1,2,3,2,2,1,2,3,3,2,3,3,2,1,3,2,1,1,1,2,...\n",
       "17       18  3,2,2,1,1,1,2,3,1,2,1,1,3,3,2,1,1,2,2,3,2,1,3,...\n",
       "18       19  3,3,3,1,2,3,1,2,3,3,2,1,1,3,3,1,3,2,1,2,3,1,1,...\n",
       "19       20  1,1,3,1,3,2,2,3,1,1,1,2,2,1,3,3,2,2,1,3,1,1,1,...\n",
       "20       21  2,2,1,1,3,1,1,2,1,1,2,3,2,1,3,2,1,3,2,3,2,1,1,...\n",
       "21       22  2,3,2,3,3,3,2,2,3,2,1,1,3,2,2,2,1,1,1,1,2,1,1,...\n",
       "22       23  3,3,2,3,2,2,3,3,2,2,1,1,3,1,3,2,3,3,2,3,2,1,1,...\n",
       "23       24  3,3,3,2,3,3,1,1,1,3,1,3,3,1,2,3,1,1,1,1,2,3,1,...\n",
       "24       25  3,3,3,3,3,2,3,2,1,3,3,3,1,1,1,1,1,3,3,2,1,1,1,...\n",
       "25       26  1,2,2,3,1,1,1,3,2,1,3,1,1,1,3,2,2,3,3,2,1,1,3,...\n",
       "26       27  3,3,3,3,3,3,3,2,1,1,3,3,3,2,1,1,1,1,3,3,1,1,1,...\n",
       "27       28  3,3,3,3,3,3,3,3,3,3,3,3,3,3,3,3,3,3,3,3,3,3,3,...\n",
       "28       29  3,1,1,1,2,1,1,1,1,1,1,2,2,3,1,1,1,1,1,1,1,2,1,...\n",
       "29       30  3,3,2,1,1,3,2,3,2,1,3,3,3,3,2,2,2,1,3,1,1,1,1,...\n",
       "30       31  3,2,2,3,3,1,3,3,3,2,3,3,3,2,3,2,1,1,3,1,3,3,1,...\n",
       "31       32  2,3,2,3,2,3,1,2,3,1,1,2,3,1,2,1,3,1,3,2,3,1,3,...\n",
       "32       33  3,3,2,2,1,3,3,3,1,2,3,1,2,3,3,1,3,1,3,2,3,2,3,...\n",
       "33       34  3,1,1,3,1,2,3,1,2,3,1,3,2,1,3,1,3,2,3,3,2,1,3,...\n",
       "34       35  3,3,3,2,2,3,2,1,3,2,3,2,1,3,3,2,3,2,1,3,3,1,3,...\n",
       "35       36  3,2,1,1,1,1,1,2,1,1,1,2,1,1,1,2,2,3,3,2,3,2,3,...\n",
       "36       37  3,1,1,1,2,1,1,1,1,2,1,1,2,1,1,2,1,1,2,1,1,2,1,...\n",
       "37       38  3,2,1,1,3,2,1,2,1,1,1,3,2,3,2,3,3,3,3,3,2,3,3,...\n",
       "38       39  3,1,1,3,1,1,1,3,1,1,1,1,1,1,1,3,1,1,1,3,1,1,3,...\n",
       "39       40  3,1,1,3,3,1,1,1,1,2,2,3,1,2,2,1,3,3,1,1,3,2,2,...\n",
       "40       41  3,3,3,3,1,3,3,2,2,3,1,3,1,2,3,1,3,1,2,1,3,1,1,...\n",
       "41       42  1,3,2,1,1,3,3,3,3,2,3,1,3,3,3,2,3,3,1,3,1,3,3,...\n",
       "42       43  3,2,3,2,1,3,2,3,2,3,2,1,3,1,1,1,3,1,1,3,1,1,1,...\n",
       "43       44  3,2,1,2,3,3,1,3,3,1,3,3,3,3,3,1,3,1,3,3,3,3,3,...\n",
       "44       45  3,2,3,3,3,2,3,2,2,3,3,3,1,3,1,2,2,3,2,1,3,3,1,...\n",
       "45       46  1,3,3,1,3,1,3,3,3,2,3,3,2,1,3,1,2,2,3,1,1,1,3,...\n",
       "46       47  3,2,3,3,3,3,2,3,1,3,1,1,2,3,3,3,3,2,1,3,2,3,3,...\n",
       "47       48  3,3,1,2,2,3,2,3,3,3,1,1,3,3,2,1,1,3,3,1,1,3,2,...\n",
       "48       49  1,3,2,2,3,1,3,2,3,2,1,3,1,2,1,1,3,1,1,3,1,3,1,...\n",
       "49       50  3,3,3,3,3,1,1,2,3,2,1,3,2,3,1,2,1,2,3,3,3,3,2,..."
      ]
     },
     "execution_count": 5,
     "metadata": {},
     "output_type": "execute_result"
    }
   ],
   "source": [
    "dataset"
   ]
  },
  {
   "cell_type": "markdown",
   "metadata": {},
   "source": [
    "# Spatial DCNN"
   ]
  },
  {
   "cell_type": "code",
   "execution_count": 6,
   "metadata": {},
   "outputs": [],
   "source": [
    "import os\n",
    "import h5py"
   ]
  },
  {
   "cell_type": "code",
   "execution_count": 7,
   "metadata": {},
   "outputs": [],
   "source": [
    "video_ids = []\n",
    "listing = os.listdir(r\"C:/Users/Mauli/Desktop/dataset\")\n",
    "\n",
    "for i in listing:\n",
    "    path = \"C:/Users/Mauli/Desktop/dataset/\" + i\n",
    "    listing1 = os.listdir(path)\n",
    "    \n",
    "    for j in listing1:\n",
    "        video_ids.append(j)"
   ]
  },
  {
   "cell_type": "code",
   "execution_count": 8,
   "metadata": {},
   "outputs": [],
   "source": [
    "with h5py.File('seg_count_arr_own.hdf5', 'r') as f:\n",
    "    s = f.get('seg_count_arr').value"
   ]
  },
  {
   "cell_type": "code",
   "execution_count": 9,
   "metadata": {},
   "outputs": [
    {
     "data": {
      "text/plain": [
       "array([100,  28, 120, 138, 168, 282,  46,  93, 169, 134, 289, 420, 450,\n",
       "        48, 343, 435, 144, 342, 316, 324,  39,  41,  45, 148,  40,  37,\n",
       "        32,  37,  48,  38, 123, 110,  27,  45,  75,  47,  72,  51,  71,\n",
       "       111,  47,  46,  38,  41,  46,  37,  55,  43,  33,  38])"
      ]
     },
     "execution_count": 9,
     "metadata": {},
     "output_type": "execute_result"
    }
   ],
   "source": [
    "s"
   ]
  },
  {
   "cell_type": "code",
   "execution_count": 10,
   "metadata": {},
   "outputs": [],
   "source": [
    "train_video_ids = video_ids[0:15]"
   ]
  },
  {
   "cell_type": "code",
   "execution_count": 11,
   "metadata": {},
   "outputs": [],
   "source": [
    "with h5py.File('spatial_features_own.hdf5', 'r') as f:\n",
    "    spatial_features = f.get('final_feature_arr').value"
   ]
  },
  {
   "cell_type": "code",
   "execution_count": 12,
   "metadata": {},
   "outputs": [],
   "source": [
    "video_count = 0\n",
    "for i in s[0:15]:\n",
    "    video_count += i    "
   ]
  },
  {
   "cell_type": "code",
   "execution_count": 13,
   "metadata": {},
   "outputs": [],
   "source": [
    "train_spatial_features = spatial_features[0:video_count]"
   ]
  },
  {
   "cell_type": "code",
   "execution_count": 14,
   "metadata": {},
   "outputs": [
    {
     "data": {
      "text/plain": [
       "2828"
      ]
     },
     "execution_count": 14,
     "metadata": {},
     "output_type": "execute_result"
    }
   ],
   "source": [
    "len(train_spatial_features)"
   ]
  },
  {
   "cell_type": "code",
   "execution_count": 15,
   "metadata": {},
   "outputs": [],
   "source": [
    "dataset['annotations'] = [np.array(list(x.split(','))) for x in dataset.annotations]"
   ]
  },
  {
   "cell_type": "code",
   "execution_count": 16,
   "metadata": {},
   "outputs": [],
   "source": [
    "dataset['annotations'] = [x.astype(np.int) for x in dataset.annotations]"
   ]
  },
  {
   "cell_type": "code",
   "execution_count": 17,
   "metadata": {},
   "outputs": [
    {
     "data": {
      "text/plain": [
       "array([3, 3, 1, 1, 2, 2, 2, 3, 3, 2, 1, 1, 3, 3, 1, 1, 2, 2, 2, 3, 2, 2,\n",
       "       1, 1, 1, 2, 1, 1, 3, 1, 1, 3, 2, 2, 1, 1, 3, 2, 2, 1, 1, 1, 1, 3,\n",
       "       2, 2, 1, 1, 1, 1, 3, 1, 1, 3, 2, 2, 1, 1, 1, 2, 2, 2, 1, 3, 2, 3,\n",
       "       2, 2, 1, 1, 2, 2, 1, 1, 1, 3, 3, 3, 1, 1, 1, 2, 2, 1, 2, 1, 1, 3,\n",
       "       2, 1, 1, 1, 3, 2, 1, 1, 1, 2, 1, 1])"
      ]
     },
     "execution_count": 17,
     "metadata": {},
     "output_type": "execute_result"
    }
   ],
   "source": [
    "dataset['annotations'][0].astype('int')"
   ]
  },
  {
   "cell_type": "code",
   "execution_count": 18,
   "metadata": {},
   "outputs": [],
   "source": [
    "train_labels = []\n",
    "count = 0\n",
    "for i in train_video_ids[0:15]:\n",
    "    a = np.array(dataset[dataset.videoid == int(i)]['annotations'])\n",
    "    if count == 0:\n",
    "        train_labels = a\n",
    "    else:\n",
    "        train_labels = np.append(train_labels, a)\n",
    "    count += 1"
   ]
  },
  {
   "cell_type": "code",
   "execution_count": 19,
   "metadata": {},
   "outputs": [],
   "source": [
    "flat_list = [item for sublist in train_labels for item in sublist]\n",
    "train_labels = np.asarray(flat_list)"
   ]
  },
  {
   "cell_type": "code",
   "execution_count": 20,
   "metadata": {},
   "outputs": [
    {
     "data": {
      "text/plain": [
       "array([3, 3, 1, ..., 1, 1, 1])"
      ]
     },
     "execution_count": 20,
     "metadata": {},
     "output_type": "execute_result"
    }
   ],
   "source": [
    "train_labels"
   ]
  },
  {
   "cell_type": "code",
   "execution_count": 21,
   "metadata": {},
   "outputs": [
    {
     "data": {
      "text/plain": [
       "2828"
      ]
     },
     "execution_count": 21,
     "metadata": {},
     "output_type": "execute_result"
    }
   ],
   "source": [
    "len(train_labels)"
   ]
  },
  {
   "cell_type": "code",
   "execution_count": 22,
   "metadata": {},
   "outputs": [
    {
     "name": "stderr",
     "output_type": "stream",
     "text": [
      "Using TensorFlow backend.\n"
     ]
    }
   ],
   "source": [
    "import keras\n",
    "from keras.layers import Dense, Dropout, Flatten\n",
    "from keras.models import Sequential\n",
    "from keras.models import Model\n",
    "from keras.callbacks import EarlyStopping\n",
    "from sklearn.metrics import precision_score,mean_squared_error\n",
    "import matplotlib.pyplot as plt\n",
    "import tensorflow as tf\n",
    "from keras.layers import *\n",
    "from keras import backend as K\n",
    "from keras.optimizers import SGD"
   ]
  },
  {
   "cell_type": "code",
   "execution_count": 23,
   "metadata": {},
   "outputs": [],
   "source": [
    "model = Sequential()\n",
    "model.add(Dense(1000, activation='relu'))\n",
    "model.add(Dropout(0.5))\n",
    "model.add(Dense(512, activation='relu'))\n",
    "model.add(Dropout(0.5))\n",
    "model.add(Dense(256, activation='relu'))\n",
    "model.add(Dropout(0.5))\n",
    "model.add(Dense(128, activation='relu'))\n",
    "model.add(Dropout(0.5))\n",
    "model.add(Dense(64, activation='relu'))\n",
    "model.add(Dropout(0.5))\n",
    "model.add(Flatten())\n",
    "model.add(Dense(1))"
   ]
  },
  {
   "cell_type": "code",
   "execution_count": 24,
   "metadata": {},
   "outputs": [
    {
     "name": "stdout",
     "output_type": "stream",
     "text": [
      "WARNING:tensorflow:From C:\\Users\\Mauli\\Anaconda3\\lib\\site-packages\\tensorflow\\python\\framework\\op_def_library.py:263: colocate_with (from tensorflow.python.framework.ops) is deprecated and will be removed in a future version.\n",
      "Instructions for updating:\n",
      "Colocations handled automatically by placer.\n"
     ]
    }
   ],
   "source": [
    "model.compile(optimizer='rmsprop',\n",
    "              loss='mse',\n",
    "              metrics=['mae', 'accuracy'])"
   ]
  },
  {
   "cell_type": "code",
   "execution_count": 25,
   "metadata": {},
   "outputs": [
    {
     "name": "stdout",
     "output_type": "stream",
     "text": [
      "WARNING:tensorflow:From C:\\Users\\Mauli\\Anaconda3\\lib\\site-packages\\keras\\backend\\tensorflow_backend.py:3445: calling dropout (from tensorflow.python.ops.nn_ops) with keep_prob is deprecated and will be removed in a future version.\n",
      "Instructions for updating:\n",
      "Please use `rate` instead of `keep_prob`. Rate should be set to `rate = 1 - keep_prob`.\n",
      "WARNING:tensorflow:From C:\\Users\\Mauli\\Anaconda3\\lib\\site-packages\\tensorflow\\python\\ops\\math_ops.py:3066: to_int32 (from tensorflow.python.ops.math_ops) is deprecated and will be removed in a future version.\n",
      "Instructions for updating:\n",
      "Use tf.cast instead.\n"
     ]
    },
    {
     "data": {
      "text/plain": [
       "<keras.callbacks.History at 0x1b86ef65b70>"
      ]
     },
     "execution_count": 25,
     "metadata": {},
     "output_type": "execute_result"
    }
   ],
   "source": [
    "model.fit(train_spatial_features, train_labels,epochs = 0)"
   ]
  },
  {
   "cell_type": "code",
   "execution_count": 26,
   "metadata": {},
   "outputs": [],
   "source": [
    "model.load_weights('spatial_model_weights_own.h5')"
   ]
  },
  {
   "cell_type": "code",
   "execution_count": 27,
   "metadata": {},
   "outputs": [],
   "source": [
    "test_count = 0\n",
    "for i in s[16:40]:\n",
    "    test_count += i    "
   ]
  },
  {
   "cell_type": "code",
   "execution_count": 28,
   "metadata": {},
   "outputs": [],
   "source": [
    "test_spatial_features = spatial_features[video_count : video_count + test_count]"
   ]
  },
  {
   "cell_type": "code",
   "execution_count": 29,
   "metadata": {},
   "outputs": [
    {
     "data": {
      "text/plain": [
       "array([[[ 0.5117295 ,  1.4812031 ,  2.089833  , ...,  0.0320504 ,\n",
       "          0.74946517,  2.0842867 ]],\n",
       "\n",
       "       [[ 2.2174253 ,  2.5074909 ,  1.9961764 , ...,  1.0572639 ,\n",
       "         -0.278305  ,  1.2677629 ]],\n",
       "\n",
       "       [[-6.479222  , -2.2114284 , -7.797285  , ..., -3.2517078 ,\n",
       "         -2.3732724 ,  1.948557  ]],\n",
       "\n",
       "       ...,\n",
       "\n",
       "       [[-4.5808954 , -0.20696592, -0.27183923, ..., -7.720537  ,\n",
       "         -0.8091659 ,  1.9693133 ]],\n",
       "\n",
       "       [[-3.5427153 ,  0.04718582,  0.26275024, ..., -8.16752   ,\n",
       "         -0.51302606,  1.6021062 ]],\n",
       "\n",
       "       [[-0.6905319 , -0.42753932,  0.55341375, ..., -4.374134  ,\n",
       "          2.528847  ,  3.82409   ]]], dtype=float32)"
      ]
     },
     "execution_count": 29,
     "metadata": {},
     "output_type": "execute_result"
    }
   ],
   "source": [
    "test_spatial_features"
   ]
  },
  {
   "cell_type": "code",
   "execution_count": 30,
   "metadata": {},
   "outputs": [],
   "source": [
    "predicted_spatial_values = model.predict(test_spatial_features)"
   ]
  },
  {
   "cell_type": "code",
   "execution_count": 31,
   "metadata": {},
   "outputs": [
    {
     "data": {
      "text/plain": [
       "array([[1.8336589],\n",
       "       [1.9409547],\n",
       "       [1.5600754],\n",
       "       ...,\n",
       "       [2.0814466],\n",
       "       [2.265152 ],\n",
       "       [1.8372481]], dtype=float32)"
      ]
     },
     "execution_count": 31,
     "metadata": {},
     "output_type": "execute_result"
    }
   ],
   "source": [
    "predicted_spatial_values"
   ]
  },
  {
   "cell_type": "code",
   "execution_count": 32,
   "metadata": {},
   "outputs": [
    {
     "data": {
      "text/plain": [
       "array([3.2181234], dtype=float32)"
      ]
     },
     "execution_count": 32,
     "metadata": {},
     "output_type": "execute_result"
    }
   ],
   "source": [
    "max(predicted_spatial_values)"
   ]
  },
  {
   "cell_type": "code",
   "execution_count": 100,
   "metadata": {},
   "outputs": [],
   "source": [
    "pairs = []\n",
    "highlight = []\n",
    "nonhighlight = []\n",
    "training_data = []\n",
    "val_data = []\n",
    "\n",
    "start = 0\n",
    "for i in s[16:40]:\n",
    "    each_vid_features = test_spatial_features[start : start + (i - 1)]\n",
    "    each_vid_labels = predicted_spatial_values[start : start + (i - 1)]\n",
    "    \n",
    "    for j in range(each_vid_labels.size):\n",
    "        if(each_vid_labels[j] >= 2):\n",
    "            for k in range(0, each_vid_labels.size, 1):\n",
    "                    if k != j:\n",
    "                        if each_vid_labels[k] < 2:\n",
    "                            highlight.append(each_vid_features[j])\n",
    "                            highlight.append(each_vid_features[k])\n",
    "                            #t = np.array([each_vid_features[j], each_vid_features[k]])\n",
    "                            #pairs.append(t)\n",
    "    start = i        "
   ]
  },
  {
   "cell_type": "code",
   "execution_count": 101,
   "metadata": {},
   "outputs": [
    {
     "data": {
      "text/plain": [
       "131574"
      ]
     },
     "execution_count": 101,
     "metadata": {},
     "output_type": "execute_result"
    }
   ],
   "source": [
    "len(highlight)"
   ]
  },
  {
   "cell_type": "code",
   "execution_count": 102,
   "metadata": {},
   "outputs": [],
   "source": [
    "training_data.append(highlight[0:120000])"
   ]
  },
  {
   "cell_type": "code",
   "execution_count": 103,
   "metadata": {},
   "outputs": [
    {
     "data": {
      "text/plain": [
       "1"
      ]
     },
     "execution_count": 103,
     "metadata": {},
     "output_type": "execute_result"
    }
   ],
   "source": [
    "len(training_data)"
   ]
  },
  {
   "cell_type": "code",
   "execution_count": 104,
   "metadata": {},
   "outputs": [],
   "source": [
    "y_train = np.zeros(shape=(len(highlight[0:120000])))\n",
    "#y_val = np.zeros(shape=(len(val_data[0])))"
   ]
  },
  {
   "cell_type": "code",
   "execution_count": 105,
   "metadata": {},
   "outputs": [
    {
     "data": {
      "text/plain": [
       "120000"
      ]
     },
     "execution_count": 105,
     "metadata": {},
     "output_type": "execute_result"
    }
   ],
   "source": [
    "len(y_train)"
   ]
  },
  {
   "cell_type": "code",
   "execution_count": 106,
   "metadata": {},
   "outputs": [],
   "source": [
    "model1 = Sequential()\n",
    "model1.add(Dense(1000, activation='relu', input_shape=(1,1000)))\n",
    "model1.add(Dropout(0.5))\n",
    "model1.add(Dense(512, activation='relu'))\n",
    "model1.add(Dropout(0.5))\n",
    "model1.add(Dense(256, activation='relu'))\n",
    "model1.add(Dropout(0.5))\n",
    "model1.add(Dense(128, activation='relu'))\n",
    "model1.add(Dropout(0.5))\n",
    "model1.add(Dense(64, activation='relu'))\n",
    "model1.add(Dropout(0.5))\n",
    "model1.add(Flatten())\n",
    "model1.add(Dense(1))"
   ]
  },
  {
   "cell_type": "code",
   "execution_count": 107,
   "metadata": {},
   "outputs": [],
   "source": [
    "_EPSILON = K.epsilon()\n",
    "batch_size = 8\n",
    "def pair_loss(y_true,y_pred):\n",
    "    \n",
    "    y_pred = K.clip(y_pred, _EPSILON, 1.0-_EPSILON)\n",
    "    loss =  tf.convert_to_tensor(0,dtype=tf.float32)\n",
    "    g = tf.constant(1.0, shape=[1], dtype=tf.float32)\n",
    "    for i in range(0,batch_size,2):\n",
    "        try:\n",
    "            q_embedding = y_pred[i+0]\n",
    "            p_embedding =  y_pred[i+1]\n",
    "            #n_embedding = y_pred[i+2]\n",
    "            #D_q_p =  K.sqrt(K.sum((q_embedding - p_embedding)**2))\n",
    "            #D_q_n = K.sqrt(K.sum((q_embedding - n_embedding)**2))\n",
    "            loss = (loss + 1 + p_embedding - q_embedding )            \n",
    "        except:\n",
    "            continue\n",
    "    loss = loss/(batch_size/2)\n",
    "    zero = tf.constant(0.0, shape=[1], dtype=tf.float32)\n",
    "    return tf.maximum(loss,zero)"
   ]
  },
  {
   "cell_type": "code",
   "execution_count": 108,
   "metadata": {},
   "outputs": [],
   "source": [
    "model1.compile(optimizer=SGD(lr=0.001, momentum=0.9, nesterov=True),loss=pair_loss)"
   ]
  },
  {
   "cell_type": "code",
   "execution_count": 96,
   "metadata": {},
   "outputs": [],
   "source": [
    "t_data = highlight[0:120000]\n",
    "y_t = y_train[0:120000]"
   ]
  },
  {
   "cell_type": "code",
   "execution_count": 97,
   "metadata": {},
   "outputs": [
    {
     "data": {
      "text/plain": [
       "120000"
      ]
     },
     "execution_count": 97,
     "metadata": {},
     "output_type": "execute_result"
    }
   ],
   "source": [
    "len(y_t)"
   ]
  },
  {
   "cell_type": "code",
   "execution_count": 98,
   "metadata": {},
   "outputs": [
    {
     "data": {
      "text/plain": [
       "120000"
      ]
     },
     "execution_count": 98,
     "metadata": {},
     "output_type": "execute_result"
    }
   ],
   "source": [
    "len(t_data)"
   ]
  },
  {
   "cell_type": "code",
   "execution_count": 109,
   "metadata": {},
   "outputs": [
    {
     "name": "stdout",
     "output_type": "stream",
     "text": [
      "Train on 96000 samples, validate on 24000 samples\n",
      "Epoch 1/10\n",
      "96000/96000 [==============================] - 188s 2ms/step - loss: 1.0019 - val_loss: 1.0000\n",
      "Epoch 2/10\n",
      "96000/96000 [==============================] - 185s 2ms/step - loss: 1.0000 - val_loss: 1.0000\n",
      "Epoch 3/10\n",
      "96000/96000 [==============================] - 185s 2ms/step - loss: 1.0000 - val_loss: 1.0000\n",
      "Epoch 4/10\n",
      "96000/96000 [==============================] - 184s 2ms/step - loss: 0.9998 - val_loss: 1.0000\n",
      "Epoch 5/10\n",
      "96000/96000 [==============================] - 184s 2ms/step - loss: 1.0000 - val_loss: 1.0000\n",
      "Epoch 6/10\n",
      "96000/96000 [==============================] - 184s 2ms/step - loss: 0.9999 - val_loss: 1.0000\n",
      "Epoch 7/10\n",
      "96000/96000 [==============================] - 184s 2ms/step - loss: 0.9998 - val_loss: 1.0000\n",
      "Epoch 8/10\n",
      "96000/96000 [==============================] - 184s 2ms/step - loss: 0.9997 - val_loss: 1.0000\n",
      "Epoch 9/10\n",
      "96000/96000 [==============================] - 184s 2ms/step - loss: 1.0000 - val_loss: 1.0000\n",
      "Epoch 10/10\n",
      "96000/96000 [==============================] - 184s 2ms/step - loss: 1.0001 - val_loss: 1.0000\n"
     ]
    },
    {
     "data": {
      "text/plain": [
       "<keras.callbacks.History at 0x1b854339048>"
      ]
     },
     "execution_count": 109,
     "metadata": {},
     "output_type": "execute_result"
    }
   ],
   "source": [
    "model1.fit(training_data, y_train, epochs=10, batch_size = 8, validation_split= 0.2)"
   ]
  },
  {
   "cell_type": "markdown",
   "metadata": {},
   "source": [
    "# Temporal DCNN"
   ]
  },
  {
   "cell_type": "code",
   "execution_count": 110,
   "metadata": {},
   "outputs": [],
   "source": [
    "with h5py.File('temporal_features_own.hdf5', 'r') as f:\n",
    "    temporal_features = f.get('video_feature_arr').value"
   ]
  },
  {
   "cell_type": "code",
   "execution_count": 111,
   "metadata": {},
   "outputs": [],
   "source": [
    "train_temporal_features = temporal_features[0:video_count]"
   ]
  },
  {
   "cell_type": "code",
   "execution_count": 112,
   "metadata": {},
   "outputs": [
    {
     "data": {
      "text/plain": [
       "2828"
      ]
     },
     "execution_count": 112,
     "metadata": {},
     "output_type": "execute_result"
    }
   ],
   "source": [
    "len(train_temporal_features)"
   ]
  },
  {
   "cell_type": "code",
   "execution_count": 147,
   "metadata": {},
   "outputs": [],
   "source": [
    "t_model = Sequential()\n",
    "t_model.add(Dense(1000, activation='relu'))\n",
    "t_model.add(Dropout(0.5))\n",
    "t_model.add(Dense(512, activation='relu'))\n",
    "t_model.add(Dropout(0.5))\n",
    "t_model.add(Dense(256, activation='relu'))\n",
    "t_model.add(Dropout(0.5))\n",
    "t_model.add(Dense(128, activation='relu'))\n",
    "t_model.add(Dropout(0.5))\n",
    "t_model.add(Dense(64, activation='relu'))\n",
    "t_model.add(Dropout(0.5))\n",
    "t_model.add(Flatten())\n",
    "t_model.add(Dense(1))"
   ]
  },
  {
   "cell_type": "code",
   "execution_count": 122,
   "metadata": {},
   "outputs": [],
   "source": [
    "t_model.compile(optimizer='rmsprop',\n",
    "              loss='mse',\n",
    "              metrics=['mae', 'accuracy'])"
   ]
  },
  {
   "cell_type": "code",
   "execution_count": 123,
   "metadata": {},
   "outputs": [
    {
     "name": "stdout",
     "output_type": "stream",
     "text": [
      "Train on 1979 samples, validate on 849 samples\n",
      "Epoch 1/200\n",
      "1979/1979 [==============================] - 13s 6ms/step - loss: 430.0745 - mean_absolute_error: 12.8463 - acc: 0.0409 - val_loss: 3.4928 - val_mean_absolute_error: 1.7146 - val_acc: 0.0000e+00\n",
      "Epoch 2/200\n",
      "1979/1979 [==============================] - 4s 2ms/step - loss: 39.3132 - mean_absolute_error: 4.2711 - acc: 0.0879 - val_loss: 2.9438 - val_mean_absolute_error: 1.5396 - val_acc: 0.0000e+00\n",
      "Epoch 3/200\n",
      "1979/1979 [==============================] - 4s 2ms/step - loss: 12.7876 - mean_absolute_error: 2.5681 - acc: 0.1405 - val_loss: 2.8677 - val_mean_absolute_error: 1.5241 - val_acc: 0.0000e+00\n",
      "Epoch 4/200\n",
      "1979/1979 [==============================] - 4s 2ms/step - loss: 9.4908 - mean_absolute_error: 1.9952 - acc: 0.1804 - val_loss: 2.3568 - val_mean_absolute_error: 1.3485 - val_acc: 0.0000e+00\n",
      "Epoch 5/200\n",
      "1979/1979 [==============================] - 4s 2ms/step - loss: 4.0762 - mean_absolute_error: 1.4259 - acc: 0.2431 - val_loss: 2.2986 - val_mean_absolute_error: 1.3246 - val_acc: 0.0000e+00\n",
      "Epoch 6/200\n",
      "1979/1979 [==============================] - 4s 2ms/step - loss: 2.8889 - mean_absolute_error: 1.1993 - acc: 0.3098 - val_loss: 1.7107 - val_mean_absolute_error: 1.0822 - val_acc: 0.0212_absolute_error: 1.2\n",
      "Epoch 7/200\n",
      "1979/1979 [==============================] - 4s 2ms/step - loss: 1.8874 - mean_absolute_error: 1.0129 - acc: 0.3542 - val_loss: 1.3752 - val_mean_absolute_error: 0.9130 - val_acc: 0.5771\n",
      "Epoch 8/200\n",
      "1979/1979 [==============================] - 4s 2ms/step - loss: 1.6451 - mean_absolute_error: 0.9407 - acc: 0.3906 - val_loss: 1.1394 - val_mean_absolute_error: 0.7673 - val_acc: 0.6455\n",
      "Epoch 9/200\n",
      "1979/1979 [==============================] - 4s 2ms/step - loss: 1.6310 - mean_absolute_error: 0.9017 - acc: 0.3997 - val_loss: 1.0865 - val_mean_absolute_error: 0.7289 - val_acc: 0.6455\n",
      "Epoch 10/200\n",
      "1979/1979 [==============================] - 4s 2ms/step - loss: 1.8438 - mean_absolute_error: 0.8497 - acc: 0.4285 - val_loss: 0.9825 - val_mean_absolute_error: 0.6586 - val_acc: 0.6478\n",
      "Epoch 11/200\n",
      "1979/1979 [==============================] - 5s 2ms/step - loss: 1.1489 - mean_absolute_error: 0.8028 - acc: 0.4502 - val_loss: 1.0827 - val_mean_absolute_error: 0.7250 - val_acc: 0.6478\n",
      "Epoch 12/200\n",
      "1979/1979 [==============================] - 5s 2ms/step - loss: 1.1322 - mean_absolute_error: 0.7878 - acc: 0.4548 - val_loss: 0.9599 - val_mean_absolute_error: 0.6392 - val_acc: 0.6514\n",
      "Epoch 13/200\n",
      "1979/1979 [==============================] - 5s 2ms/step - loss: 1.0917 - mean_absolute_error: 0.7754 - acc: 0.4558 - val_loss: 0.9702 - val_mean_absolute_error: 0.6499 - val_acc: 0.6514\n",
      "Epoch 14/200\n",
      "1979/1979 [==============================] - 4s 2ms/step - loss: 1.3270 - mean_absolute_error: 0.7944 - acc: 0.4608 - val_loss: 0.7760 - val_mean_absolute_error: 0.5614 - val_acc: 0.6514\n",
      "Epoch 15/200\n",
      "1979/1979 [==============================] - 5s 2ms/step - loss: 0.9492 - mean_absolute_error: 0.7245 - acc: 0.4831 - val_loss: 0.7660 - val_mean_absolute_error: 0.5434 - val_acc: 0.6502\n",
      "Epoch 16/200\n",
      "1979/1979 [==============================] - 5s 2ms/step - loss: 1.0691 - mean_absolute_error: 0.7500 - acc: 0.4699 - val_loss: 0.9416 - val_mean_absolute_error: 0.6279 - val_acc: 0.6514\n",
      "Epoch 17/200\n",
      "1979/1979 [==============================] - 5s 2ms/step - loss: 1.0405 - mean_absolute_error: 0.7454 - acc: 0.4533 - val_loss: 0.8861 - val_mean_absolute_error: 0.5848 - val_acc: 0.6514\n",
      "Epoch 18/200\n",
      "1979/1979 [==============================] - 5s 3ms/step - loss: 0.9791 - mean_absolute_error: 0.7226 - acc: 0.4730 - val_loss: 0.9477 - val_mean_absolute_error: 0.6339 - val_acc: 0.6514\n",
      "Epoch 19/200\n",
      "1979/1979 [==============================] - 4s 2ms/step - loss: 0.8469 - mean_absolute_error: 0.6934 - acc: 0.4856 - val_loss: 0.6403 - val_mean_absolute_error: 0.5626 - val_acc: 0.6431\n",
      "Epoch 20/200\n",
      "1979/1979 [==============================] - 4s 2ms/step - loss: 0.8496 - mean_absolute_error: 0.6917 - acc: 0.4780 - val_loss: 0.6981 - val_mean_absolute_error: 0.5335 - val_acc: 0.6502\n",
      "Epoch 21/200\n",
      "1979/1979 [==============================] - 5s 2ms/step - loss: 0.9732 - mean_absolute_error: 0.6955 - acc: 0.4816 - val_loss: 0.8349 - val_mean_absolute_error: 0.5439 - val_acc: 0.6514\n",
      "Epoch 22/200\n",
      "1979/1979 [==============================] - 5s 2ms/step - loss: 0.7835 - mean_absolute_error: 0.6735 - acc: 0.4886 - val_loss: 0.5960 - val_mean_absolute_error: 0.5946 - val_acc: 0.5854\n",
      "Epoch 23/200\n",
      "1979/1979 [==============================] - 5s 2ms/step - loss: 0.7827 - mean_absolute_error: 0.6734 - acc: 0.4821 - val_loss: 0.7398 - val_mean_absolute_error: 0.5233 - val_acc: 0.6514n_absolute_error: 0.6738 - ac\n",
      "Epoch 24/200\n",
      "1979/1979 [==============================] - 5s 2ms/step - loss: 0.7478 - mean_absolute_error: 0.6539 - acc: 0.4957 - val_loss: 0.7636 - val_mean_absolute_error: 0.5129 - val_acc: 0.6514\n",
      "Epoch 25/200\n",
      "1979/1979 [==============================] - 5s 2ms/step - loss: 0.7261 - mean_absolute_error: 0.6469 - acc: 0.5129 - val_loss: 0.7052 - val_mean_absolute_error: 0.5281 - val_acc: 0.6514\n",
      "Epoch 26/200\n",
      "1979/1979 [==============================] - 5s 2ms/step - loss: 0.7326 - mean_absolute_error: 0.6607 - acc: 0.4735 - val_loss: 0.6443 - val_mean_absolute_error: 0.5467 - val_acc: 0.6514\n",
      "Epoch 27/200\n",
      "1979/1979 [==============================] - 5s 2ms/step - loss: 0.6841 - mean_absolute_error: 0.6380 - acc: 0.5058 - val_loss: 0.5863 - val_mean_absolute_error: 0.5890 - val_acc: 0.6384\n",
      "Epoch 28/200\n",
      "1979/1979 [==============================] - 5s 2ms/step - loss: 0.6907 - mean_absolute_error: 0.6504 - acc: 0.4962 - val_loss: 0.6267 - val_mean_absolute_error: 0.5758 - val_acc: 0.6455\n",
      "Epoch 29/200\n",
      "1979/1979 [==============================] - 5s 2ms/step - loss: 0.6816 - mean_absolute_error: 0.6531 - acc: 0.4972 - val_loss: 0.5814 - val_mean_absolute_error: 0.5943 - val_acc: 0.6325\n",
      "Epoch 30/200\n",
      "1979/1979 [==============================] - 5s 2ms/step - loss: 0.6426 - mean_absolute_error: 0.6452 - acc: 0.4826 - val_loss: 0.6027 - val_mean_absolute_error: 0.5846 - val_acc: 0.6384\n",
      "Epoch 31/200\n",
      "1979/1979 [==============================] - 5s 2ms/step - loss: 0.6618 - mean_absolute_error: 0.6430 - acc: 0.4987 - val_loss: 0.6017 - val_mean_absolute_error: 0.5838 - val_acc: 0.6478\n",
      "Epoch 32/200\n",
      "1979/1979 [==============================] - 5s 2ms/step - loss: 0.6365 - mean_absolute_error: 0.6508 - acc: 0.4841 - val_loss: 0.5700 - val_mean_absolute_error: 0.6042 - val_acc: 0.6172\n",
      "Epoch 33/200\n",
      "1979/1979 [==============================] - 5s 2ms/step - loss: 0.6176 - mean_absolute_error: 0.6375 - acc: 0.5043 - val_loss: 0.5871 - val_mean_absolute_error: 0.5862 - val_acc: 0.6455\n",
      "Epoch 34/200\n",
      "1979/1979 [==============================] - 5s 2ms/step - loss: 0.6221 - mean_absolute_error: 0.6354 - acc: 0.5124 - val_loss: 0.5683 - val_mean_absolute_error: 0.6258 - val_acc: 0.5183\n",
      "Epoch 35/200\n",
      "1979/1979 [==============================] - 5s 2ms/step - loss: 0.6213 - mean_absolute_error: 0.6468 - acc: 0.4942 - val_loss: 0.5558 - val_mean_absolute_error: 0.6138 - val_acc: 0.5995\n",
      "Epoch 36/200\n",
      "1979/1979 [==============================] - 5s 2ms/step - loss: 0.6019 - mean_absolute_error: 0.6351 - acc: 0.5154 - val_loss: 0.5791 - val_mean_absolute_error: 0.5865 - val_acc: 0.6502\n",
      "Epoch 37/200\n",
      "1979/1979 [==============================] - 5s 2ms/step - loss: 0.5828 - mean_absolute_error: 0.6283 - acc: 0.5210 - val_loss: 0.5704 - val_mean_absolute_error: 0.6647 - val_acc: 0.3616\n",
      "Epoch 38/200\n",
      "1979/1979 [==============================] - 5s 2ms/step - loss: 0.6082 - mean_absolute_error: 0.6393 - acc: 0.4977 - val_loss: 0.5516 - val_mean_absolute_error: 0.6371 - val_acc: 0.4865\n",
      "Epoch 39/200\n",
      "1979/1979 [==============================] - 5s 2ms/step - loss: 0.5697 - mean_absolute_error: 0.6311 - acc: 0.5144 - val_loss: 0.5636 - val_mean_absolute_error: 0.6505 - val_acc: 0.4311\n",
      "Epoch 40/200\n",
      "1979/1979 [==============================] - 5s 2ms/step - loss: 0.5779 - mean_absolute_error: 0.6326 - acc: 0.5104 - val_loss: 0.5519 - val_mean_absolute_error: 0.6257 - val_acc: 0.5889\n",
      "Epoch 41/200\n"
     ]
    },
    {
     "name": "stdout",
     "output_type": "stream",
     "text": [
      "1979/1979 [==============================] - 5s 2ms/step - loss: 0.5652 - mean_absolute_error: 0.6311 - acc: 0.5008 - val_loss: 0.5517 - val_mean_absolute_error: 0.6470 - val_acc: 0.4594\n",
      "Epoch 42/200\n",
      "1979/1979 [==============================] - 5s 2ms/step - loss: 0.5630 - mean_absolute_error: 0.6252 - acc: 0.5058 - val_loss: 0.5846 - val_mean_absolute_error: 0.6817 - val_acc: 0.3145\n",
      "Epoch 43/200\n",
      "1979/1979 [==============================] - 5s 2ms/step - loss: 0.5822 - mean_absolute_error: 0.6337 - acc: 0.5048 - val_loss: 0.5520 - val_mean_absolute_error: 0.6298 - val_acc: 0.5807\n",
      "Epoch 44/200\n",
      "1979/1979 [==============================] - 5s 2ms/step - loss: 0.5642 - mean_absolute_error: 0.6266 - acc: 0.5159 - val_loss: 0.5457 - val_mean_absolute_error: 0.6276 - val_acc: 0.5995\n",
      "Epoch 45/200\n",
      "1979/1979 [==============================] - 5s 2ms/step - loss: 0.5438 - mean_absolute_error: 0.6198 - acc: 0.5154 - val_loss: 0.5616 - val_mean_absolute_error: 0.6661 - val_acc: 0.3263\n",
      "Epoch 46/200\n",
      "1979/1979 [==============================] - 5s 2ms/step - loss: 0.5506 - mean_absolute_error: 0.6205 - acc: 0.5205 - val_loss: 0.5998 - val_mean_absolute_error: 0.6955 - val_acc: 0.2839\n",
      "Epoch 47/200\n",
      "1979/1979 [==============================] - 5s 2ms/step - loss: 0.5251 - mean_absolute_error: 0.6142 - acc: 0.5063 - val_loss: 0.5676 - val_mean_absolute_error: 0.6745 - val_acc: 0.3074\n",
      "Epoch 48/200\n",
      "1979/1979 [==============================] - 5s 2ms/step - loss: 0.5526 - mean_absolute_error: 0.6243 - acc: 0.5068 - val_loss: 0.5643 - val_mean_absolute_error: 0.6741 - val_acc: 0.3086\n",
      "Epoch 49/200\n",
      "1979/1979 [==============================] - 5s 2ms/step - loss: 0.5403 - mean_absolute_error: 0.6148 - acc: 0.5316 - val_loss: 0.5638 - val_mean_absolute_error: 0.6735 - val_acc: 0.3074\n",
      "Epoch 50/200\n",
      "1979/1979 [==============================] - 5s 2ms/step - loss: 0.5352 - mean_absolute_error: 0.6139 - acc: 0.5134 - val_loss: 0.5490 - val_mean_absolute_error: 0.6549 - val_acc: 0.4016\n",
      "Epoch 51/200\n",
      "1979/1979 [==============================] - 5s 2ms/step - loss: 0.5275 - mean_absolute_error: 0.6053 - acc: 0.5245 - val_loss: 0.5550 - val_mean_absolute_error: 0.6639 - val_acc: 0.3439\n",
      "Epoch 52/200\n",
      "1979/1979 [==============================] - 5s 2ms/step - loss: 0.5171 - mean_absolute_error: 0.6024 - acc: 0.5371 - val_loss: 0.6240 - val_mean_absolute_error: 0.7152 - val_acc: 0.2686\n",
      "Epoch 53/200\n",
      "1979/1979 [==============================] - 5s 2ms/step - loss: 0.5169 - mean_absolute_error: 0.6046 - acc: 0.5301 - val_loss: 0.5444 - val_mean_absolute_error: 0.6535 - val_acc: 0.3345\n",
      "Epoch 54/200\n",
      "1979/1979 [==============================] - 5s 2ms/step - loss: 0.5111 - mean_absolute_error: 0.5938 - acc: 0.5306 - val_loss: 0.5467 - val_mean_absolute_error: 0.6602 - val_acc: 0.2968\n",
      "Epoch 55/200\n",
      "1979/1979 [==============================] - 5s 2ms/step - loss: 0.5181 - mean_absolute_error: 0.6045 - acc: 0.5280 - val_loss: 0.5898 - val_mean_absolute_error: 0.6987 - val_acc: 0.2426\n",
      "Epoch 56/200\n",
      "1979/1979 [==============================] - 5s 2ms/step - loss: 0.5289 - mean_absolute_error: 0.6098 - acc: 0.4780 - val_loss: 0.5881 - val_mean_absolute_error: 0.6977 - val_acc: 0.2273\n",
      "Epoch 57/200\n",
      "1979/1979 [==============================] - 5s 2ms/step - loss: 0.5087 - mean_absolute_error: 0.5963 - acc: 0.4755 - val_loss: 0.5810 - val_mean_absolute_error: 0.6923 - val_acc: 0.2356\n",
      "Epoch 58/200\n",
      "1979/1979 [==============================] - 5s 2ms/step - loss: 0.5042 - mean_absolute_error: 0.5921 - acc: 0.4947 - val_loss: 0.5642 - val_mean_absolute_error: 0.6834 - val_acc: 0.2120\n",
      "Epoch 59/200\n",
      "1979/1979 [==============================] - 5s 2ms/step - loss: 0.5097 - mean_absolute_error: 0.5946 - acc: 0.4856 - val_loss: 0.5898 - val_mean_absolute_error: 0.7017 - val_acc: 0.2144\n",
      "Epoch 60/200\n",
      "1979/1979 [==============================] - 5s 2ms/step - loss: 0.5043 - mean_absolute_error: 0.5972 - acc: 0.4624 - val_loss: 0.5662 - val_mean_absolute_error: 0.6827 - val_acc: 0.2085\n",
      "Epoch 61/200\n",
      "1979/1979 [==============================] - 5s 2ms/step - loss: 0.5200 - mean_absolute_error: 0.5948 - acc: 0.4826 - val_loss: 0.5768 - val_mean_absolute_error: 0.6943 - val_acc: 0.2132\n",
      "Epoch 62/200\n",
      "1979/1979 [==============================] - 5s 2ms/step - loss: 0.4954 - mean_absolute_error: 0.5783 - acc: 0.5013 - val_loss: 0.5855 - val_mean_absolute_error: 0.6982 - val_acc: 0.2132\n",
      "Epoch 63/200\n",
      "1979/1979 [==============================] - 5s 2ms/step - loss: 0.4858 - mean_absolute_error: 0.5827 - acc: 0.4725 - val_loss: 0.5527 - val_mean_absolute_error: 0.6710 - val_acc: 0.2591\n",
      "Epoch 64/200\n",
      "1979/1979 [==============================] - 5s 2ms/step - loss: 0.4908 - mean_absolute_error: 0.5859 - acc: 0.4866 - val_loss: 0.6015 - val_mean_absolute_error: 0.7074 - val_acc: 0.2073\n",
      "Epoch 65/200\n",
      "1979/1979 [==============================] - 5s 2ms/step - loss: 0.4793 - mean_absolute_error: 0.5786 - acc: 0.5023 - val_loss: 0.5986 - val_mean_absolute_error: 0.7053 - val_acc: 0.2238\n",
      "Epoch 66/200\n",
      "1979/1979 [==============================] - 5s 2ms/step - loss: 0.4875 - mean_absolute_error: 0.5790 - acc: 0.5033 - val_loss: 0.8193 - val_mean_absolute_error: 0.8148 - val_acc: 0.1955\n",
      "Epoch 67/200\n",
      "1979/1979 [==============================] - 5s 2ms/step - loss: 0.4867 - mean_absolute_error: 0.5750 - acc: 0.5063 - val_loss: 0.6415 - val_mean_absolute_error: 0.7326 - val_acc: 0.2026\n",
      "Epoch 68/200\n",
      "1979/1979 [==============================] - 5s 2ms/step - loss: 0.4833 - mean_absolute_error: 0.5801 - acc: 0.4907 - val_loss: 0.6457 - val_mean_absolute_error: 0.7327 - val_acc: 0.2132\n",
      "Epoch 69/200\n",
      "1979/1979 [==============================] - 5s 2ms/step - loss: 0.4714 - mean_absolute_error: 0.5709 - acc: 0.4917 - val_loss: 0.6434 - val_mean_absolute_error: 0.7324 - val_acc: 0.2038\n",
      "Epoch 70/200\n",
      "1979/1979 [==============================] - 5s 2ms/step - loss: 0.4546 - mean_absolute_error: 0.5589 - acc: 0.5255 - val_loss: 0.7253 - val_mean_absolute_error: 0.7723 - val_acc: 0.2014\n",
      "Epoch 71/200\n",
      "1979/1979 [==============================] - 5s 3ms/step - loss: 0.4792 - mean_absolute_error: 0.5666 - acc: 0.5129 - val_loss: 0.6295 - val_mean_absolute_error: 0.7260 - val_acc: 0.2014\n",
      "Epoch 72/200\n",
      "1979/1979 [==============================] - 5s 3ms/step - loss: 0.4594 - mean_absolute_error: 0.5608 - acc: 0.5195 - val_loss: 0.6169 - val_mean_absolute_error: 0.7177 - val_acc: 0.2179\n",
      "Epoch 73/200\n",
      "1979/1979 [==============================] - 5s 2ms/step - loss: 0.4714 - mean_absolute_error: 0.5666 - acc: 0.5124 - val_loss: 0.5724 - val_mean_absolute_error: 0.6914 - val_acc: 0.2203\n",
      "Epoch 74/200\n",
      "1979/1979 [==============================] - 5s 2ms/step - loss: 0.4703 - mean_absolute_error: 0.5612 - acc: 0.5093 - val_loss: 0.6514 - val_mean_absolute_error: 0.7387 - val_acc: 0.2014\n",
      "Epoch 75/200\n",
      "1979/1979 [==============================] - 5s 2ms/step - loss: 0.4599 - mean_absolute_error: 0.5654 - acc: 0.4901 - val_loss: 0.6636 - val_mean_absolute_error: 0.7435 - val_acc: 0.2002\n",
      "Epoch 76/200\n",
      "1979/1979 [==============================] - 5s 2ms/step - loss: 0.4650 - mean_absolute_error: 0.5628 - acc: 0.4982 - val_loss: 0.7585 - val_mean_absolute_error: 0.7839 - val_acc: 0.2026\n",
      "Epoch 77/200\n",
      "1979/1979 [==============================] - 5s 2ms/step - loss: 0.4715 - mean_absolute_error: 0.5690 - acc: 0.5023 - val_loss: 0.5981 - val_mean_absolute_error: 0.7048 - val_acc: 0.2238\n",
      "Epoch 78/200\n",
      "1979/1979 [==============================] - 5s 2ms/step - loss: 0.4525 - mean_absolute_error: 0.5551 - acc: 0.5230 - val_loss: 0.6845 - val_mean_absolute_error: 0.7500 - val_acc: 0.2108\n",
      "Epoch 79/200\n",
      "1979/1979 [==============================] - 5s 2ms/step - loss: 0.4396 - mean_absolute_error: 0.5480 - acc: 0.5351 - val_loss: 0.5945 - val_mean_absolute_error: 0.7048 - val_acc: 0.2061\n",
      "Epoch 80/200\n",
      "1979/1979 [==============================] - 5s 2ms/step - loss: 0.4703 - mean_absolute_error: 0.5562 - acc: 0.5205 - val_loss: 0.5802 - val_mean_absolute_error: 0.6945 - val_acc: 0.2214.4875 -\n",
      "Epoch 81/200\n",
      "1979/1979 [==============================] - 5s 2ms/step - loss: 0.4403 - mean_absolute_error: 0.5456 - acc: 0.5250 - val_loss: 0.6962 - val_mean_absolute_error: 0.7601 - val_acc: 0.2026\n"
     ]
    },
    {
     "name": "stdout",
     "output_type": "stream",
     "text": [
      "Epoch 82/200\n",
      "1979/1979 [==============================] - 5s 2ms/step - loss: 0.4544 - mean_absolute_error: 0.5562 - acc: 0.5184 - val_loss: 0.5789 - val_mean_absolute_error: 0.6954 - val_acc: 0.2238\n",
      "Epoch 83/200\n",
      "1979/1979 [==============================] - 5s 2ms/step - loss: 0.4389 - mean_absolute_error: 0.5487 - acc: 0.5205 - val_loss: 0.5764 - val_mean_absolute_error: 0.6960 - val_acc: 0.2038\n",
      "Epoch 84/200\n",
      "1979/1979 [==============================] - 5s 2ms/step - loss: 0.4506 - mean_absolute_error: 0.5523 - acc: 0.5179 - val_loss: 0.6320 - val_mean_absolute_error: 0.7262 - val_acc: 0.2085e_error: 0.\n",
      "Epoch 85/200\n",
      "1979/1979 [==============================] - 4s 2ms/step - loss: 0.4537 - mean_absolute_error: 0.5531 - acc: 0.5331 - val_loss: 0.5718 - val_mean_absolute_error: 0.6917 - val_acc: 0.2073\n",
      "Epoch 86/200\n",
      "1979/1979 [==============================] - 4s 2ms/step - loss: 0.4580 - mean_absolute_error: 0.5568 - acc: 0.5270 - val_loss: 0.5620 - val_mean_absolute_error: 0.6850 - val_acc: 0.2014\n",
      "Epoch 87/200\n",
      "1979/1979 [==============================] - 4s 2ms/step - loss: 0.4654 - mean_absolute_error: 0.5656 - acc: 0.4972 - val_loss: 0.5695 - val_mean_absolute_error: 0.6908 - val_acc: 0.2049\n",
      "Epoch 88/200\n",
      "1979/1979 [==============================] - 4s 2ms/step - loss: 0.4442 - mean_absolute_error: 0.5515 - acc: 0.5467 - val_loss: 0.6303 - val_mean_absolute_error: 0.7274 - val_acc: 0.2014\n",
      "Epoch 89/200\n",
      "1979/1979 [==============================] - 4s 2ms/step - loss: 0.4426 - mean_absolute_error: 0.5494 - acc: 0.5230 - val_loss: 0.5688 - val_mean_absolute_error: 0.6902 - val_acc: 0.2002\n",
      "Epoch 90/200\n",
      "1979/1979 [==============================] - 5s 2ms/step - loss: 0.4514 - mean_absolute_error: 0.5553 - acc: 0.5174 - val_loss: 0.5681 - val_mean_absolute_error: 0.6910 - val_acc: 0.2038\n",
      "Epoch 91/200\n",
      "1979/1979 [==============================] - 4s 2ms/step - loss: 0.4626 - mean_absolute_error: 0.5527 - acc: 0.5189 - val_loss: 0.5667 - val_mean_absolute_error: 0.6884 - val_acc: 0.2038\n",
      "Epoch 92/200\n",
      "1979/1979 [==============================] - 4s 2ms/step - loss: 0.4753 - mean_absolute_error: 0.5705 - acc: 0.4977 - val_loss: 0.6166 - val_mean_absolute_error: 0.7206 - val_acc: 0.2014\n",
      "Epoch 93/200\n",
      "1979/1979 [==============================] - 4s 2ms/step - loss: 0.4416 - mean_absolute_error: 0.5481 - acc: 0.5200 - val_loss: 0.6365 - val_mean_absolute_error: 0.7299 - val_acc: 0.2014\n",
      "Epoch 94/200\n",
      "1979/1979 [==============================] - 5s 2ms/step - loss: 0.4599 - mean_absolute_error: 0.5415 - acc: 0.5407 - val_loss: 0.5897 - val_mean_absolute_error: 0.7011 - val_acc: 0.2250\n",
      "Epoch 95/200\n",
      "1979/1979 [==============================] - 5s 2ms/step - loss: 0.4487 - mean_absolute_error: 0.5536 - acc: 0.5114 - val_loss: 0.6425 - val_mean_absolute_error: 0.7311 - val_acc: 0.2002\n",
      "Epoch 96/200\n",
      "1979/1979 [==============================] - 5s 3ms/step - loss: 0.4435 - mean_absolute_error: 0.5465 - acc: 0.5483 - val_loss: 0.5972 - val_mean_absolute_error: 0.7076 - val_acc: 0.2085\n",
      "Epoch 97/200\n",
      "1979/1979 [==============================] - 5s 2ms/step - loss: 0.4584 - mean_absolute_error: 0.5457 - acc: 0.5518 - val_loss: 0.5861 - val_mean_absolute_error: 0.7036 - val_acc: 0.2014\n",
      "Epoch 98/200\n",
      "1979/1979 [==============================] - 5s 3ms/step - loss: 0.4417 - mean_absolute_error: 0.5488 - acc: 0.5164 - val_loss: 0.6020 - val_mean_absolute_error: 0.7123 - val_acc: 0.2026\n",
      "Epoch 99/200\n",
      "1979/1979 [==============================] - 5s 2ms/step - loss: 0.4669 - mean_absolute_error: 0.5595 - acc: 0.5270 - val_loss: 0.6935 - val_mean_absolute_error: 0.7575 - val_acc: 0.2155\n",
      "Epoch 100/200\n",
      "1979/1979 [==============================] - 5s 2ms/step - loss: 0.4355 - mean_absolute_error: 0.5433 - acc: 0.5356 - val_loss: 0.5962 - val_mean_absolute_error: 0.7097 - val_acc: 0.2014\n",
      "Epoch 101/200\n",
      "1979/1979 [==============================] - 5s 2ms/step - loss: 0.4367 - mean_absolute_error: 0.5376 - acc: 0.5326 - val_loss: 0.6107 - val_mean_absolute_error: 0.7166 - val_acc: 0.2132\n",
      "Epoch 102/200\n",
      "1979/1979 [==============================] - 5s 2ms/step - loss: 0.4320 - mean_absolute_error: 0.5359 - acc: 0.5498 - val_loss: 0.6840 - val_mean_absolute_error: 0.7533 - val_acc: 0.2014\n",
      "Epoch 103/200\n",
      "1979/1979 [==============================] - 5s 2ms/step - loss: 0.4480 - mean_absolute_error: 0.5463 - acc: 0.5306 - val_loss: 0.6169 - val_mean_absolute_error: 0.7207 - val_acc: 0.2014\n",
      "Epoch 104/200\n",
      "1979/1979 [==============================] - 5s 2ms/step - loss: 0.4370 - mean_absolute_error: 0.5450 - acc: 0.5296 - val_loss: 0.6088 - val_mean_absolute_error: 0.7132 - val_acc: 0.2155\n",
      "Epoch 105/200\n",
      "1979/1979 [==============================] - 5s 2ms/step - loss: 0.4326 - mean_absolute_error: 0.5351 - acc: 0.5392 - val_loss: 0.7216 - val_mean_absolute_error: 0.7724 - val_acc: 0.2014\n",
      "Epoch 106/200\n",
      "1979/1979 [==============================] - 5s 2ms/step - loss: 0.4338 - mean_absolute_error: 0.5355 - acc: 0.5538 - val_loss: 0.6119 - val_mean_absolute_error: 0.7185 - val_acc: 0.2014\n",
      "Epoch 107/200\n",
      "1979/1979 [==============================] - 4s 2ms/step - loss: 0.4380 - mean_absolute_error: 0.5397 - acc: 0.5361 - val_loss: 0.6555 - val_mean_absolute_error: 0.7397 - val_acc: 0.2026\n",
      "Epoch 108/200\n",
      "1979/1979 [==============================] - 4s 2ms/step - loss: 0.4296 - mean_absolute_error: 0.5359 - acc: 0.5291 - val_loss: 0.7028 - val_mean_absolute_error: 0.7632 - val_acc: 0.2002\n",
      "Epoch 109/200\n",
      "1979/1979 [==============================] - 4s 2ms/step - loss: 0.4270 - mean_absolute_error: 0.5358 - acc: 0.5291 - val_loss: 0.6054 - val_mean_absolute_error: 0.7148 - val_acc: 0.2026\n",
      "Epoch 110/200\n",
      "1979/1979 [==============================] - 4s 2ms/step - loss: 0.4393 - mean_absolute_error: 0.5412 - acc: 0.5326 - val_loss: 0.6192 - val_mean_absolute_error: 0.7210 - val_acc: 0.2038\n",
      "Epoch 111/200\n",
      "1979/1979 [==============================] - 4s 2ms/step - loss: 0.4195 - mean_absolute_error: 0.5225 - acc: 0.5513 - val_loss: 0.6017 - val_mean_absolute_error: 0.7134 - val_acc: 0.2014\n",
      "Epoch 112/200\n",
      "1979/1979 [==============================] - 4s 2ms/step - loss: 0.4416 - mean_absolute_error: 0.5396 - acc: 0.5402 - val_loss: 0.6092 - val_mean_absolute_error: 0.7157 - val_acc: 0.2061\n",
      "Epoch 113/200\n",
      "1979/1979 [==============================] - 4s 2ms/step - loss: 0.4199 - mean_absolute_error: 0.5246 - acc: 0.5574 - val_loss: 0.6498 - val_mean_absolute_error: 0.7358 - val_acc: 0.2002\n",
      "Epoch 114/200\n",
      "1979/1979 [==============================] - 4s 2ms/step - loss: 0.4439 - mean_absolute_error: 0.5469 - acc: 0.5270 - val_loss: 0.7782 - val_mean_absolute_error: 0.7974 - val_acc: 0.1991\n",
      "Epoch 115/200\n",
      "1979/1979 [==============================] - 4s 2ms/step - loss: 0.4531 - mean_absolute_error: 0.5470 - acc: 0.5280 - val_loss: 0.6803 - val_mean_absolute_error: 0.7511 - val_acc: 0.2002\n",
      "Epoch 116/200\n",
      "1979/1979 [==============================] - 4s 2ms/step - loss: 0.4284 - mean_absolute_error: 0.5363 - acc: 0.5498 - val_loss: 0.6798 - val_mean_absolute_error: 0.7511 - val_acc: 0.2014\n",
      "Epoch 117/200\n",
      "1979/1979 [==============================] - 4s 2ms/step - loss: 0.4209 - mean_absolute_error: 0.5375 - acc: 0.5250 - val_loss: 0.6218 - val_mean_absolute_error: 0.7209 - val_acc: 0.2073\n",
      "Epoch 118/200\n",
      "1979/1979 [==============================] - 4s 2ms/step - loss: 0.4034 - mean_absolute_error: 0.5171 - acc: 0.5584 - val_loss: 0.6111 - val_mean_absolute_error: 0.7167 - val_acc: 0.2073\n",
      "Epoch 119/200\n",
      "1979/1979 [==============================] - 4s 2ms/step - loss: 0.4337 - mean_absolute_error: 0.5321 - acc: 0.5513 - val_loss: 0.6840 - val_mean_absolute_error: 0.7527 - val_acc: 0.2144\n",
      "Epoch 120/200\n",
      "1979/1979 [==============================] - 4s 2ms/step - loss: 0.4135 - mean_absolute_error: 0.5207 - acc: 0.5589 - val_loss: 0.6395 - val_mean_absolute_error: 0.7316 - val_acc: 0.2026\n",
      "Epoch 121/200\n",
      "1979/1979 [==============================] - 4s 2ms/step - loss: 0.4183 - mean_absolute_error: 0.5237 - acc: 0.5680 - val_loss: 0.6306 - val_mean_absolute_error: 0.7270 - val_acc: 0.2026\n",
      "Epoch 122/200\n",
      "1979/1979 [==============================] - 4s 2ms/step - loss: 0.4149 - mean_absolute_error: 0.5220 - acc: 0.5558 - val_loss: 0.6384 - val_mean_absolute_error: 0.7330 - val_acc: 0.2014\n"
     ]
    },
    {
     "name": "stdout",
     "output_type": "stream",
     "text": [
      "Epoch 123/200\n",
      "1979/1979 [==============================] - 4s 2ms/step - loss: 0.4161 - mean_absolute_error: 0.5291 - acc: 0.5432 - val_loss: 0.7385 - val_mean_absolute_error: 0.7801 - val_acc: 0.2026\n",
      "Epoch 124/200\n",
      "1979/1979 [==============================] - 5s 2ms/step - loss: 0.4279 - mean_absolute_error: 0.5357 - acc: 0.5503 - val_loss: 0.5769 - val_mean_absolute_error: 0.6968 - val_acc: 0.2014\n",
      "Epoch 125/200\n",
      "1979/1979 [==============================] - 5s 2ms/step - loss: 0.4373 - mean_absolute_error: 0.5434 - acc: 0.5250 - val_loss: 0.6696 - val_mean_absolute_error: 0.7462 - val_acc: 0.2014\n",
      "Epoch 126/200\n",
      "1979/1979 [==============================] - 4s 2ms/step - loss: 0.4177 - mean_absolute_error: 0.5257 - acc: 0.5472 - val_loss: 0.6354 - val_mean_absolute_error: 0.7312 - val_acc: 0.2014\n",
      "Epoch 127/200\n",
      "1979/1979 [==============================] - 5s 2ms/step - loss: 0.4312 - mean_absolute_error: 0.5336 - acc: 0.5366 - val_loss: 0.5601 - val_mean_absolute_error: 0.6834 - val_acc: 0.2203\n",
      "Epoch 128/200\n",
      "1979/1979 [==============================] - 5s 2ms/step - loss: 0.4034 - mean_absolute_error: 0.5173 - acc: 0.5488 - val_loss: 0.6362 - val_mean_absolute_error: 0.7317 - val_acc: 0.2002\n",
      "Epoch 129/200\n",
      "1979/1979 [==============================] - 4s 2ms/step - loss: 0.4139 - mean_absolute_error: 0.5242 - acc: 0.5644 - val_loss: 0.6074 - val_mean_absolute_error: 0.7111 - val_acc: 0.2273\n",
      "Epoch 130/200\n",
      "1979/1979 [==============================] - 4s 2ms/step - loss: 0.4242 - mean_absolute_error: 0.5335 - acc: 0.5356 - val_loss: 0.5966 - val_mean_absolute_error: 0.7089 - val_acc: 0.2085\n",
      "Epoch 131/200\n",
      "1979/1979 [==============================] - 4s 2ms/step - loss: 0.4217 - mean_absolute_error: 0.5313 - acc: 0.5447 - val_loss: 0.5802 - val_mean_absolute_error: 0.6980 - val_acc: 0.2238\n",
      "Epoch 132/200\n",
      "1979/1979 [==============================] - 4s 2ms/step - loss: 0.4243 - mean_absolute_error: 0.5274 - acc: 0.5609 - val_loss: 0.6579 - val_mean_absolute_error: 0.7359 - val_acc: 0.2203\n",
      "Epoch 133/200\n",
      "1979/1979 [==============================] - 4s 2ms/step - loss: 0.4175 - mean_absolute_error: 0.5323 - acc: 0.5225 - val_loss: 0.5959 - val_mean_absolute_error: 0.7099 - val_acc: 0.2026\n",
      "Epoch 134/200\n",
      "1979/1979 [==============================] - 4s 2ms/step - loss: 0.4136 - mean_absolute_error: 0.5193 - acc: 0.5609 - val_loss: 0.6096 - val_mean_absolute_error: 0.7139 - val_acc: 0.2108\n",
      "Epoch 135/200\n",
      "1979/1979 [==============================] - 4s 2ms/step - loss: 0.4458 - mean_absolute_error: 0.5380 - acc: 0.5594 - val_loss: 0.6433 - val_mean_absolute_error: 0.7335 - val_acc: 0.2038\n",
      "Epoch 136/200\n",
      "1979/1979 [==============================] - 4s 2ms/step - loss: 0.4051 - mean_absolute_error: 0.5186 - acc: 0.5644 - val_loss: 0.6713 - val_mean_absolute_error: 0.7485 - val_acc: 0.2002\n",
      "Epoch 137/200\n",
      "1979/1979 [==============================] - 5s 2ms/step - loss: 0.4176 - mean_absolute_error: 0.5298 - acc: 0.5447 - val_loss: 0.6426 - val_mean_absolute_error: 0.7302 - val_acc: 0.2073\n",
      "Epoch 138/200\n",
      "1979/1979 [==============================] - 5s 2ms/step - loss: 0.4134 - mean_absolute_error: 0.5276 - acc: 0.5503 - val_loss: 0.6716 - val_mean_absolute_error: 0.7472 - val_acc: 0.1991\n",
      "Epoch 139/200\n",
      "1979/1979 [==============================] - 5s 3ms/step - loss: 0.4174 - mean_absolute_error: 0.5223 - acc: 0.5680 - val_loss: 0.6253 - val_mean_absolute_error: 0.7222 - val_acc: 0.2026\n",
      "Epoch 140/200\n",
      "1979/1979 [==============================] - 5s 2ms/step - loss: 0.4342 - mean_absolute_error: 0.5335 - acc: 0.5452 - val_loss: 0.6433 - val_mean_absolute_error: 0.7326 - val_acc: 0.2014\n",
      "Epoch 141/200\n",
      "1979/1979 [==============================] - 5s 2ms/step - loss: 0.3984 - mean_absolute_error: 0.5092 - acc: 0.5821 - val_loss: 0.5952 - val_mean_absolute_error: 0.7105 - val_acc: 0.2014\n",
      "Epoch 142/200\n",
      "1979/1979 [==============================] - 4s 2ms/step - loss: 0.4182 - mean_absolute_error: 0.5237 - acc: 0.5498 - val_loss: 0.6334 - val_mean_absolute_error: 0.7279 - val_acc: 0.2108n_absolute_error: 0.5338 - acc: 0.5 - ETA: 1s - loss: 0.4325 - mean_absolute_error\n",
      "Epoch 143/200\n",
      "1979/1979 [==============================] - 5s 2ms/step - loss: 0.4298 - mean_absolute_error: 0.5245 - acc: 0.5579 - val_loss: 0.6061 - val_mean_absolute_error: 0.7142 - val_acc: 0.2038\n",
      "Epoch 144/200\n",
      "1979/1979 [==============================] - 5s 2ms/step - loss: 0.4133 - mean_absolute_error: 0.5232 - acc: 0.5538 - val_loss: 0.5831 - val_mean_absolute_error: 0.7002 - val_acc: 0.2179\n",
      "Epoch 145/200\n",
      "1979/1979 [==============================] - 5s 2ms/step - loss: 0.3945 - mean_absolute_error: 0.5101 - acc: 0.5720 - val_loss: 0.5976 - val_mean_absolute_error: 0.7045 - val_acc: 0.2367\n",
      "Epoch 146/200\n",
      "1979/1979 [==============================] - 5s 3ms/step - loss: 0.4099 - mean_absolute_error: 0.5169 - acc: 0.5695 - val_loss: 0.5798 - val_mean_absolute_error: 0.6974 - val_acc: 0.2014absolute_error: 0.5151 - ac - ETA: 1s - loss: 0.4093 - mean_absolute_error: 0.5171 \n",
      "Epoch 147/200\n",
      "1979/1979 [==============================] - 5s 2ms/step - loss: 0.4075 - mean_absolute_error: 0.5179 - acc: 0.5594 - val_loss: 0.6310 - val_mean_absolute_error: 0.7263 - val_acc: 0.2014\n",
      "Epoch 148/200\n",
      "1979/1979 [==============================] - 5s 2ms/step - loss: 0.3972 - mean_absolute_error: 0.5079 - acc: 0.5937 - val_loss: 0.6150 - val_mean_absolute_error: 0.7183 - val_acc: 0.2014\n",
      "Epoch 149/200\n",
      "1979/1979 [==============================] - 5s 2ms/step - loss: 0.4150 - mean_absolute_error: 0.5168 - acc: 0.5700 - val_loss: 0.6530 - val_mean_absolute_error: 0.7391 - val_acc: 0.2026\n",
      "Epoch 150/200\n",
      "1979/1979 [==============================] - 5s 2ms/step - loss: 0.4222 - mean_absolute_error: 0.5210 - acc: 0.5649 - val_loss: 0.5789 - val_mean_absolute_error: 0.6990 - val_acc: 0.2026\n",
      "Epoch 151/200\n",
      "1979/1979 [==============================] - 5s 2ms/step - loss: 0.4219 - mean_absolute_error: 0.5276 - acc: 0.5584 - val_loss: 0.6342 - val_mean_absolute_error: 0.7280 - val_acc: 0.2002\n",
      "Epoch 152/200\n",
      "1979/1979 [==============================] - 4s 2ms/step - loss: 0.4033 - mean_absolute_error: 0.5095 - acc: 0.5897 - val_loss: 0.6209 - val_mean_absolute_error: 0.7235 - val_acc: 0.2014\n",
      "Epoch 153/200\n",
      "1979/1979 [==============================] - 4s 2ms/step - loss: 0.4205 - mean_absolute_error: 0.5261 - acc: 0.5523 - val_loss: 0.5895 - val_mean_absolute_error: 0.7069 - val_acc: 0.2014\n",
      "Epoch 154/200\n",
      "1979/1979 [==============================] - 5s 2ms/step - loss: 0.4117 - mean_absolute_error: 0.5249 - acc: 0.5503 - val_loss: 0.6523 - val_mean_absolute_error: 0.7377 - val_acc: 0.2026\n",
      "Epoch 155/200\n",
      "1979/1979 [==============================] - 5s 2ms/step - loss: 0.4201 - mean_absolute_error: 0.5188 - acc: 0.5705 - val_loss: 0.6077 - val_mean_absolute_error: 0.7147 - val_acc: 0.2038\n",
      "Epoch 156/200\n",
      "1979/1979 [==============================] - 5s 2ms/step - loss: 0.4000 - mean_absolute_error: 0.5161 - acc: 0.5725 - val_loss: 0.6513 - val_mean_absolute_error: 0.7356 - val_acc: 0.2061\n",
      "Epoch 157/200\n",
      "1979/1979 [==============================] - 5s 2ms/step - loss: 0.4092 - mean_absolute_error: 0.5136 - acc: 0.5745 - val_loss: 0.7498 - val_mean_absolute_error: 0.7841 - val_acc: 0.2014\n",
      "Epoch 158/200\n",
      "1979/1979 [==============================] - 5s 2ms/step - loss: 0.3983 - mean_absolute_error: 0.5073 - acc: 0.5882 - val_loss: 0.6164 - val_mean_absolute_error: 0.7204 - val_acc: 0.2038\n",
      "Epoch 159/200\n",
      "1979/1979 [==============================] - 5s 2ms/step - loss: 0.4017 - mean_absolute_error: 0.5119 - acc: 0.5629 - val_loss: 0.6117 - val_mean_absolute_error: 0.7195 - val_acc: 0.2014\n",
      "Epoch 160/200\n",
      "1979/1979 [==============================] - 5s 2ms/step - loss: 0.3953 - mean_absolute_error: 0.5110 - acc: 0.5614 - val_loss: 0.6685 - val_mean_absolute_error: 0.7419 - val_acc: 0.2038\n",
      "Epoch 161/200\n",
      "1979/1979 [==============================] - 5s 2ms/step - loss: 0.3942 - mean_absolute_error: 0.5062 - acc: 0.5872 - val_loss: 0.5652 - val_mean_absolute_error: 0.6892 - val_acc: 0.2038\n",
      "Epoch 162/200\n",
      "1979/1979 [==============================] - 5s 2ms/step - loss: 0.3840 - mean_absolute_error: 0.5032 - acc: 0.5882 - val_loss: 0.6054 - val_mean_absolute_error: 0.7147 - val_acc: 0.2014\n"
     ]
    },
    {
     "name": "stdout",
     "output_type": "stream",
     "text": [
      "Epoch 163/200\n",
      "1979/1979 [==============================] - 4s 2ms/step - loss: 0.4036 - mean_absolute_error: 0.5142 - acc: 0.5791 - val_loss: 0.6023 - val_mean_absolute_error: 0.7139 - val_acc: 0.2014\n",
      "Epoch 164/200\n",
      "1979/1979 [==============================] - 4s 2ms/step - loss: 0.3931 - mean_absolute_error: 0.5093 - acc: 0.5750 - val_loss: 0.6602 - val_mean_absolute_error: 0.7383 - val_acc: 0.2379\n",
      "Epoch 165/200\n",
      "1979/1979 [==============================] - 4s 2ms/step - loss: 0.3956 - mean_absolute_error: 0.5089 - acc: 0.5887 - val_loss: 0.6181 - val_mean_absolute_error: 0.7227 - val_acc: 0.2026\n",
      "Epoch 166/200\n",
      "1979/1979 [==============================] - 4s 2ms/step - loss: 0.3888 - mean_absolute_error: 0.5067 - acc: 0.5816 - val_loss: 0.5980 - val_mean_absolute_error: 0.7083 - val_acc: 0.2026\n",
      "Epoch 167/200\n",
      "1979/1979 [==============================] - 4s 2ms/step - loss: 0.3788 - mean_absolute_error: 0.4970 - acc: 0.6013 - val_loss: 0.6632 - val_mean_absolute_error: 0.7420 - val_acc: 0.2179\n",
      "Epoch 168/200\n",
      "1979/1979 [==============================] - 4s 2ms/step - loss: 0.3821 - mean_absolute_error: 0.5025 - acc: 0.5882 - val_loss: 0.6957 - val_mean_absolute_error: 0.7586 - val_acc: 0.2026\n",
      "Epoch 169/200\n",
      "1979/1979 [==============================] - 4s 2ms/step - loss: 0.4021 - mean_absolute_error: 0.5125 - acc: 0.5806 - val_loss: 0.5893 - val_mean_absolute_error: 0.7046 - val_acc: 0.2026\n",
      "Epoch 170/200\n",
      "1979/1979 [==============================] - 5s 2ms/step - loss: 0.3894 - mean_absolute_error: 0.5020 - acc: 0.5877 - val_loss: 0.6454 - val_mean_absolute_error: 0.7336 - val_acc: 0.2073\n",
      "Epoch 171/200\n",
      "1979/1979 [==============================] - 5s 2ms/step - loss: 0.4023 - mean_absolute_error: 0.5129 - acc: 0.5766 - val_loss: 0.6216 - val_mean_absolute_error: 0.7214 - val_acc: 0.2203\n",
      "Epoch 172/200\n",
      "1979/1979 [==============================] - 4s 2ms/step - loss: 0.3880 - mean_absolute_error: 0.5029 - acc: 0.5978 - val_loss: 0.6446 - val_mean_absolute_error: 0.7345 - val_acc: 0.2026\n",
      "Epoch 173/200\n",
      "1979/1979 [==============================] - 4s 2ms/step - loss: 0.4194 - mean_absolute_error: 0.5193 - acc: 0.5654 - val_loss: 0.6367 - val_mean_absolute_error: 0.7312 - val_acc: 0.2097\n",
      "Epoch 174/200\n",
      "1979/1979 [==============================] - 4s 2ms/step - loss: 0.3939 - mean_absolute_error: 0.5112 - acc: 0.5856 - val_loss: 0.6374 - val_mean_absolute_error: 0.7290 - val_acc: 0.2061\n",
      "Epoch 175/200\n",
      "1979/1979 [==============================] - 5s 2ms/step - loss: 0.3938 - mean_absolute_error: 0.5092 - acc: 0.5806 - val_loss: 0.6455 - val_mean_absolute_error: 0.7313 - val_acc: 0.2132\n",
      "Epoch 176/200\n",
      "1979/1979 [==============================] - 5s 3ms/step - loss: 0.4062 - mean_absolute_error: 0.5151 - acc: 0.5690 - val_loss: 0.5830 - val_mean_absolute_error: 0.7011 - val_acc: 0.2038\n",
      "Epoch 177/200\n",
      "1979/1979 [==============================] - 6s 3ms/step - loss: 0.3911 - mean_absolute_error: 0.5025 - acc: 0.5836 - val_loss: 0.5801 - val_mean_absolute_error: 0.6984 - val_acc: 0.2026\n",
      "Epoch 178/200\n",
      "1979/1979 [==============================] - 5s 2ms/step - loss: 0.4096 - mean_absolute_error: 0.5165 - acc: 0.5685 - val_loss: 0.6780 - val_mean_absolute_error: 0.7501 - val_acc: 0.2002\n",
      "Epoch 179/200\n",
      "1979/1979 [==============================] - 5s 2ms/step - loss: 0.3828 - mean_absolute_error: 0.5002 - acc: 0.5937 - val_loss: 0.6403 - val_mean_absolute_error: 0.7261 - val_acc: 0.2344\n",
      "Epoch 180/200\n",
      "1979/1979 [==============================] - 5s 2ms/step - loss: 0.3768 - mean_absolute_error: 0.4979 - acc: 0.5993 - val_loss: 0.6360 - val_mean_absolute_error: 0.7259 - val_acc: 0.2085\n",
      "Epoch 181/200\n",
      "1979/1979 [==============================] - 5s 3ms/step - loss: 0.4118 - mean_absolute_error: 0.5188 - acc: 0.5670 - val_loss: 0.5987 - val_mean_absolute_error: 0.7098 - val_acc: 0.2038\n",
      "Epoch 182/200\n",
      "1979/1979 [==============================] - 6s 3ms/step - loss: 0.4042 - mean_absolute_error: 0.5081 - acc: 0.5963 - val_loss: 0.6332 - val_mean_absolute_error: 0.7267 - val_acc: 0.2167\n",
      "Epoch 183/200\n",
      "1979/1979 [==============================] - 6s 3ms/step - loss: 0.3977 - mean_absolute_error: 0.5049 - acc: 0.5942 - val_loss: 0.6734 - val_mean_absolute_error: 0.7464 - val_acc: 0.2061\n",
      "Epoch 184/200\n",
      "1979/1979 [==============================] - 5s 3ms/step - loss: 0.4096 - mean_absolute_error: 0.5082 - acc: 0.5902 - val_loss: 0.5900 - val_mean_absolute_error: 0.7043 - val_acc: 0.2026\n",
      "Epoch 185/200\n",
      "1979/1979 [==============================] - 5s 3ms/step - loss: 0.3999 - mean_absolute_error: 0.5081 - acc: 0.5811 - val_loss: 0.6712 - val_mean_absolute_error: 0.7443 - val_acc: 0.2002\n",
      "Epoch 186/200\n",
      "1979/1979 [==============================] - 5s 2ms/step - loss: 0.3921 - mean_absolute_error: 0.5024 - acc: 0.6084 - val_loss: 0.6203 - val_mean_absolute_error: 0.7206 - val_acc: 0.2014\n",
      "Epoch 187/200\n",
      "1979/1979 [==============================] - 5s 2ms/step - loss: 0.4090 - mean_absolute_error: 0.5180 - acc: 0.5755 - val_loss: 0.5570 - val_mean_absolute_error: 0.6805 - val_acc: 0.2108\n",
      "Epoch 188/200\n",
      "1979/1979 [==============================] - 5s 2ms/step - loss: 0.4220 - mean_absolute_error: 0.5198 - acc: 0.5750 - val_loss: 0.5929 - val_mean_absolute_error: 0.7060 - val_acc: 0.2026\n",
      "Epoch 189/200\n",
      "1979/1979 [==============================] - 5s 2ms/step - loss: 0.4033 - mean_absolute_error: 0.5093 - acc: 0.5862 - val_loss: 0.6597 - val_mean_absolute_error: 0.7382 - val_acc: 0.2014\n",
      "Epoch 190/200\n",
      "1979/1979 [==============================] - 5s 3ms/step - loss: 0.4112 - mean_absolute_error: 0.5069 - acc: 0.6074 - val_loss: 0.6707 - val_mean_absolute_error: 0.7465 - val_acc: 0.2026\n",
      "Epoch 191/200\n",
      "1979/1979 [==============================] - 5s 3ms/step - loss: 0.4189 - mean_absolute_error: 0.5125 - acc: 0.5867 - val_loss: 0.6948 - val_mean_absolute_error: 0.7560 - val_acc: 0.2026\n",
      "Epoch 192/200\n",
      "1979/1979 [==============================] - 5s 2ms/step - loss: 0.3954 - mean_absolute_error: 0.5035 - acc: 0.6018 - val_loss: 0.5690 - val_mean_absolute_error: 0.6879 - val_acc: 0.2532\n",
      "Epoch 193/200\n",
      "1979/1979 [==============================] - 5s 2ms/step - loss: 0.3991 - mean_absolute_error: 0.5022 - acc: 0.5877 - val_loss: 0.6618 - val_mean_absolute_error: 0.7378 - val_acc: 0.2120\n",
      "Epoch 194/200\n",
      "1979/1979 [==============================] - 5s 2ms/step - loss: 0.3907 - mean_absolute_error: 0.5061 - acc: 0.5781 - val_loss: 0.6256 - val_mean_absolute_error: 0.7210 - val_acc: 0.2297\n",
      "Epoch 195/200\n",
      "1979/1979 [==============================] - 5s 2ms/step - loss: 0.3992 - mean_absolute_error: 0.4995 - acc: 0.6049 - val_loss: 0.5851 - val_mean_absolute_error: 0.7035 - val_acc: 0.2014\n",
      "Epoch 196/200\n",
      "1979/1979 [==============================] - 5s 2ms/step - loss: 0.3682 - mean_absolute_error: 0.4888 - acc: 0.6160 - val_loss: 0.5818 - val_mean_absolute_error: 0.6963 - val_acc: 0.2344\n",
      "Epoch 197/200\n",
      "1979/1979 [==============================] - 5s 2ms/step - loss: 0.3740 - mean_absolute_error: 0.4921 - acc: 0.5917 - val_loss: 0.5913 - val_mean_absolute_error: 0.7054 - val_acc: 0.2049\n",
      "Epoch 198/200\n",
      "1979/1979 [==============================] - 5s 2ms/step - loss: 0.4014 - mean_absolute_error: 0.5006 - acc: 0.5973 - val_loss: 0.5986 - val_mean_absolute_error: 0.7101 - val_acc: 0.2026\n",
      "Epoch 199/200\n",
      "1979/1979 [==============================] - 5s 2ms/step - loss: 0.3784 - mean_absolute_error: 0.4979 - acc: 0.5993 - val_loss: 0.5988 - val_mean_absolute_error: 0.7088 - val_acc: 0.2002\n",
      "Epoch 200/200\n",
      "1979/1979 [==============================] - 5s 2ms/step - loss: 0.4129 - mean_absolute_error: 0.5177 - acc: 0.5745 - val_loss: 0.6841 - val_mean_absolute_error: 0.7513 - val_acc: 0.1991\n"
     ]
    },
    {
     "data": {
      "text/plain": [
       "<keras.callbacks.History at 0x1b84d9d3b00>"
      ]
     },
     "execution_count": 123,
     "metadata": {},
     "output_type": "execute_result"
    }
   ],
   "source": [
    "t_model.fit(train_temporal_features, train_labels,epochs = 200,batch_size = 32,validation_split=0.3)"
   ]
  },
  {
   "cell_type": "code",
   "execution_count": 124,
   "metadata": {},
   "outputs": [],
   "source": [
    "t_model.save_weights('temporal_model_weights_own.h5')"
   ]
  },
  {
   "cell_type": "code",
   "execution_count": 125,
   "metadata": {},
   "outputs": [],
   "source": [
    "test_temporal_features = temporal_features[video_count : video_count + test_count]"
   ]
  },
  {
   "cell_type": "code",
   "execution_count": 126,
   "metadata": {},
   "outputs": [],
   "source": [
    "predicted_temporal_values = t_model.predict(test_temporal_features)"
   ]
  },
  {
   "cell_type": "code",
   "execution_count": 127,
   "metadata": {},
   "outputs": [
    {
     "data": {
      "text/plain": [
       "array([[1.7080928],\n",
       "       [1.7772608],\n",
       "       [1.7531437],\n",
       "       ...,\n",
       "       [1.3411776],\n",
       "       [1.3900609],\n",
       "       [1.4385917]], dtype=float32)"
      ]
     },
     "execution_count": 127,
     "metadata": {},
     "output_type": "execute_result"
    }
   ],
   "source": [
    "predicted_temporal_values"
   ]
  },
  {
   "cell_type": "code",
   "execution_count": 128,
   "metadata": {},
   "outputs": [
    {
     "data": {
      "text/plain": [
       "array([4.332162], dtype=float32)"
      ]
     },
     "execution_count": 128,
     "metadata": {},
     "output_type": "execute_result"
    }
   ],
   "source": [
    "max(predicted_temporal_values)"
   ]
  },
  {
   "cell_type": "code",
   "execution_count": 131,
   "metadata": {},
   "outputs": [],
   "source": [
    "t_highlight = []\n",
    "t_nonhighlight = []\n",
    "t_training_data = []\n",
    "t_val_data = []\n",
    "\n",
    "start = 0\n",
    "for i in s[16:40]:\n",
    "    each_vid_features = test_temporal_features[start : start + (i - 1)]\n",
    "    each_vid_labels = predicted_temporal_values[start : start + (i - 1)]\n",
    "    \n",
    "    for j in range(each_vid_labels.size):\n",
    "        if(each_vid_labels[j] >= 2):\n",
    "            for k in range(0, each_vid_labels.size, 1):\n",
    "                    if k != j:\n",
    "                        if each_vid_labels[k] < 2:\n",
    "                            t_highlight.append(each_vid_features[j])\n",
    "                            t_highlight.append(each_vid_features[k])\n",
    "                            #t = np.array([each_vid_features[j], each_vid_features[k]])\n",
    "                            #pairs.append(t)\n",
    "    start = i        "
   ]
  },
  {
   "cell_type": "code",
   "execution_count": 132,
   "metadata": {},
   "outputs": [
    {
     "data": {
      "text/plain": [
       "140140"
      ]
     },
     "execution_count": 132,
     "metadata": {},
     "output_type": "execute_result"
    }
   ],
   "source": [
    "len(t_highlight)"
   ]
  },
  {
   "cell_type": "code",
   "execution_count": 137,
   "metadata": {},
   "outputs": [],
   "source": [
    "t_training_data.append(t_highlight[0:140000])"
   ]
  },
  {
   "cell_type": "code",
   "execution_count": 138,
   "metadata": {},
   "outputs": [],
   "source": [
    "t_y_train = np.zeros(shape=(len(t_highlight[0:140000])))"
   ]
  },
  {
   "cell_type": "code",
   "execution_count": 148,
   "metadata": {},
   "outputs": [],
   "source": [
    "t_model1 = Sequential()\n",
    "t_model1.add(Dense(1000, activation='relu', input_shape=(1,4096)))\n",
    "t_model1.add(Dropout(0.5))\n",
    "t_model1.add(Dense(512, activation='relu'))\n",
    "t_model1.add(Dropout(0.5))\n",
    "t_model1.add(Dense(256, activation='relu'))\n",
    "t_model1.add(Dropout(0.5))\n",
    "t_model1.add(Dense(128, activation='relu'))\n",
    "t_model1.add(Dropout(0.5))\n",
    "t_model1.add(Dense(64, activation='relu'))\n",
    "t_model1.add(Dropout(0.5))\n",
    "t_model1.add(Flatten())\n",
    "t_model1.add(Dense(1))"
   ]
  },
  {
   "cell_type": "code",
   "execution_count": 149,
   "metadata": {},
   "outputs": [],
   "source": [
    "_EPSILON = K.epsilon()\n",
    "batch_size = 32\n",
    "def t_pair_loss(y_true,y_pred):\n",
    "    \n",
    "    y_pred = K.clip(y_pred, _EPSILON, 1.0-_EPSILON)\n",
    "    loss =  tf.convert_to_tensor(0,dtype=tf.float32)\n",
    "    g = tf.constant(1.0, shape=[1], dtype=tf.float32)\n",
    "    for i in range(0,batch_size,2):\n",
    "        try:\n",
    "            q_embedding = y_pred[i+0]\n",
    "            p_embedding =  y_pred[i+1]\n",
    "            #n_embedding = y_pred[i+2]\n",
    "            #D_q_p =  K.sqrt(K.sum((q_embedding - p_embedding)**2))\n",
    "            #D_q_n = K.sqrt(K.sum((q_embedding - n_embedding)**2))\n",
    "            loss = (loss + 1 + p_embedding - q_embedding )            \n",
    "        except:\n",
    "            continue\n",
    "    loss = loss/(batch_size/2)\n",
    "    zero = tf.constant(0.0, shape=[1], dtype=tf.float32)\n",
    "    return tf.maximum(loss,zero)"
   ]
  },
  {
   "cell_type": "code",
   "execution_count": 150,
   "metadata": {},
   "outputs": [],
   "source": [
    "t_model1.compile(optimizer=SGD(lr=0.001, momentum=0.9, nesterov=True),loss = t_pair_loss)"
   ]
  },
  {
   "cell_type": "code",
   "execution_count": null,
   "metadata": {},
   "outputs": [
    {
     "name": "stdout",
     "output_type": "stream",
     "text": [
      "Train on 112000 samples, validate on 28000 samples\n",
      "Epoch 1/10\n",
      "112000/112000 [==============================] - 285s 3ms/step - loss: 0.9998 - val_loss: 1.0000\n",
      "Epoch 2/10\n",
      "112000/112000 [==============================] - 1058s 9ms/step - loss: 1.0002 - val_loss: 1.0000\n",
      "Epoch 3/10\n",
      "  9152/112000 [=>............................] - ETA: 29:08 - loss: 1.0011"
     ]
    }
   ],
   "source": [
    "t_model1.fit(t_training_data, t_y_train, epochs=10, batch_size = 32, validation_split= 0.2)"
   ]
  }
 ],
 "metadata": {
  "kernelspec": {
   "display_name": "Python 3",
   "language": "python",
   "name": "python3"
  },
  "language_info": {
   "codemirror_mode": {
    "name": "ipython",
    "version": 3
   },
   "file_extension": ".py",
   "mimetype": "text/x-python",
   "name": "python",
   "nbconvert_exporter": "python",
   "pygments_lexer": "ipython3",
   "version": "3.7.1"
  }
 },
 "nbformat": 4,
 "nbformat_minor": 2
}
