{
 "cells": [
  {
   "cell_type": "code",
   "execution_count": 1,
   "metadata": {},
   "outputs": [],
   "source": [
    "import pandas as pd \n",
    "import numpy as np"
   ]
  },
  {
   "cell_type": "code",
   "execution_count": 2,
   "metadata": {},
   "outputs": [],
   "source": [
    "columns = ['videoid', 'annotations']\n",
    "dataset = pd.read_csv('Dataset.csv', encoding = 'utf-8', names = columns)"
   ]
  },
  {
   "cell_type": "code",
   "execution_count": 3,
   "metadata": {},
   "outputs": [],
   "source": [
    "dataset.to_pickle(\"dataset.pkl\") "
   ]
  },
  {
   "cell_type": "code",
   "execution_count": 4,
   "metadata": {},
   "outputs": [],
   "source": [
    "dataset = pd.read_pickle(\"dataset.pkl\")"
   ]
  },
  {
   "cell_type": "code",
   "execution_count": 5,
   "metadata": {},
   "outputs": [
    {
     "data": {
      "text/html": [
       "<div>\n",
       "<style scoped>\n",
       "    .dataframe tbody tr th:only-of-type {\n",
       "        vertical-align: middle;\n",
       "    }\n",
       "\n",
       "    .dataframe tbody tr th {\n",
       "        vertical-align: top;\n",
       "    }\n",
       "\n",
       "    .dataframe thead th {\n",
       "        text-align: right;\n",
       "    }\n",
       "</style>\n",
       "<table border=\"1\" class=\"dataframe\">\n",
       "  <thead>\n",
       "    <tr style=\"text-align: right;\">\n",
       "      <th></th>\n",
       "      <th>videoid</th>\n",
       "      <th>annotations</th>\n",
       "    </tr>\n",
       "  </thead>\n",
       "  <tbody>\n",
       "    <tr>\n",
       "      <th>0</th>\n",
       "      <td>1</td>\n",
       "      <td>3,3,1,1,2,2,2,3,3,2,1,1,3,3,1,1,2,2,2,3,2,2,1,...</td>\n",
       "    </tr>\n",
       "    <tr>\n",
       "      <th>1</th>\n",
       "      <td>2</td>\n",
       "      <td>3,1,2,2,3,1,1,1,1,2,2,1,2,2,2,2,2,3,2,2,3,1,1,...</td>\n",
       "    </tr>\n",
       "    <tr>\n",
       "      <th>2</th>\n",
       "      <td>3</td>\n",
       "      <td>1,1,1,3,2,2,1,1,2,2,2,2,2,2,2,1,1,2,3,1,3,3,2,...</td>\n",
       "    </tr>\n",
       "    <tr>\n",
       "      <th>3</th>\n",
       "      <td>4</td>\n",
       "      <td>1,1,1,2,3,2,3,2,2,3,2,2,2,3,2,3,3,1,1,3,2,2,2,...</td>\n",
       "    </tr>\n",
       "    <tr>\n",
       "      <th>4</th>\n",
       "      <td>5</td>\n",
       "      <td>1,1,1,1,1,1,1,1,1,1,1,1,1,1,1,1,1,2,2,2,1,1,2,...</td>\n",
       "    </tr>\n",
       "    <tr>\n",
       "      <th>5</th>\n",
       "      <td>6</td>\n",
       "      <td>3,1,2,2,3,2,2,3,2,2,2,3,3,2,2,3,3,2,3,1,2,2,3,...</td>\n",
       "    </tr>\n",
       "    <tr>\n",
       "      <th>6</th>\n",
       "      <td>7</td>\n",
       "      <td>1,1,1,1,1,1,2,2,2,2,1,1,1,1,1,1,1,2,1,1,1,1,1,...</td>\n",
       "    </tr>\n",
       "    <tr>\n",
       "      <th>7</th>\n",
       "      <td>8</td>\n",
       "      <td>3,2,1,1,1,1,1,1,1,1,3,1,1,1,1,3,1,1,1,1,1,1,1,...</td>\n",
       "    </tr>\n",
       "    <tr>\n",
       "      <th>8</th>\n",
       "      <td>9</td>\n",
       "      <td>1,3,1,1,1,1,2,2,2,2,3,1,1,1,1,1,2,3,2,1,1,1,1,...</td>\n",
       "    </tr>\n",
       "    <tr>\n",
       "      <th>9</th>\n",
       "      <td>10</td>\n",
       "      <td>1,2,3,3,3,2,3,2,3,1,1,1,3,3,3,3,3,2,3,1,3,2,2,...</td>\n",
       "    </tr>\n",
       "    <tr>\n",
       "      <th>10</th>\n",
       "      <td>11</td>\n",
       "      <td>3,1,2,3,3,2,1,1,1,1,1,1,1,3,2,2,3,2,1,2,1,3,1,...</td>\n",
       "    </tr>\n",
       "    <tr>\n",
       "      <th>11</th>\n",
       "      <td>12</td>\n",
       "      <td>3,3,2,1,2,3,1,3,2,3,2,2,2,1,1,1,1,3,2,3,3,2,2,...</td>\n",
       "    </tr>\n",
       "    <tr>\n",
       "      <th>12</th>\n",
       "      <td>13</td>\n",
       "      <td>1,3,2,1,2,3,1,1,1,1,1,3,2,3,3,2,1,3,3,2,1,1,2,...</td>\n",
       "    </tr>\n",
       "    <tr>\n",
       "      <th>13</th>\n",
       "      <td>14</td>\n",
       "      <td>3,2,2,3,2,2,3,1,1,3,3,1,2,1,2,2,1,1,2,1,2,1,1,...</td>\n",
       "    </tr>\n",
       "    <tr>\n",
       "      <th>14</th>\n",
       "      <td>15</td>\n",
       "      <td>3,2,3,2,3,1,2,3,2,3,1,3,1,2,1,1,1,2,1,2,1,3,1,...</td>\n",
       "    </tr>\n",
       "    <tr>\n",
       "      <th>15</th>\n",
       "      <td>16</td>\n",
       "      <td>1,1,3,3,3,2,1,1,3,3,2,1,3,3,2,3,3,2,3,2,3,2,3,...</td>\n",
       "    </tr>\n",
       "    <tr>\n",
       "      <th>16</th>\n",
       "      <td>17</td>\n",
       "      <td>1,1,1,1,2,3,2,2,1,2,3,3,2,3,3,2,1,3,2,1,1,1,2,...</td>\n",
       "    </tr>\n",
       "    <tr>\n",
       "      <th>17</th>\n",
       "      <td>18</td>\n",
       "      <td>3,2,2,1,1,1,2,3,1,2,1,1,3,3,2,1,1,2,2,3,2,1,3,...</td>\n",
       "    </tr>\n",
       "    <tr>\n",
       "      <th>18</th>\n",
       "      <td>19</td>\n",
       "      <td>3,3,3,1,2,3,1,2,3,3,2,1,1,3,3,1,3,2,1,2,3,1,1,...</td>\n",
       "    </tr>\n",
       "    <tr>\n",
       "      <th>19</th>\n",
       "      <td>20</td>\n",
       "      <td>1,1,3,1,3,2,2,3,1,1,1,2,2,1,3,3,2,2,1,3,1,1,1,...</td>\n",
       "    </tr>\n",
       "    <tr>\n",
       "      <th>20</th>\n",
       "      <td>21</td>\n",
       "      <td>2,2,1,1,3,1,1,2,1,1,2,3,2,1,3,2,1,3,2,3,2,1,1,...</td>\n",
       "    </tr>\n",
       "    <tr>\n",
       "      <th>21</th>\n",
       "      <td>22</td>\n",
       "      <td>2,3,2,3,3,3,2,2,3,2,1,1,3,2,2,2,1,1,1,1,2,1,1,...</td>\n",
       "    </tr>\n",
       "    <tr>\n",
       "      <th>22</th>\n",
       "      <td>23</td>\n",
       "      <td>3,3,2,3,2,2,3,3,2,2,1,1,3,1,3,2,3,3,2,3,2,1,1,...</td>\n",
       "    </tr>\n",
       "    <tr>\n",
       "      <th>23</th>\n",
       "      <td>24</td>\n",
       "      <td>3,3,3,2,3,3,1,1,1,3,1,3,3,1,2,3,1,1,1,1,2,3,1,...</td>\n",
       "    </tr>\n",
       "    <tr>\n",
       "      <th>24</th>\n",
       "      <td>25</td>\n",
       "      <td>3,3,3,3,3,2,3,2,1,3,3,3,1,1,1,1,1,3,3,2,1,1,1,...</td>\n",
       "    </tr>\n",
       "    <tr>\n",
       "      <th>25</th>\n",
       "      <td>26</td>\n",
       "      <td>1,2,2,3,1,1,1,3,2,1,3,1,1,1,3,2,2,3,3,2,1,1,3,...</td>\n",
       "    </tr>\n",
       "    <tr>\n",
       "      <th>26</th>\n",
       "      <td>27</td>\n",
       "      <td>3,3,3,3,3,3,3,2,1,1,3,3,3,2,1,1,1,1,3,3,1,1,1,...</td>\n",
       "    </tr>\n",
       "    <tr>\n",
       "      <th>27</th>\n",
       "      <td>28</td>\n",
       "      <td>3,3,3,3,3,3,3,3,3,3,3,3,3,3,3,3,3,3,3,3,3,3,3,...</td>\n",
       "    </tr>\n",
       "    <tr>\n",
       "      <th>28</th>\n",
       "      <td>29</td>\n",
       "      <td>3,1,1,1,2,1,1,1,1,1,1,2,2,3,1,1,1,1,1,1,1,2,1,...</td>\n",
       "    </tr>\n",
       "    <tr>\n",
       "      <th>29</th>\n",
       "      <td>30</td>\n",
       "      <td>3,3,2,1,1,3,2,3,2,1,3,3,3,3,2,2,2,1,3,1,1,1,1,...</td>\n",
       "    </tr>\n",
       "    <tr>\n",
       "      <th>30</th>\n",
       "      <td>31</td>\n",
       "      <td>3,2,2,3,3,1,3,3,3,2,3,3,3,2,3,2,1,1,3,1,3,3,1,...</td>\n",
       "    </tr>\n",
       "    <tr>\n",
       "      <th>31</th>\n",
       "      <td>32</td>\n",
       "      <td>2,3,2,3,2,3,1,2,3,1,1,2,3,1,2,1,3,1,3,2,3,1,3,...</td>\n",
       "    </tr>\n",
       "    <tr>\n",
       "      <th>32</th>\n",
       "      <td>33</td>\n",
       "      <td>3,3,2,2,1,3,3,3,1,2,3,1,2,3,3,1,3,1,3,2,3,2,3,...</td>\n",
       "    </tr>\n",
       "    <tr>\n",
       "      <th>33</th>\n",
       "      <td>34</td>\n",
       "      <td>3,1,1,3,1,2,3,1,2,3,1,3,2,1,3,1,3,2,3,3,2,1,3,...</td>\n",
       "    </tr>\n",
       "    <tr>\n",
       "      <th>34</th>\n",
       "      <td>35</td>\n",
       "      <td>3,3,3,2,2,3,2,1,3,2,3,2,1,3,3,2,3,2,1,3,3,1,3,...</td>\n",
       "    </tr>\n",
       "    <tr>\n",
       "      <th>35</th>\n",
       "      <td>36</td>\n",
       "      <td>3,2,1,1,1,1,1,2,1,1,1,2,1,1,1,2,2,3,3,2,3,2,3,...</td>\n",
       "    </tr>\n",
       "    <tr>\n",
       "      <th>36</th>\n",
       "      <td>37</td>\n",
       "      <td>3,1,1,1,2,1,1,1,1,2,1,1,2,1,1,2,1,1,2,1,1,2,1,...</td>\n",
       "    </tr>\n",
       "    <tr>\n",
       "      <th>37</th>\n",
       "      <td>38</td>\n",
       "      <td>3,2,1,1,3,2,1,2,1,1,1,3,2,3,2,3,3,3,3,3,2,3,3,...</td>\n",
       "    </tr>\n",
       "    <tr>\n",
       "      <th>38</th>\n",
       "      <td>39</td>\n",
       "      <td>3,1,1,3,1,1,1,3,1,1,1,1,1,1,1,3,1,1,1,3,1,1,3,...</td>\n",
       "    </tr>\n",
       "    <tr>\n",
       "      <th>39</th>\n",
       "      <td>40</td>\n",
       "      <td>3,1,1,3,3,1,1,1,1,2,2,3,1,2,2,1,3,3,1,1,3,2,2,...</td>\n",
       "    </tr>\n",
       "    <tr>\n",
       "      <th>40</th>\n",
       "      <td>41</td>\n",
       "      <td>3,3,3,3,1,3,3,2,2,3,1,3,1,2,3,1,3,1,2,1,3,1,1,...</td>\n",
       "    </tr>\n",
       "    <tr>\n",
       "      <th>41</th>\n",
       "      <td>42</td>\n",
       "      <td>1,3,2,1,1,3,3,3,3,2,3,1,3,3,3,2,3,3,1,3,1,3,3,...</td>\n",
       "    </tr>\n",
       "    <tr>\n",
       "      <th>42</th>\n",
       "      <td>43</td>\n",
       "      <td>3,2,3,2,1,3,2,3,2,3,2,1,3,1,1,1,3,1,1,3,1,1,1,...</td>\n",
       "    </tr>\n",
       "    <tr>\n",
       "      <th>43</th>\n",
       "      <td>44</td>\n",
       "      <td>3,2,1,2,3,3,1,3,3,1,3,3,3,3,3,1,3,1,3,3,3,3,3,...</td>\n",
       "    </tr>\n",
       "    <tr>\n",
       "      <th>44</th>\n",
       "      <td>45</td>\n",
       "      <td>3,2,3,3,3,2,3,2,2,3,3,3,1,3,1,2,2,3,2,1,3,3,1,...</td>\n",
       "    </tr>\n",
       "    <tr>\n",
       "      <th>45</th>\n",
       "      <td>46</td>\n",
       "      <td>1,3,3,1,3,1,3,3,3,2,3,3,2,1,3,1,2,2,3,1,1,1,3,...</td>\n",
       "    </tr>\n",
       "    <tr>\n",
       "      <th>46</th>\n",
       "      <td>47</td>\n",
       "      <td>3,2,3,3,3,3,2,3,1,3,1,1,2,3,3,3,3,2,1,3,2,3,3,...</td>\n",
       "    </tr>\n",
       "    <tr>\n",
       "      <th>47</th>\n",
       "      <td>48</td>\n",
       "      <td>3,3,1,2,2,3,2,3,3,3,1,1,3,3,2,1,1,3,3,1,1,3,2,...</td>\n",
       "    </tr>\n",
       "    <tr>\n",
       "      <th>48</th>\n",
       "      <td>49</td>\n",
       "      <td>1,3,2,2,3,1,3,2,3,2,1,3,1,2,1,1,3,1,1,3,1,3,1,...</td>\n",
       "    </tr>\n",
       "    <tr>\n",
       "      <th>49</th>\n",
       "      <td>50</td>\n",
       "      <td>3,3,3,3,3,1,1,2,3,2,1,3,2,3,1,2,1,2,3,3,3,3,2,...</td>\n",
       "    </tr>\n",
       "  </tbody>\n",
       "</table>\n",
       "</div>"
      ],
      "text/plain": [
       "    videoid                                        annotations\n",
       "0         1  3,3,1,1,2,2,2,3,3,2,1,1,3,3,1,1,2,2,2,3,2,2,1,...\n",
       "1         2  3,1,2,2,3,1,1,1,1,2,2,1,2,2,2,2,2,3,2,2,3,1,1,...\n",
       "2         3  1,1,1,3,2,2,1,1,2,2,2,2,2,2,2,1,1,2,3,1,3,3,2,...\n",
       "3         4  1,1,1,2,3,2,3,2,2,3,2,2,2,3,2,3,3,1,1,3,2,2,2,...\n",
       "4         5  1,1,1,1,1,1,1,1,1,1,1,1,1,1,1,1,1,2,2,2,1,1,2,...\n",
       "5         6  3,1,2,2,3,2,2,3,2,2,2,3,3,2,2,3,3,2,3,1,2,2,3,...\n",
       "6         7  1,1,1,1,1,1,2,2,2,2,1,1,1,1,1,1,1,2,1,1,1,1,1,...\n",
       "7         8  3,2,1,1,1,1,1,1,1,1,3,1,1,1,1,3,1,1,1,1,1,1,1,...\n",
       "8         9  1,3,1,1,1,1,2,2,2,2,3,1,1,1,1,1,2,3,2,1,1,1,1,...\n",
       "9        10  1,2,3,3,3,2,3,2,3,1,1,1,3,3,3,3,3,2,3,1,3,2,2,...\n",
       "10       11  3,1,2,3,3,2,1,1,1,1,1,1,1,3,2,2,3,2,1,2,1,3,1,...\n",
       "11       12  3,3,2,1,2,3,1,3,2,3,2,2,2,1,1,1,1,3,2,3,3,2,2,...\n",
       "12       13  1,3,2,1,2,3,1,1,1,1,1,3,2,3,3,2,1,3,3,2,1,1,2,...\n",
       "13       14  3,2,2,3,2,2,3,1,1,3,3,1,2,1,2,2,1,1,2,1,2,1,1,...\n",
       "14       15  3,2,3,2,3,1,2,3,2,3,1,3,1,2,1,1,1,2,1,2,1,3,1,...\n",
       "15       16  1,1,3,3,3,2,1,1,3,3,2,1,3,3,2,3,3,2,3,2,3,2,3,...\n",
       "16       17  1,1,1,1,2,3,2,2,1,2,3,3,2,3,3,2,1,3,2,1,1,1,2,...\n",
       "17       18  3,2,2,1,1,1,2,3,1,2,1,1,3,3,2,1,1,2,2,3,2,1,3,...\n",
       "18       19  3,3,3,1,2,3,1,2,3,3,2,1,1,3,3,1,3,2,1,2,3,1,1,...\n",
       "19       20  1,1,3,1,3,2,2,3,1,1,1,2,2,1,3,3,2,2,1,3,1,1,1,...\n",
       "20       21  2,2,1,1,3,1,1,2,1,1,2,3,2,1,3,2,1,3,2,3,2,1,1,...\n",
       "21       22  2,3,2,3,3,3,2,2,3,2,1,1,3,2,2,2,1,1,1,1,2,1,1,...\n",
       "22       23  3,3,2,3,2,2,3,3,2,2,1,1,3,1,3,2,3,3,2,3,2,1,1,...\n",
       "23       24  3,3,3,2,3,3,1,1,1,3,1,3,3,1,2,3,1,1,1,1,2,3,1,...\n",
       "24       25  3,3,3,3,3,2,3,2,1,3,3,3,1,1,1,1,1,3,3,2,1,1,1,...\n",
       "25       26  1,2,2,3,1,1,1,3,2,1,3,1,1,1,3,2,2,3,3,2,1,1,3,...\n",
       "26       27  3,3,3,3,3,3,3,2,1,1,3,3,3,2,1,1,1,1,3,3,1,1,1,...\n",
       "27       28  3,3,3,3,3,3,3,3,3,3,3,3,3,3,3,3,3,3,3,3,3,3,3,...\n",
       "28       29  3,1,1,1,2,1,1,1,1,1,1,2,2,3,1,1,1,1,1,1,1,2,1,...\n",
       "29       30  3,3,2,1,1,3,2,3,2,1,3,3,3,3,2,2,2,1,3,1,1,1,1,...\n",
       "30       31  3,2,2,3,3,1,3,3,3,2,3,3,3,2,3,2,1,1,3,1,3,3,1,...\n",
       "31       32  2,3,2,3,2,3,1,2,3,1,1,2,3,1,2,1,3,1,3,2,3,1,3,...\n",
       "32       33  3,3,2,2,1,3,3,3,1,2,3,1,2,3,3,1,3,1,3,2,3,2,3,...\n",
       "33       34  3,1,1,3,1,2,3,1,2,3,1,3,2,1,3,1,3,2,3,3,2,1,3,...\n",
       "34       35  3,3,3,2,2,3,2,1,3,2,3,2,1,3,3,2,3,2,1,3,3,1,3,...\n",
       "35       36  3,2,1,1,1,1,1,2,1,1,1,2,1,1,1,2,2,3,3,2,3,2,3,...\n",
       "36       37  3,1,1,1,2,1,1,1,1,2,1,1,2,1,1,2,1,1,2,1,1,2,1,...\n",
       "37       38  3,2,1,1,3,2,1,2,1,1,1,3,2,3,2,3,3,3,3,3,2,3,3,...\n",
       "38       39  3,1,1,3,1,1,1,3,1,1,1,1,1,1,1,3,1,1,1,3,1,1,3,...\n",
       "39       40  3,1,1,3,3,1,1,1,1,2,2,3,1,2,2,1,3,3,1,1,3,2,2,...\n",
       "40       41  3,3,3,3,1,3,3,2,2,3,1,3,1,2,3,1,3,1,2,1,3,1,1,...\n",
       "41       42  1,3,2,1,1,3,3,3,3,2,3,1,3,3,3,2,3,3,1,3,1,3,3,...\n",
       "42       43  3,2,3,2,1,3,2,3,2,3,2,1,3,1,1,1,3,1,1,3,1,1,1,...\n",
       "43       44  3,2,1,2,3,3,1,3,3,1,3,3,3,3,3,1,3,1,3,3,3,3,3,...\n",
       "44       45  3,2,3,3,3,2,3,2,2,3,3,3,1,3,1,2,2,3,2,1,3,3,1,...\n",
       "45       46  1,3,3,1,3,1,3,3,3,2,3,3,2,1,3,1,2,2,3,1,1,1,3,...\n",
       "46       47  3,2,3,3,3,3,2,3,1,3,1,1,2,3,3,3,3,2,1,3,2,3,3,...\n",
       "47       48  3,3,1,2,2,3,2,3,3,3,1,1,3,3,2,1,1,3,3,1,1,3,2,...\n",
       "48       49  1,3,2,2,3,1,3,2,3,2,1,3,1,2,1,1,3,1,1,3,1,3,1,...\n",
       "49       50  3,3,3,3,3,1,1,2,3,2,1,3,2,3,1,2,1,2,3,3,3,3,2,..."
      ]
     },
     "execution_count": 5,
     "metadata": {},
     "output_type": "execute_result"
    }
   ],
   "source": [
    "dataset"
   ]
  },
  {
   "cell_type": "markdown",
   "metadata": {},
   "source": [
    "# Spatial DCNN"
   ]
  },
  {
   "cell_type": "code",
   "execution_count": 6,
   "metadata": {},
   "outputs": [],
   "source": [
    "import os\n",
    "import h5py"
   ]
  },
  {
   "cell_type": "code",
   "execution_count": 7,
   "metadata": {},
   "outputs": [],
   "source": [
    "video_ids = []\n",
    "listing = os.listdir(r\"C:/Users/Mauli/Desktop/dataset\")\n",
    "\n",
    "for i in listing:\n",
    "    path = \"C:/Users/Mauli/Desktop/dataset/\" + i\n",
    "    listing1 = os.listdir(path)\n",
    "    \n",
    "    for j in listing1:\n",
    "        video_ids.append(j)"
   ]
  },
  {
   "cell_type": "code",
   "execution_count": 8,
   "metadata": {},
   "outputs": [],
   "source": [
    "with h5py.File('seg_count_arr_own.hdf5', 'r') as f:\n",
    "    s = f.get('seg_count_arr').value"
   ]
  },
  {
   "cell_type": "code",
   "execution_count": 9,
   "metadata": {},
   "outputs": [
    {
     "data": {
      "text/plain": [
       "array([100,  28, 120, 138, 168, 282,  46,  93, 169, 134, 289, 420, 450,\n",
       "        48, 343, 435, 144, 342, 316, 324,  39,  41,  45, 148,  40,  37,\n",
       "        32,  37,  48,  38, 123, 110,  27,  45,  75,  47,  72,  51,  71,\n",
       "       111,  47,  46,  38,  41,  46,  37,  55,  43,  33,  38])"
      ]
     },
     "execution_count": 9,
     "metadata": {},
     "output_type": "execute_result"
    }
   ],
   "source": [
    "s"
   ]
  },
  {
   "cell_type": "code",
   "execution_count": 10,
   "metadata": {},
   "outputs": [],
   "source": [
    "train_video_ids = video_ids[0:15]"
   ]
  },
  {
   "cell_type": "code",
   "execution_count": 11,
   "metadata": {},
   "outputs": [],
   "source": [
    "with h5py.File('spatial_features_own.hdf5', 'r') as f:\n",
    "    spatial_features = f.get('final_feature_arr').value"
   ]
  },
  {
   "cell_type": "code",
   "execution_count": 12,
   "metadata": {},
   "outputs": [],
   "source": [
    "video_count = 0\n",
    "for i in s[0:15]:\n",
    "    video_count += i    "
   ]
  },
  {
   "cell_type": "code",
   "execution_count": 13,
   "metadata": {},
   "outputs": [],
   "source": [
    "train_spatial_features = spatial_features[0:video_count]"
   ]
  },
  {
   "cell_type": "code",
   "execution_count": 14,
   "metadata": {},
   "outputs": [
    {
     "data": {
      "text/plain": [
       "2828"
      ]
     },
     "execution_count": 14,
     "metadata": {},
     "output_type": "execute_result"
    }
   ],
   "source": [
    "len(train_spatial_features)"
   ]
  },
  {
   "cell_type": "code",
   "execution_count": 15,
   "metadata": {},
   "outputs": [],
   "source": [
    "dataset['annotations'] = [np.array(list(x.split(','))) for x in dataset.annotations]"
   ]
  },
  {
   "cell_type": "code",
   "execution_count": 16,
   "metadata": {},
   "outputs": [],
   "source": [
    "dataset['annotations'] = [x.astype(np.int) for x in dataset.annotations]"
   ]
  },
  {
   "cell_type": "code",
   "execution_count": 17,
   "metadata": {},
   "outputs": [
    {
     "data": {
      "text/plain": [
       "array([3, 3, 1, 1, 2, 2, 2, 3, 3, 2, 1, 1, 3, 3, 1, 1, 2, 2, 2, 3, 2, 2,\n",
       "       1, 1, 1, 2, 1, 1, 3, 1, 1, 3, 2, 2, 1, 1, 3, 2, 2, 1, 1, 1, 1, 3,\n",
       "       2, 2, 1, 1, 1, 1, 3, 1, 1, 3, 2, 2, 1, 1, 1, 2, 2, 2, 1, 3, 2, 3,\n",
       "       2, 2, 1, 1, 2, 2, 1, 1, 1, 3, 3, 3, 1, 1, 1, 2, 2, 1, 2, 1, 1, 3,\n",
       "       2, 1, 1, 1, 3, 2, 1, 1, 1, 2, 1, 1])"
      ]
     },
     "execution_count": 17,
     "metadata": {},
     "output_type": "execute_result"
    }
   ],
   "source": [
    "dataset['annotations'][0].astype('int')"
   ]
  },
  {
   "cell_type": "code",
   "execution_count": 18,
   "metadata": {},
   "outputs": [],
   "source": [
    "train_labels = []\n",
    "count = 0\n",
    "for i in train_video_ids[0:15]:\n",
    "    a = np.array(dataset[dataset.videoid == int(i)]['annotations'])\n",
    "    if count == 0:\n",
    "        train_labels = a\n",
    "    else:\n",
    "        train_labels = np.append(train_labels, a)\n",
    "    count += 1"
   ]
  },
  {
   "cell_type": "code",
   "execution_count": 19,
   "metadata": {},
   "outputs": [],
   "source": [
    "flat_list = [item for sublist in train_labels for item in sublist]\n",
    "train_labels = np.asarray(flat_list)"
   ]
  },
  {
   "cell_type": "code",
   "execution_count": 20,
   "metadata": {},
   "outputs": [
    {
     "data": {
      "text/plain": [
       "array([3, 3, 1, ..., 1, 1, 1])"
      ]
     },
     "execution_count": 20,
     "metadata": {},
     "output_type": "execute_result"
    }
   ],
   "source": [
    "train_labels"
   ]
  },
  {
   "cell_type": "code",
   "execution_count": 21,
   "metadata": {},
   "outputs": [
    {
     "data": {
      "text/plain": [
       "2828"
      ]
     },
     "execution_count": 21,
     "metadata": {},
     "output_type": "execute_result"
    }
   ],
   "source": [
    "len(train_labels)"
   ]
  },
  {
   "cell_type": "code",
   "execution_count": 22,
   "metadata": {},
   "outputs": [
    {
     "name": "stderr",
     "output_type": "stream",
     "text": [
      "Using TensorFlow backend.\n"
     ]
    }
   ],
   "source": [
    "import keras\n",
    "from keras.layers import Dense, Dropout, Flatten\n",
    "from keras.models import Sequential\n",
    "from keras.models import Model\n",
    "from keras.callbacks import EarlyStopping\n",
    "from sklearn.metrics import precision_score,mean_squared_error\n",
    "import matplotlib.pyplot as plt\n",
    "import tensorflow as tf\n",
    "from keras.layers import *\n",
    "from keras import backend as K\n",
    "from keras.optimizers import SGD"
   ]
  },
  {
   "cell_type": "code",
   "execution_count": 23,
   "metadata": {},
   "outputs": [],
   "source": [
    "model = Sequential()\n",
    "model.add(Dense(1000, activation='relu'))\n",
    "model.add(Dropout(0.5))\n",
    "model.add(Dense(512, activation='relu'))\n",
    "model.add(Dropout(0.5))\n",
    "model.add(Dense(256, activation='relu'))\n",
    "model.add(Dropout(0.5))\n",
    "model.add(Dense(128, activation='relu'))\n",
    "model.add(Dropout(0.5))\n",
    "model.add(Dense(64, activation='relu'))\n",
    "model.add(Dropout(0.5))\n",
    "model.add(Flatten())\n",
    "model.add(Dense(1))"
   ]
  },
  {
   "cell_type": "code",
   "execution_count": 24,
   "metadata": {},
   "outputs": [
    {
     "name": "stdout",
     "output_type": "stream",
     "text": [
      "WARNING:tensorflow:From C:\\Users\\Mauli\\Anaconda3\\lib\\site-packages\\tensorflow\\python\\framework\\op_def_library.py:263: colocate_with (from tensorflow.python.framework.ops) is deprecated and will be removed in a future version.\n",
      "Instructions for updating:\n",
      "Colocations handled automatically by placer.\n"
     ]
    }
   ],
   "source": [
    "model.compile(optimizer='rmsprop',\n",
    "              loss='mse',\n",
    "              metrics=['mae', 'accuracy'])"
   ]
  },
  {
   "cell_type": "code",
   "execution_count": 81,
   "metadata": {},
   "outputs": [
    {
     "data": {
      "text/plain": [
       "<keras.callbacks.History at 0x24e355fdc88>"
      ]
     },
     "execution_count": 81,
     "metadata": {},
     "output_type": "execute_result"
    }
   ],
   "source": [
    "model.fit(train_spatial_features, train_labels,epochs = 0)"
   ]
  },
  {
   "cell_type": "code",
   "execution_count": 25,
   "metadata": {},
   "outputs": [
    {
     "name": "stdout",
     "output_type": "stream",
     "text": [
      "WARNING:tensorflow:From C:\\Users\\Mauli\\Anaconda3\\lib\\site-packages\\keras\\backend\\tensorflow_backend.py:3445: calling dropout (from tensorflow.python.ops.nn_ops) with keep_prob is deprecated and will be removed in a future version.\n",
      "Instructions for updating:\n",
      "Please use `rate` instead of `keep_prob`. Rate should be set to `rate = 1 - keep_prob`.\n",
      "WARNING:tensorflow:From C:\\Users\\Mauli\\Anaconda3\\lib\\site-packages\\tensorflow\\python\\ops\\math_ops.py:3066: to_int32 (from tensorflow.python.ops.math_ops) is deprecated and will be removed in a future version.\n",
      "Instructions for updating:\n",
      "Use tf.cast instead.\n",
      "Train on 1979 samples, validate on 849 samples\n",
      "Epoch 1/200\n",
      "1979/1979 [==============================] - 3s 1ms/step - loss: 17.0468 - mean_absolute_error: 2.7107 - acc: 0.1400 - val_loss: 2.4754 - val_mean_absolute_error: 1.3841 - val_acc: 0.0082\n",
      "Epoch 2/200\n",
      "1979/1979 [==============================] - 1s 747us/step - loss: 3.2371 - mean_absolute_error: 1.3820 - acc: 0.2319 - val_loss: 1.9657 - val_mean_absolute_error: 1.1949 - val_acc: 0.0212\n",
      "Epoch 3/200\n",
      "1979/1979 [==============================] - 1s 740us/step - loss: 2.0617 - mean_absolute_error: 1.1095 - acc: 0.3022 - val_loss: 1.7600 - val_mean_absolute_error: 1.1064 - val_acc: 0.0601\n",
      "Epoch 4/200\n",
      "1979/1979 [==============================] - 1s 756us/step - loss: 1.7155 - mean_absolute_error: 1.0090 - acc: 0.3532 - val_loss: 1.7203 - val_mean_absolute_error: 1.0902 - val_acc: 0.0424\n",
      "Epoch 5/200\n",
      "1979/1979 [==============================] - 1s 734us/step - loss: 1.4247 - mean_absolute_error: 0.9119 - acc: 0.3835 - val_loss: 1.4678 - val_mean_absolute_error: 0.9670 - val_acc: 0.3852\n",
      "Epoch 6/200\n",
      "1979/1979 [==============================] - 1s 725us/step - loss: 1.2776 - mean_absolute_error: 0.8708 - acc: 0.3946 - val_loss: 1.2454 - val_mean_absolute_error: 0.8456 - val_acc: 0.5925\n",
      "Epoch 7/200\n",
      "1979/1979 [==============================] - 1s 728us/step - loss: 1.1700 - mean_absolute_error: 0.8176 - acc: 0.4290 - val_loss: 1.1587 - val_mean_absolute_error: 0.7937 - val_acc: 0.6384\n",
      "Epoch 8/200\n",
      "1979/1979 [==============================] - 1s 730us/step - loss: 1.0262 - mean_absolute_error: 0.7771 - acc: 0.4376 - val_loss: 0.9960 - val_mean_absolute_error: 0.6943 - val_acc: 0.6514\n",
      "Epoch 9/200\n",
      "1979/1979 [==============================] - 1s 728us/step - loss: 0.9634 - mean_absolute_error: 0.7531 - acc: 0.4447 - val_loss: 1.0788 - val_mean_absolute_error: 0.7374 - val_acc: 0.6514\n",
      "Epoch 10/200\n",
      "1979/1979 [==============================] - 1s 734us/step - loss: 0.8993 - mean_absolute_error: 0.7305 - acc: 0.4588 - val_loss: 0.8923 - val_mean_absolute_error: 0.6113 - val_acc: 0.6514\n",
      "Epoch 11/200\n",
      "1979/1979 [==============================] - 1s 730us/step - loss: 0.9214 - mean_absolute_error: 0.7358 - acc: 0.4462 - val_loss: 0.8876 - val_mean_absolute_error: 0.6271 - val_acc: 0.6490\n",
      "Epoch 12/200\n",
      "1979/1979 [==============================] - 1s 719us/step - loss: 0.9415 - mean_absolute_error: 0.7204 - acc: 0.4664 - val_loss: 0.7717 - val_mean_absolute_error: 0.5561 - val_acc: 0.6490\n",
      "Epoch 13/200\n",
      "1979/1979 [==============================] - 1s 720us/step - loss: 0.8353 - mean_absolute_error: 0.6936 - acc: 0.4755 - val_loss: 0.9010 - val_mean_absolute_error: 0.6120 - val_acc: 0.6514\n",
      "Epoch 14/200\n",
      "1979/1979 [==============================] - 1s 728us/step - loss: 0.8102 - mean_absolute_error: 0.6921 - acc: 0.4674 - val_loss: 0.7192 - val_mean_absolute_error: 0.5342 - val_acc: 0.6502\n",
      "Epoch 15/200\n",
      "1979/1979 [==============================] - 1s 724us/step - loss: 0.7791 - mean_absolute_error: 0.6782 - acc: 0.4740 - val_loss: 0.7378 - val_mean_absolute_error: 0.5338 - val_acc: 0.6514\n",
      "Epoch 16/200\n",
      "1979/1979 [==============================] - 1s 727us/step - loss: 0.7886 - mean_absolute_error: 0.6901 - acc: 0.4654 - val_loss: 0.5897 - val_mean_absolute_error: 0.5738 - val_acc: 0.5995\n",
      "Epoch 17/200\n",
      "1979/1979 [==============================] - 1s 732us/step - loss: 0.7640 - mean_absolute_error: 0.6573 - acc: 0.4977 - val_loss: 0.6849 - val_mean_absolute_error: 0.5359 - val_acc: 0.6408\n",
      "Epoch 18/200\n",
      "1979/1979 [==============================] - 1s 735us/step - loss: 0.7582 - mean_absolute_error: 0.6693 - acc: 0.4790 - val_loss: 0.7065 - val_mean_absolute_error: 0.5261 - val_acc: 0.6490\n",
      "Epoch 19/200\n",
      "1979/1979 [==============================] - 1s 745us/step - loss: 0.7134 - mean_absolute_error: 0.6569 - acc: 0.4856 - val_loss: 0.6734 - val_mean_absolute_error: 0.5379 - val_acc: 0.6431\n",
      "Epoch 20/200\n",
      "1979/1979 [==============================] - 1s 738us/step - loss: 0.7075 - mean_absolute_error: 0.6557 - acc: 0.4805 - val_loss: 0.6621 - val_mean_absolute_error: 0.5376 - val_acc: 0.6443\n",
      "Epoch 21/200\n",
      "1979/1979 [==============================] - 1s 738us/step - loss: 0.6628 - mean_absolute_error: 0.6286 - acc: 0.5104 - val_loss: 0.6534 - val_mean_absolute_error: 0.5467 - val_acc: 0.6408\n",
      "Epoch 22/200\n",
      "1979/1979 [==============================] - 1s 727us/step - loss: 0.6950 - mean_absolute_error: 0.6482 - acc: 0.4770 - val_loss: 0.6460 - val_mean_absolute_error: 0.5478 - val_acc: 0.6419\n",
      "Epoch 23/200\n",
      "1979/1979 [==============================] - 1s 733us/step - loss: 0.6631 - mean_absolute_error: 0.6441 - acc: 0.4805 - val_loss: 0.6177 - val_mean_absolute_error: 0.5566 - val_acc: 0.6372\n",
      "Epoch 24/200\n",
      "1979/1979 [==============================] - 1s 735us/step - loss: 0.6642 - mean_absolute_error: 0.6472 - acc: 0.4826 - val_loss: 0.5888 - val_mean_absolute_error: 0.5717 - val_acc: 0.6278\n",
      "Epoch 25/200\n",
      "1979/1979 [==============================] - 1s 740us/step - loss: 0.6390 - mean_absolute_error: 0.6362 - acc: 0.4846 - val_loss: 0.6255 - val_mean_absolute_error: 0.5610 - val_acc: 0.6384\n",
      "Epoch 26/200\n",
      "1979/1979 [==============================] - 1s 730us/step - loss: 0.6658 - mean_absolute_error: 0.6436 - acc: 0.5023 - val_loss: 0.6284 - val_mean_absolute_error: 0.5545 - val_acc: 0.6431\n",
      "Epoch 27/200\n",
      "1979/1979 [==============================] - 1s 737us/step - loss: 0.6257 - mean_absolute_error: 0.6328 - acc: 0.5083 - val_loss: 0.5968 - val_mean_absolute_error: 0.5764 - val_acc: 0.6408\n",
      "Epoch 28/200\n",
      "1979/1979 [==============================] - 1s 743us/step - loss: 0.6289 - mean_absolute_error: 0.6366 - acc: 0.4977 - val_loss: 0.6519 - val_mean_absolute_error: 0.5417 - val_acc: 0.6502\n",
      "Epoch 29/200\n",
      "1979/1979 [==============================] - 1s 742us/step - loss: 0.6268 - mean_absolute_error: 0.6367 - acc: 0.4972 - val_loss: 0.5752 - val_mean_absolute_error: 0.5845 - val_acc: 0.6360\n",
      "Epoch 30/200\n",
      "1979/1979 [==============================] - 1s 735us/step - loss: 0.6142 - mean_absolute_error: 0.6356 - acc: 0.5038 - val_loss: 0.6059 - val_mean_absolute_error: 0.5716 - val_acc: 0.6466\n",
      "Epoch 31/200\n",
      "1979/1979 [==============================] - 1s 735us/step - loss: 0.6016 - mean_absolute_error: 0.6326 - acc: 0.5063 - val_loss: 0.5791 - val_mean_absolute_error: 0.5972 - val_acc: 0.6337\n",
      "Epoch 32/200\n",
      "1979/1979 [==============================] - 1s 745us/step - loss: 0.5778 - mean_absolute_error: 0.6273 - acc: 0.4957 - val_loss: 0.5707 - val_mean_absolute_error: 0.6128 - val_acc: 0.5724\n",
      "Epoch 33/200\n",
      "1979/1979 [==============================] - 1s 753us/step - loss: 0.5826 - mean_absolute_error: 0.6291 - acc: 0.5033 - val_loss: 0.5705 - val_mean_absolute_error: 0.6373 - val_acc: 0.4888\n",
      "Epoch 34/200\n",
      "1979/1979 [==============================] - 1s 755us/step - loss: 0.5627 - mean_absolute_error: 0.6212 - acc: 0.5078 - val_loss: 0.5604 - val_mean_absolute_error: 0.6005 - val_acc: 0.6384\n",
      "Epoch 35/200\n",
      "1979/1979 [==============================] - 2s 764us/step - loss: 0.5741 - mean_absolute_error: 0.6279 - acc: 0.5008 - val_loss: 0.5690 - val_mean_absolute_error: 0.5918 - val_acc: 0.6478\n",
      "Epoch 36/200\n",
      "1979/1979 [==============================] - 2s 919us/step - loss: 0.5748 - mean_absolute_error: 0.6332 - acc: 0.4967 - val_loss: 0.5618 - val_mean_absolute_error: 0.6479 - val_acc: 0.4287\n",
      "Epoch 37/200\n",
      "1979/1979 [==============================] - 2s 830us/step - loss: 0.5738 - mean_absolute_error: 0.6294 - acc: 0.5053 - val_loss: 0.5493 - val_mean_absolute_error: 0.6350 - val_acc: 0.4770\n",
      "Epoch 38/200\n"
     ]
    },
    {
     "name": "stdout",
     "output_type": "stream",
     "text": [
      "1979/1979 [==============================] - 2s 769us/step - loss: 0.5579 - mean_absolute_error: 0.6253 - acc: 0.5038 - val_loss: 0.5605 - val_mean_absolute_error: 0.6539 - val_acc: 0.3969\n",
      "Epoch 39/200\n",
      "1979/1979 [==============================] - 1s 754us/step - loss: 0.5795 - mean_absolute_error: 0.6310 - acc: 0.5099 - val_loss: 0.5655 - val_mean_absolute_error: 0.6604 - val_acc: 0.3922\n",
      "Epoch 40/200\n",
      "1979/1979 [==============================] - 1s 728us/step - loss: 0.5678 - mean_absolute_error: 0.6285 - acc: 0.5119 - val_loss: 0.5547 - val_mean_absolute_error: 0.6484 - val_acc: 0.4382\n",
      "Epoch 41/200\n",
      "1979/1979 [==============================] - 1s 728us/step - loss: 0.5526 - mean_absolute_error: 0.6268 - acc: 0.4952 - val_loss: 0.5410 - val_mean_absolute_error: 0.6265 - val_acc: 0.5689\n",
      "Epoch 42/200\n",
      "1979/1979 [==============================] - 1s 758us/step - loss: 0.5552 - mean_absolute_error: 0.6241 - acc: 0.5063 - val_loss: 0.5588 - val_mean_absolute_error: 0.6598 - val_acc: 0.3910\n",
      "Epoch 43/200\n",
      "1979/1979 [==============================] - 1s 745us/step - loss: 0.5436 - mean_absolute_error: 0.6137 - acc: 0.5154 - val_loss: 0.5433 - val_mean_absolute_error: 0.6417 - val_acc: 0.4629\n",
      "Epoch 44/200\n",
      "1979/1979 [==============================] - 1s 748us/step - loss: 0.5436 - mean_absolute_error: 0.6106 - acc: 0.5235 - val_loss: 0.5530 - val_mean_absolute_error: 0.6636 - val_acc: 0.3522\n",
      "Epoch 45/200\n",
      "1979/1979 [==============================] - 1s 755us/step - loss: 0.5465 - mean_absolute_error: 0.6243 - acc: 0.5028 - val_loss: 0.5506 - val_mean_absolute_error: 0.6490 - val_acc: 0.4335\n",
      "Epoch 46/200\n",
      "1979/1979 [==============================] - 1s 745us/step - loss: 0.5522 - mean_absolute_error: 0.6213 - acc: 0.5205 - val_loss: 0.5475 - val_mean_absolute_error: 0.6546 - val_acc: 0.4075\n",
      "Epoch 47/200\n",
      "1979/1979 [==============================] - 2s 758us/step - loss: 0.5414 - mean_absolute_error: 0.6147 - acc: 0.5174 - val_loss: 0.5514 - val_mean_absolute_error: 0.6638 - val_acc: 0.3663\n",
      "Epoch 48/200\n",
      "1979/1979 [==============================] - 1s 736us/step - loss: 0.5452 - mean_absolute_error: 0.6264 - acc: 0.4932 - val_loss: 0.5624 - val_mean_absolute_error: 0.6664 - val_acc: 0.3616\n",
      "Epoch 49/200\n",
      "1979/1979 [==============================] - 1s 712us/step - loss: 0.5429 - mean_absolute_error: 0.6193 - acc: 0.4912 - val_loss: 0.5604 - val_mean_absolute_error: 0.6679 - val_acc: 0.3333\n",
      "Epoch 50/200\n",
      "1979/1979 [==============================] - 1s 710us/step - loss: 0.5391 - mean_absolute_error: 0.6226 - acc: 0.4922 - val_loss: 0.5891 - val_mean_absolute_error: 0.6936 - val_acc: 0.3098\n",
      "Epoch 51/200\n",
      "1979/1979 [==============================] - 1s 711us/step - loss: 0.5497 - mean_absolute_error: 0.6211 - acc: 0.4917 - val_loss: 0.5541 - val_mean_absolute_error: 0.6706 - val_acc: 0.2945\n",
      "Epoch 52/200\n",
      "1979/1979 [==============================] - 1s 717us/step - loss: 0.5237 - mean_absolute_error: 0.6090 - acc: 0.5013 - val_loss: 0.5913 - val_mean_absolute_error: 0.6961 - val_acc: 0.2697\n",
      "Epoch 53/200\n",
      "1979/1979 [==============================] - 1s 699us/step - loss: 0.5291 - mean_absolute_error: 0.6095 - acc: 0.5018 - val_loss: 0.5817 - val_mean_absolute_error: 0.6920 - val_acc: 0.2733\n",
      "Epoch 54/200\n",
      "1979/1979 [==============================] - 1s 708us/step - loss: 0.5230 - mean_absolute_error: 0.6067 - acc: 0.4937 - val_loss: 0.5469 - val_mean_absolute_error: 0.6590 - val_acc: 0.2992\n",
      "Epoch 55/200\n",
      "1979/1979 [==============================] - 1s 708us/step - loss: 0.5400 - mean_absolute_error: 0.6145 - acc: 0.4947 - val_loss: 0.5686 - val_mean_absolute_error: 0.6868 - val_acc: 0.2320\n",
      "Epoch 56/200\n",
      "1979/1979 [==============================] - 1s 714us/step - loss: 0.5408 - mean_absolute_error: 0.6206 - acc: 0.4725 - val_loss: 0.5927 - val_mean_absolute_error: 0.6990 - val_acc: 0.2568\n",
      "Epoch 57/200\n",
      "1979/1979 [==============================] - 1s 700us/step - loss: 0.5245 - mean_absolute_error: 0.6049 - acc: 0.4699 - val_loss: 0.5627 - val_mean_absolute_error: 0.6810 - val_acc: 0.2638\n",
      "Epoch 58/200\n",
      "1979/1979 [==============================] - 1s 697us/step - loss: 0.5262 - mean_absolute_error: 0.6108 - acc: 0.4816 - val_loss: 0.6077 - val_mean_absolute_error: 0.7089 - val_acc: 0.2615\n",
      "Epoch 59/200\n",
      "1979/1979 [==============================] - 1s 706us/step - loss: 0.5203 - mean_absolute_error: 0.6082 - acc: 0.4593 - val_loss: 0.5802 - val_mean_absolute_error: 0.6928 - val_acc: 0.2721\n",
      "Epoch 60/200\n",
      "1979/1979 [==============================] - 1s 698us/step - loss: 0.5044 - mean_absolute_error: 0.5956 - acc: 0.4684 - val_loss: 0.6227 - val_mean_absolute_error: 0.7199 - val_acc: 0.2014\n",
      "Epoch 61/200\n",
      "1979/1979 [==============================] - 1s 706us/step - loss: 0.5186 - mean_absolute_error: 0.6079 - acc: 0.4578 - val_loss: 0.5667 - val_mean_absolute_error: 0.6872 - val_acc: 0.2179\n",
      "Epoch 62/200\n",
      "1979/1979 [==============================] - 1s 700us/step - loss: 0.5045 - mean_absolute_error: 0.5973 - acc: 0.4624 - val_loss: 0.5735 - val_mean_absolute_error: 0.6887 - val_acc: 0.2214\n",
      "Epoch 63/200\n",
      "1979/1979 [==============================] - 1s 698us/step - loss: 0.5176 - mean_absolute_error: 0.6074 - acc: 0.4674 - val_loss: 0.5747 - val_mean_absolute_error: 0.6912 - val_acc: 0.2591\n",
      "Epoch 64/200\n",
      "1979/1979 [==============================] - 1s 703us/step - loss: 0.5038 - mean_absolute_error: 0.5946 - acc: 0.4654 - val_loss: 0.5688 - val_mean_absolute_error: 0.6910 - val_acc: 0.2049\n",
      "Epoch 65/200\n",
      "1979/1979 [==============================] - 1s 709us/step - loss: 0.5012 - mean_absolute_error: 0.5919 - acc: 0.4856 - val_loss: 0.5930 - val_mean_absolute_error: 0.6950 - val_acc: 0.2945\n",
      "Epoch 66/200\n",
      "1979/1979 [==============================] - 1s 711us/step - loss: 0.5273 - mean_absolute_error: 0.6116 - acc: 0.4593 - val_loss: 0.5787 - val_mean_absolute_error: 0.6954 - val_acc: 0.2120\n",
      "Epoch 67/200\n",
      "1979/1979 [==============================] - 1s 703us/step - loss: 0.5110 - mean_absolute_error: 0.6020 - acc: 0.4608 - val_loss: 0.5987 - val_mean_absolute_error: 0.7074 - val_acc: 0.2167\n",
      "Epoch 68/200\n",
      "1979/1979 [==============================] - 1s 703us/step - loss: 0.5080 - mean_absolute_error: 0.5986 - acc: 0.4725 - val_loss: 0.6249 - val_mean_absolute_error: 0.7237 - val_acc: 0.2002\n",
      "Epoch 69/200\n",
      "1979/1979 [==============================] - 1s 702us/step - loss: 0.5212 - mean_absolute_error: 0.6102 - acc: 0.4548 - val_loss: 0.6255 - val_mean_absolute_error: 0.7194 - val_acc: 0.2320\n",
      "Epoch 70/200\n",
      "1979/1979 [==============================] - 1s 718us/step - loss: 0.5026 - mean_absolute_error: 0.5939 - acc: 0.4699 - val_loss: 0.5808 - val_mean_absolute_error: 0.6977 - val_acc: 0.2085\n",
      "Epoch 71/200\n",
      "1979/1979 [==============================] - 1s 701us/step - loss: 0.5100 - mean_absolute_error: 0.5968 - acc: 0.4618 - val_loss: 0.5854 - val_mean_absolute_error: 0.7018 - val_acc: 0.2014\n",
      "Epoch 72/200\n",
      "1979/1979 [==============================] - 1s 709us/step - loss: 0.5044 - mean_absolute_error: 0.5929 - acc: 0.4750 - val_loss: 0.5737 - val_mean_absolute_error: 0.6911 - val_acc: 0.2344\n",
      "Epoch 73/200\n",
      "1979/1979 [==============================] - 1s 709us/step - loss: 0.5064 - mean_absolute_error: 0.5953 - acc: 0.4709 - val_loss: 0.5814 - val_mean_absolute_error: 0.7001 - val_acc: 0.2073\n",
      "Epoch 74/200\n",
      "1979/1979 [==============================] - 1s 709us/step - loss: 0.4984 - mean_absolute_error: 0.5950 - acc: 0.4578 - val_loss: 0.6440 - val_mean_absolute_error: 0.7331 - val_acc: 0.2014\n",
      "Epoch 75/200\n",
      "1979/1979 [==============================] - 1s 707us/step - loss: 0.5033 - mean_absolute_error: 0.5919 - acc: 0.4851 - val_loss: 0.6088 - val_mean_absolute_error: 0.7154 - val_acc: 0.2026\n",
      "Epoch 76/200\n",
      "1979/1979 [==============================] - 1s 702us/step - loss: 0.4974 - mean_absolute_error: 0.5878 - acc: 0.4649 - val_loss: 0.5835 - val_mean_absolute_error: 0.6953 - val_acc: 0.2627\n",
      "Epoch 77/200\n",
      "1979/1979 [==============================] - 1s 702us/step - loss: 0.4932 - mean_absolute_error: 0.5815 - acc: 0.4896 - val_loss: 0.5796 - val_mean_absolute_error: 0.6965 - val_acc: 0.2214\n",
      "Epoch 78/200\n",
      "1979/1979 [==============================] - 1s 710us/step - loss: 0.4932 - mean_absolute_error: 0.5810 - acc: 0.4957 - val_loss: 0.5734 - val_mean_absolute_error: 0.6945 - val_acc: 0.2014\n"
     ]
    },
    {
     "name": "stdout",
     "output_type": "stream",
     "text": [
      "Epoch 79/200\n",
      "1979/1979 [==============================] - 1s 701us/step - loss: 0.4857 - mean_absolute_error: 0.5847 - acc: 0.4947 - val_loss: 0.5960 - val_mean_absolute_error: 0.7048 - val_acc: 0.2332\n",
      "Epoch 80/200\n",
      "1979/1979 [==============================] - 1s 705us/step - loss: 0.4956 - mean_absolute_error: 0.5908 - acc: 0.4760 - val_loss: 0.5890 - val_mean_absolute_error: 0.6997 - val_acc: 0.2403\n",
      "Epoch 81/200\n",
      "1979/1979 [==============================] - 1s 707us/step - loss: 0.4931 - mean_absolute_error: 0.5835 - acc: 0.5083 - val_loss: 0.6037 - val_mean_absolute_error: 0.7113 - val_acc: 0.2238\n",
      "Epoch 82/200\n",
      "1979/1979 [==============================] - 1s 703us/step - loss: 0.4916 - mean_absolute_error: 0.5836 - acc: 0.4785 - val_loss: 0.6249 - val_mean_absolute_error: 0.7235 - val_acc: 0.2049\n",
      "Epoch 83/200\n",
      "1979/1979 [==============================] - 1s 709us/step - loss: 0.4939 - mean_absolute_error: 0.5842 - acc: 0.4826 - val_loss: 0.5901 - val_mean_absolute_error: 0.7062 - val_acc: 0.2014\n",
      "Epoch 84/200\n",
      "1979/1979 [==============================] - 1s 709us/step - loss: 0.4855 - mean_absolute_error: 0.5847 - acc: 0.4689 - val_loss: 0.6320 - val_mean_absolute_error: 0.7259 - val_acc: 0.2014\n",
      "Epoch 85/200\n",
      "1979/1979 [==============================] - 1s 707us/step - loss: 0.4777 - mean_absolute_error: 0.5756 - acc: 0.4912 - val_loss: 0.5785 - val_mean_absolute_error: 0.6993 - val_acc: 0.2014\n",
      "Epoch 86/200\n",
      "1979/1979 [==============================] - 1s 707us/step - loss: 0.4998 - mean_absolute_error: 0.5798 - acc: 0.5043 - val_loss: 0.5902 - val_mean_absolute_error: 0.7041 - val_acc: 0.2038\n",
      "Epoch 87/200\n",
      "1979/1979 [==============================] - 1s 705us/step - loss: 0.4709 - mean_absolute_error: 0.5719 - acc: 0.5008 - val_loss: 0.5975 - val_mean_absolute_error: 0.7057 - val_acc: 0.2367\n",
      "Epoch 88/200\n",
      "1979/1979 [==============================] - 1s 730us/step - loss: 0.4927 - mean_absolute_error: 0.5815 - acc: 0.5008 - val_loss: 0.6432 - val_mean_absolute_error: 0.7296 - val_acc: 0.2155\n",
      "Epoch 89/200\n",
      "1979/1979 [==============================] - 1s 726us/step - loss: 0.4918 - mean_absolute_error: 0.5777 - acc: 0.4962 - val_loss: 0.6106 - val_mean_absolute_error: 0.7146 - val_acc: 0.2167\n",
      "Epoch 90/200\n",
      "1979/1979 [==============================] - 2s 807us/step - loss: 0.4695 - mean_absolute_error: 0.5640 - acc: 0.5200 - val_loss: 0.6019 - val_mean_absolute_error: 0.7111 - val_acc: 0.2026\n",
      "Epoch 91/200\n",
      "1979/1979 [==============================] - 1s 747us/step - loss: 0.4730 - mean_absolute_error: 0.5713 - acc: 0.4932 - val_loss: 0.6061 - val_mean_absolute_error: 0.7128 - val_acc: 0.2167\n",
      "Epoch 92/200\n",
      "1979/1979 [==============================] - 2s 920us/step - loss: 0.4898 - mean_absolute_error: 0.5846 - acc: 0.4831 - val_loss: 0.6050 - val_mean_absolute_error: 0.7098 - val_acc: 0.2309\n",
      "Epoch 93/200\n",
      "1979/1979 [==============================] - 2s 995us/step - loss: 0.4803 - mean_absolute_error: 0.5731 - acc: 0.4972 - val_loss: 0.6347 - val_mean_absolute_error: 0.7234 - val_acc: 0.2179\n",
      "Epoch 94/200\n",
      "1979/1979 [==============================] - 2s 922us/step - loss: 0.4830 - mean_absolute_error: 0.5760 - acc: 0.4932 - val_loss: 0.5892 - val_mean_absolute_error: 0.7028 - val_acc: 0.2108\n",
      "Epoch 95/200\n",
      "1979/1979 [==============================] - 2s 880us/step - loss: 0.4785 - mean_absolute_error: 0.5740 - acc: 0.4957 - val_loss: 0.6064 - val_mean_absolute_error: 0.7145 - val_acc: 0.2014\n",
      "Epoch 96/200\n",
      "1979/1979 [==============================] - 2s 778us/step - loss: 0.4728 - mean_absolute_error: 0.5650 - acc: 0.5174 - val_loss: 0.5666 - val_mean_absolute_error: 0.6842 - val_acc: 0.2450\n",
      "Epoch 97/200\n",
      "1979/1979 [==============================] - 1s 663us/step - loss: 0.4800 - mean_absolute_error: 0.5735 - acc: 0.4992 - val_loss: 0.5829 - val_mean_absolute_error: 0.6991 - val_acc: 0.2049\n",
      "Epoch 98/200\n",
      "1979/1979 [==============================] - 1s 645us/step - loss: 0.4812 - mean_absolute_error: 0.5651 - acc: 0.5205 - val_loss: 0.5805 - val_mean_absolute_error: 0.6973 - val_acc: 0.2320\n",
      "Epoch 99/200\n",
      "1979/1979 [==============================] - 1s 655us/step - loss: 0.4645 - mean_absolute_error: 0.5616 - acc: 0.5174 - val_loss: 0.6257 - val_mean_absolute_error: 0.7208 - val_acc: 0.2155\n",
      "Epoch 100/200\n",
      "1979/1979 [==============================] - 2s 814us/step - loss: 0.4663 - mean_absolute_error: 0.5638 - acc: 0.5013 - val_loss: 0.6620 - val_mean_absolute_error: 0.7407 - val_acc: 0.2014\n",
      "Epoch 101/200\n",
      "1979/1979 [==============================] - 2s 837us/step - loss: 0.4593 - mean_absolute_error: 0.5623 - acc: 0.5018 - val_loss: 0.5979 - val_mean_absolute_error: 0.7078 - val_acc: 0.2132\n",
      "Epoch 102/200\n",
      "1979/1979 [==============================] - 2s 766us/step - loss: 0.4739 - mean_absolute_error: 0.5696 - acc: 0.5058 - val_loss: 0.7022 - val_mean_absolute_error: 0.7597 - val_acc: 0.2002\n",
      "Epoch 103/200\n",
      "1979/1979 [==============================] - 1s 655us/step - loss: 0.4664 - mean_absolute_error: 0.5658 - acc: 0.5023 - val_loss: 0.6704 - val_mean_absolute_error: 0.7386 - val_acc: 0.2344\n",
      "Epoch 104/200\n",
      "1979/1979 [==============================] - ETA: 0s - loss: 0.4445 - mean_absolute_error: 0.5506 - acc: 0.512 - 1s 679us/step - loss: 0.4479 - mean_absolute_error: 0.5509 - acc: 0.5134 - val_loss: 0.6315 - val_mean_absolute_error: 0.7278 - val_acc: 0.2014\n",
      "Epoch 105/200\n",
      "1979/1979 [==============================] - 1s 703us/step - loss: 0.4698 - mean_absolute_error: 0.5674 - acc: 0.5078 - val_loss: 0.6353 - val_mean_absolute_error: 0.7267 - val_acc: 0.2097\n",
      "Epoch 106/200\n",
      "1979/1979 [==============================] - 1s 679us/step - loss: 0.4632 - mean_absolute_error: 0.5613 - acc: 0.5134 - val_loss: 0.6636 - val_mean_absolute_error: 0.7377 - val_acc: 0.2214\n",
      "Epoch 107/200\n",
      "1979/1979 [==============================] - 1s 711us/step - loss: 0.4669 - mean_absolute_error: 0.5662 - acc: 0.5063 - val_loss: 0.6103 - val_mean_absolute_error: 0.7150 - val_acc: 0.2085\n",
      "Epoch 108/200\n",
      "1979/1979 [==============================] - 1s 655us/step - loss: 0.4446 - mean_absolute_error: 0.5495 - acc: 0.5301 - val_loss: 0.6743 - val_mean_absolute_error: 0.7449 - val_acc: 0.2179\n",
      "Epoch 109/200\n",
      "1979/1979 [==============================] - 1s 687us/step - loss: 0.4752 - mean_absolute_error: 0.5639 - acc: 0.5109 - val_loss: 0.5920 - val_mean_absolute_error: 0.7041 - val_acc: 0.2273\n",
      "Epoch 110/200\n",
      "1979/1979 [==============================] - 1s 647us/step - loss: 0.4447 - mean_absolute_error: 0.5513 - acc: 0.5169 - val_loss: 0.6032 - val_mean_absolute_error: 0.7078 - val_acc: 0.2309\n",
      "Epoch 111/200\n",
      "1979/1979 [==============================] - 1s 679us/step - loss: 0.4463 - mean_absolute_error: 0.5475 - acc: 0.5260 - val_loss: 0.5691 - val_mean_absolute_error: 0.6871 - val_acc: 0.2485\n",
      "Epoch 112/200\n",
      "1979/1979 [==============================] - 1s 703us/step - loss: 0.4694 - mean_absolute_error: 0.5651 - acc: 0.5083 - val_loss: 0.6507 - val_mean_absolute_error: 0.7338 - val_acc: 0.2085\n",
      "Epoch 113/200\n",
      "1979/1979 [==============================] - 1s 647us/step - loss: 0.4549 - mean_absolute_error: 0.5532 - acc: 0.5230 - val_loss: 0.6090 - val_mean_absolute_error: 0.7078 - val_acc: 0.2485\n",
      "Epoch 114/200\n",
      "1979/1979 [==============================] - 1s 678us/step - loss: 0.4667 - mean_absolute_error: 0.5639 - acc: 0.5114 - val_loss: 0.6552 - val_mean_absolute_error: 0.7383 - val_acc: 0.2014\n",
      "Epoch 115/200\n",
      "1979/1979 [==============================] - 1s 647us/step - loss: 0.4550 - mean_absolute_error: 0.5553 - acc: 0.5296 - val_loss: 0.5846 - val_mean_absolute_error: 0.6990 - val_acc: 0.2179\n",
      "Epoch 116/200\n",
      "1979/1979 [==============================] - 1s 695us/step - loss: 0.4525 - mean_absolute_error: 0.5535 - acc: 0.5225 - val_loss: 0.6079 - val_mean_absolute_error: 0.7096 - val_acc: 0.2250\n",
      "Epoch 117/200\n",
      "1979/1979 [==============================] - 2s 789us/step - loss: 0.4488 - mean_absolute_error: 0.5422 - acc: 0.5508 - val_loss: 0.5675 - val_mean_absolute_error: 0.6868 - val_acc: 0.2261\n",
      "Epoch 118/200\n",
      "1979/1979 [==============================] - 1s 718us/step - loss: 0.4632 - mean_absolute_error: 0.5558 - acc: 0.5205 - val_loss: 0.5960 - val_mean_absolute_error: 0.7063 - val_acc: 0.2097\n",
      "Epoch 119/200\n"
     ]
    },
    {
     "name": "stdout",
     "output_type": "stream",
     "text": [
      "1979/1979 [==============================] - 1s 703us/step - loss: 0.4422 - mean_absolute_error: 0.5467 - acc: 0.5361 - val_loss: 0.5854 - val_mean_absolute_error: 0.6980 - val_acc: 0.2297\n",
      "Epoch 120/200\n",
      "1979/1979 [==============================] - 1s 671us/step - loss: 0.4627 - mean_absolute_error: 0.5577 - acc: 0.5159 - val_loss: 0.6332 - val_mean_absolute_error: 0.7230 - val_acc: 0.2132\n",
      "Epoch 121/200\n",
      "1979/1979 [==============================] - 2s 829us/step - loss: 0.4353 - mean_absolute_error: 0.5435 - acc: 0.5184 - val_loss: 0.5849 - val_mean_absolute_error: 0.6979 - val_acc: 0.2179\n",
      "Epoch 122/200\n",
      "1979/1979 [==============================] - 2s 1ms/step - loss: 0.4607 - mean_absolute_error: 0.5599 - acc: 0.5189 - val_loss: 0.5825 - val_mean_absolute_error: 0.6969 - val_acc: 0.2214\n",
      "Epoch 123/200\n",
      "1979/1979 [==============================] - 2s 910us/step - loss: 0.4606 - mean_absolute_error: 0.5582 - acc: 0.5078 - val_loss: 0.6355 - val_mean_absolute_error: 0.7178 - val_acc: 0.2556\n",
      "Epoch 124/200\n",
      "1979/1979 [==============================] - 2s 841us/step - loss: 0.4541 - mean_absolute_error: 0.5529 - acc: 0.5250 - val_loss: 0.6114 - val_mean_absolute_error: 0.7144 - val_acc: 0.2014\n",
      "Epoch 125/200\n",
      "1979/1979 [==============================] - 2s 758us/step - loss: 0.4504 - mean_absolute_error: 0.5423 - acc: 0.5563 - val_loss: 0.6144 - val_mean_absolute_error: 0.7161 - val_acc: 0.2085\n",
      "Epoch 126/200\n",
      "1979/1979 [==============================] - 1s 733us/step - loss: 0.4459 - mean_absolute_error: 0.5512 - acc: 0.5189 - val_loss: 0.5965 - val_mean_absolute_error: 0.7047 - val_acc: 0.2214\n",
      "Epoch 127/200\n",
      "1979/1979 [==============================] - 1s 723us/step - loss: 0.4552 - mean_absolute_error: 0.5527 - acc: 0.5245 - val_loss: 0.5689 - val_mean_absolute_error: 0.6885 - val_acc: 0.2356\n",
      "Epoch 128/200\n",
      "1979/1979 [==============================] - 1s 724us/step - loss: 0.4449 - mean_absolute_error: 0.5502 - acc: 0.5356 - val_loss: 0.5768 - val_mean_absolute_error: 0.6950 - val_acc: 0.2250\n",
      "Epoch 129/200\n",
      "1979/1979 [==============================] - 1s 715us/step - loss: 0.4457 - mean_absolute_error: 0.5451 - acc: 0.5508 - val_loss: 0.7063 - val_mean_absolute_error: 0.7569 - val_acc: 0.2097\n",
      "Epoch 130/200\n",
      "1979/1979 [==============================] - 1s 707us/step - loss: 0.4566 - mean_absolute_error: 0.5538 - acc: 0.5184 - val_loss: 0.5940 - val_mean_absolute_error: 0.7052 - val_acc: 0.2120\n",
      "Epoch 131/200\n",
      "1979/1979 [==============================] - 1s 718us/step - loss: 0.4355 - mean_absolute_error: 0.5449 - acc: 0.5382 - val_loss: 0.5893 - val_mean_absolute_error: 0.6964 - val_acc: 0.2473\n",
      "Epoch 132/200\n",
      "1979/1979 [==============================] - 1s 710us/step - loss: 0.4457 - mean_absolute_error: 0.5482 - acc: 0.5407 - val_loss: 0.6088 - val_mean_absolute_error: 0.7114 - val_acc: 0.2167\n",
      "Epoch 133/200\n",
      "1979/1979 [==============================] - 1s 741us/step - loss: 0.4501 - mean_absolute_error: 0.5498 - acc: 0.5442 - val_loss: 0.5911 - val_mean_absolute_error: 0.7030 - val_acc: 0.2203\n",
      "Epoch 134/200\n",
      "1979/1979 [==============================] - 1s 717us/step - loss: 0.4471 - mean_absolute_error: 0.5484 - acc: 0.5351 - val_loss: 0.6115 - val_mean_absolute_error: 0.7047 - val_acc: 0.2591\n",
      "Epoch 135/200\n",
      "1979/1979 [==============================] - 1s 713us/step - loss: 0.4454 - mean_absolute_error: 0.5452 - acc: 0.5356 - val_loss: 0.6057 - val_mean_absolute_error: 0.7113 - val_acc: 0.2085\n",
      "Epoch 136/200\n",
      "1979/1979 [==============================] - 1s 712us/step - loss: 0.4453 - mean_absolute_error: 0.5497 - acc: 0.5316 - val_loss: 0.6171 - val_mean_absolute_error: 0.7154 - val_acc: 0.2108\n",
      "Epoch 137/200\n",
      "1979/1979 [==============================] - 1s 706us/step - loss: 0.4379 - mean_absolute_error: 0.5408 - acc: 0.5488 - val_loss: 0.5923 - val_mean_absolute_error: 0.7027 - val_acc: 0.2155\n",
      "Epoch 138/200\n",
      "1979/1979 [==============================] - 1s 729us/step - loss: 0.4254 - mean_absolute_error: 0.5330 - acc: 0.5483 - val_loss: 0.5850 - val_mean_absolute_error: 0.6931 - val_acc: 0.2497\n",
      "Epoch 139/200\n",
      "1979/1979 [==============================] - 1s 718us/step - loss: 0.4396 - mean_absolute_error: 0.5449 - acc: 0.5250 - val_loss: 0.6063 - val_mean_absolute_error: 0.7054 - val_acc: 0.2320\n",
      "Epoch 140/200\n",
      "1979/1979 [==============================] - 1s 705us/step - loss: 0.4531 - mean_absolute_error: 0.5402 - acc: 0.5508 - val_loss: 0.6945 - val_mean_absolute_error: 0.7541 - val_acc: 0.2049\n",
      "Epoch 141/200\n",
      "1979/1979 [==============================] - 1s 726us/step - loss: 0.4639 - mean_absolute_error: 0.5503 - acc: 0.5483 - val_loss: 0.6177 - val_mean_absolute_error: 0.7185 - val_acc: 0.2026\n",
      "Epoch 142/200\n",
      "1979/1979 [==============================] - 1s 707us/step - loss: 0.4396 - mean_absolute_error: 0.5446 - acc: 0.5361 - val_loss: 0.5973 - val_mean_absolute_error: 0.7047 - val_acc: 0.2120\n",
      "Epoch 143/200\n",
      "1979/1979 [==============================] - 1s 741us/step - loss: 0.4251 - mean_absolute_error: 0.5303 - acc: 0.5574 - val_loss: 0.6067 - val_mean_absolute_error: 0.7110 - val_acc: 0.2108\n",
      "Epoch 144/200\n",
      "1979/1979 [==============================] - 1s 720us/step - loss: 0.4339 - mean_absolute_error: 0.5399 - acc: 0.5382 - val_loss: 0.5981 - val_mean_absolute_error: 0.7029 - val_acc: 0.2403\n",
      "Epoch 145/200\n",
      "1979/1979 [==============================] - 1s 710us/step - loss: 0.4356 - mean_absolute_error: 0.5380 - acc: 0.5498 - val_loss: 0.5645 - val_mean_absolute_error: 0.6826 - val_acc: 0.2509\n",
      "Epoch 146/200\n",
      "1979/1979 [==============================] - 1s 709us/step - loss: 0.4358 - mean_absolute_error: 0.5440 - acc: 0.5250 - val_loss: 0.5816 - val_mean_absolute_error: 0.6982 - val_acc: 0.2026\n",
      "Epoch 147/200\n",
      "1979/1979 [==============================] - 1s 723us/step - loss: 0.4411 - mean_absolute_error: 0.5385 - acc: 0.5437 - val_loss: 0.5952 - val_mean_absolute_error: 0.7025 - val_acc: 0.2320\n",
      "Epoch 148/200\n",
      "1979/1979 [==============================] - 1s 717us/step - loss: 0.4289 - mean_absolute_error: 0.5367 - acc: 0.5594 - val_loss: 0.6114 - val_mean_absolute_error: 0.7121 - val_acc: 0.2203\n",
      "Epoch 149/200\n",
      "1979/1979 [==============================] - 2s 867us/step - loss: 0.4313 - mean_absolute_error: 0.5415 - acc: 0.5437 - val_loss: 0.6055 - val_mean_absolute_error: 0.7106 - val_acc: 0.2038\n",
      "Epoch 150/200\n",
      "1979/1979 [==============================] - 2s 780us/step - loss: 0.4457 - mean_absolute_error: 0.5433 - acc: 0.5397 - val_loss: 0.6038 - val_mean_absolute_error: 0.7003 - val_acc: 0.2709\n",
      "Epoch 151/200\n",
      "1979/1979 [==============================] - 1s 717us/step - loss: 0.4337 - mean_absolute_error: 0.5331 - acc: 0.5584 - val_loss: 0.6245 - val_mean_absolute_error: 0.7168 - val_acc: 0.2344\n",
      "Epoch 152/200\n",
      "1979/1979 [==============================] - 1s 716us/step - loss: 0.4315 - mean_absolute_error: 0.5374 - acc: 0.5392 - val_loss: 0.5976 - val_mean_absolute_error: 0.7052 - val_acc: 0.2226\n",
      "Epoch 153/200\n",
      "1979/1979 [==============================] - 1s 725us/step - loss: 0.4355 - mean_absolute_error: 0.5386 - acc: 0.5472 - val_loss: 0.5896 - val_mean_absolute_error: 0.6901 - val_acc: 0.2686\n",
      "Epoch 154/200\n",
      "1979/1979 [==============================] - 1s 729us/step - loss: 0.4286 - mean_absolute_error: 0.5301 - acc: 0.5498 - val_loss: 0.6790 - val_mean_absolute_error: 0.7428 - val_acc: 0.2261\n",
      "Epoch 155/200\n",
      "1979/1979 [==============================] - 1s 747us/step - loss: 0.4357 - mean_absolute_error: 0.5390 - acc: 0.5366 - val_loss: 0.6059 - val_mean_absolute_error: 0.7077 - val_acc: 0.2285\n",
      "Epoch 156/200\n",
      "1979/1979 [==============================] - 1s 709us/step - loss: 0.4235 - mean_absolute_error: 0.5282 - acc: 0.5664 - val_loss: 0.5916 - val_mean_absolute_error: 0.7060 - val_acc: 0.2014\n",
      "Epoch 157/200\n",
      "1979/1979 [==============================] - 1s 719us/step - loss: 0.4373 - mean_absolute_error: 0.5420 - acc: 0.5478 - val_loss: 0.6031 - val_mean_absolute_error: 0.6997 - val_acc: 0.2709\n",
      "Epoch 158/200\n",
      "1979/1979 [==============================] - 1s 710us/step - loss: 0.4294 - mean_absolute_error: 0.5370 - acc: 0.5513 - val_loss: 0.6017 - val_mean_absolute_error: 0.6977 - val_acc: 0.2674\n",
      "Epoch 159/200\n"
     ]
    },
    {
     "name": "stdout",
     "output_type": "stream",
     "text": [
      "1979/1979 [==============================] - 1s 707us/step - loss: 0.4326 - mean_absolute_error: 0.5344 - acc: 0.5533 - val_loss: 0.5874 - val_mean_absolute_error: 0.6927 - val_acc: 0.2580\n",
      "Epoch 160/200\n",
      "1979/1979 [==============================] - 1s 704us/step - loss: 0.4306 - mean_absolute_error: 0.5343 - acc: 0.5523 - val_loss: 0.6185 - val_mean_absolute_error: 0.7164 - val_acc: 0.2049\n",
      "Epoch 161/200\n",
      "1979/1979 [==============================] - 1s 719us/step - loss: 0.4245 - mean_absolute_error: 0.5345 - acc: 0.5478 - val_loss: 0.5911 - val_mean_absolute_error: 0.7016 - val_acc: 0.2226\n",
      "Epoch 162/200\n",
      "1979/1979 [==============================] - 1s 720us/step - loss: 0.4490 - mean_absolute_error: 0.5477 - acc: 0.5275 - val_loss: 0.5939 - val_mean_absolute_error: 0.7030 - val_acc: 0.2155\n",
      "Epoch 163/200\n",
      "1979/1979 [==============================] - 1s 728us/step - loss: 0.4462 - mean_absolute_error: 0.5367 - acc: 0.5402 - val_loss: 0.6176 - val_mean_absolute_error: 0.7106 - val_acc: 0.2379\n",
      "Epoch 164/200\n",
      "1979/1979 [==============================] - 1s 727us/step - loss: 0.4162 - mean_absolute_error: 0.5284 - acc: 0.5503 - val_loss: 0.6407 - val_mean_absolute_error: 0.7271 - val_acc: 0.2144\n",
      "Epoch 165/200\n",
      "1979/1979 [==============================] - 1s 748us/step - loss: 0.4250 - mean_absolute_error: 0.5346 - acc: 0.5528 - val_loss: 0.5855 - val_mean_absolute_error: 0.6893 - val_acc: 0.2768\n",
      "Epoch 166/200\n",
      "1979/1979 [==============================] - 1s 740us/step - loss: 0.4536 - mean_absolute_error: 0.5380 - acc: 0.5579 - val_loss: 0.5747 - val_mean_absolute_error: 0.6846 - val_acc: 0.2697\n",
      "Epoch 167/200\n",
      "1979/1979 [==============================] - 1s 716us/step - loss: 0.4242 - mean_absolute_error: 0.5291 - acc: 0.5690 - val_loss: 0.6025 - val_mean_absolute_error: 0.7014 - val_acc: 0.2473\n",
      "Epoch 168/200\n",
      "1979/1979 [==============================] - 1s 711us/step - loss: 0.4137 - mean_absolute_error: 0.5267 - acc: 0.5472 - val_loss: 0.5799 - val_mean_absolute_error: 0.6935 - val_acc: 0.2309\n",
      "Epoch 169/200\n",
      "1979/1979 [==============================] - 1s 711us/step - loss: 0.4208 - mean_absolute_error: 0.5331 - acc: 0.5387 - val_loss: 0.5792 - val_mean_absolute_error: 0.6920 - val_acc: 0.2379\n",
      "Epoch 170/200\n",
      "1979/1979 [==============================] - 1s 717us/step - loss: 0.4120 - mean_absolute_error: 0.5236 - acc: 0.5670 - val_loss: 0.5649 - val_mean_absolute_error: 0.6833 - val_acc: 0.2297\n",
      "Epoch 171/200\n",
      "1979/1979 [==============================] - 1s 715us/step - loss: 0.4197 - mean_absolute_error: 0.5257 - acc: 0.5750 - val_loss: 0.5980 - val_mean_absolute_error: 0.6997 - val_acc: 0.2367\n",
      "Epoch 172/200\n",
      "1979/1979 [==============================] - 1s 714us/step - loss: 0.4113 - mean_absolute_error: 0.5210 - acc: 0.5755 - val_loss: 0.5788 - val_mean_absolute_error: 0.6922 - val_acc: 0.2344\n",
      "Epoch 173/200\n",
      "1979/1979 [==============================] - 1s 708us/step - loss: 0.4153 - mean_absolute_error: 0.5339 - acc: 0.5543 - val_loss: 0.5686 - val_mean_absolute_error: 0.6927 - val_acc: 0.2014\n",
      "Epoch 174/200\n",
      "1979/1979 [==============================] - 1s 713us/step - loss: 0.4165 - mean_absolute_error: 0.5255 - acc: 0.5695 - val_loss: 0.6380 - val_mean_absolute_error: 0.7165 - val_acc: 0.2768\n",
      "Epoch 175/200\n",
      "1979/1979 [==============================] - 1s 726us/step - loss: 0.4338 - mean_absolute_error: 0.5383 - acc: 0.5417 - val_loss: 0.5668 - val_mean_absolute_error: 0.6874 - val_acc: 0.2214\n",
      "Epoch 176/200\n",
      "1979/1979 [==============================] - 1s 735us/step - loss: 0.4354 - mean_absolute_error: 0.5392 - acc: 0.5599 - val_loss: 0.5776 - val_mean_absolute_error: 0.6939 - val_acc: 0.2238\n",
      "Epoch 177/200\n",
      "1979/1979 [==============================] - 1s 717us/step - loss: 0.4392 - mean_absolute_error: 0.5408 - acc: 0.5447 - val_loss: 0.5932 - val_mean_absolute_error: 0.7036 - val_acc: 0.2132\n",
      "Epoch 178/200\n",
      "1979/1979 [==============================] - 1s 718us/step - loss: 0.4120 - mean_absolute_error: 0.5247 - acc: 0.5629 - val_loss: 0.5908 - val_mean_absolute_error: 0.6998 - val_acc: 0.2273\n",
      "Epoch 179/200\n",
      "1979/1979 [==============================] - 1s 710us/step - loss: 0.4035 - mean_absolute_error: 0.5174 - acc: 0.5766 - val_loss: 0.6086 - val_mean_absolute_error: 0.6886 - val_acc: 0.3239\n",
      "Epoch 180/200\n",
      "1979/1979 [==============================] - 1s 717us/step - loss: 0.4160 - mean_absolute_error: 0.5268 - acc: 0.5553 - val_loss: 0.5928 - val_mean_absolute_error: 0.6969 - val_acc: 0.2473\n",
      "Epoch 181/200\n",
      "1979/1979 [==============================] - 1s 712us/step - loss: 0.4207 - mean_absolute_error: 0.5214 - acc: 0.5705 - val_loss: 0.6684 - val_mean_absolute_error: 0.7300 - val_acc: 0.2532\n",
      "Epoch 182/200\n",
      "1979/1979 [==============================] - 1s 714us/step - loss: 0.4015 - mean_absolute_error: 0.5141 - acc: 0.5791 - val_loss: 0.6080 - val_mean_absolute_error: 0.6971 - val_acc: 0.3074\n",
      "Epoch 183/200\n",
      "1979/1979 [==============================] - 1s 714us/step - loss: 0.4212 - mean_absolute_error: 0.5241 - acc: 0.5755 - val_loss: 0.5815 - val_mean_absolute_error: 0.6978 - val_acc: 0.2014 - loss: 0.4359 - mean_absolute_error: 0.5305 -\n",
      "Epoch 184/200\n",
      "1979/1979 [==============================] - 1s 713us/step - loss: 0.4232 - mean_absolute_error: 0.5306 - acc: 0.5705 - val_loss: 0.6013 - val_mean_absolute_error: 0.7076 - val_acc: 0.2002\n",
      "Epoch 185/200\n",
      "1979/1979 [==============================] - 1s 719us/step - loss: 0.4146 - mean_absolute_error: 0.5197 - acc: 0.5826 - val_loss: 0.6304 - val_mean_absolute_error: 0.7154 - val_acc: 0.2568\n",
      "Epoch 186/200\n",
      "1979/1979 [==============================] - 1s 749us/step - loss: 0.4256 - mean_absolute_error: 0.5311 - acc: 0.5518 - val_loss: 0.6146 - val_mean_absolute_error: 0.7116 - val_acc: 0.2403\n",
      "Epoch 187/200\n",
      "1979/1979 [==============================] - 1s 712us/step - loss: 0.4142 - mean_absolute_error: 0.5168 - acc: 0.5887 - val_loss: 0.5891 - val_mean_absolute_error: 0.6972 - val_acc: 0.2473\n",
      "Epoch 188/200\n",
      "1979/1979 [==============================] - 1s 716us/step - loss: 0.4160 - mean_absolute_error: 0.5220 - acc: 0.5760 - val_loss: 0.5593 - val_mean_absolute_error: 0.6799 - val_acc: 0.2356\n",
      "Epoch 189/200\n",
      "1979/1979 [==============================] - 1s 718us/step - loss: 0.4079 - mean_absolute_error: 0.5193 - acc: 0.5715 - val_loss: 0.5798 - val_mean_absolute_error: 0.6909 - val_acc: 0.2650\n",
      "Epoch 190/200\n",
      "1979/1979 [==============================] - 1s 738us/step - loss: 0.4005 - mean_absolute_error: 0.5151 - acc: 0.5750 - val_loss: 0.7491 - val_mean_absolute_error: 0.7692 - val_acc: 0.2426\n",
      "Epoch 191/200\n",
      "1979/1979 [==============================] - 1s 732us/step - loss: 0.3987 - mean_absolute_error: 0.5085 - acc: 0.5882 - val_loss: 0.5820 - val_mean_absolute_error: 0.6909 - val_acc: 0.2509\n",
      "Epoch 192/200\n",
      "1979/1979 [==============================] - 1s 731us/step - loss: 0.3962 - mean_absolute_error: 0.5090 - acc: 0.5958 - val_loss: 0.5935 - val_mean_absolute_error: 0.6984 - val_acc: 0.2638\n",
      "Epoch 193/200\n",
      "1979/1979 [==============================] - 1s 740us/step - loss: 0.4052 - mean_absolute_error: 0.5135 - acc: 0.5892 - val_loss: 0.5927 - val_mean_absolute_error: 0.7008 - val_acc: 0.2132\n",
      "Epoch 194/200\n",
      "1979/1979 [==============================] - 2s 766us/step - loss: 0.4053 - mean_absolute_error: 0.5184 - acc: 0.5816 - val_loss: 0.6219 - val_mean_absolute_error: 0.7159 - val_acc: 0.2261\n",
      "Epoch 195/200\n",
      "1979/1979 [==============================] - 1s 735us/step - loss: 0.4084 - mean_absolute_error: 0.5187 - acc: 0.5705 - val_loss: 0.6281 - val_mean_absolute_error: 0.7095 - val_acc: 0.2909\n",
      "Epoch 196/200\n",
      "1979/1979 [==============================] - 1s 720us/step - loss: 0.4124 - mean_absolute_error: 0.5177 - acc: 0.5791 - val_loss: 0.6406 - val_mean_absolute_error: 0.7229 - val_acc: 0.2214\n",
      "Epoch 197/200\n",
      "1979/1979 [==============================] - 1s 719us/step - loss: 0.4089 - mean_absolute_error: 0.5160 - acc: 0.5912 - val_loss: 0.6100 - val_mean_absolute_error: 0.7087 - val_acc: 0.2309\n",
      "Epoch 198/200\n",
      "1979/1979 [==============================] - 1s 719us/step - loss: 0.4029 - mean_absolute_error: 0.5151 - acc: 0.5841 - val_loss: 0.6371 - val_mean_absolute_error: 0.7230 - val_acc: 0.2049\n",
      "Epoch 199/200\n"
     ]
    },
    {
     "name": "stdout",
     "output_type": "stream",
     "text": [
      "1979/1979 [==============================] - 1s 714us/step - loss: 0.4387 - mean_absolute_error: 0.5251 - acc: 0.5766 - val_loss: 0.6318 - val_mean_absolute_error: 0.7144 - val_acc: 0.2839\n",
      "Epoch 200/200\n",
      "1979/1979 [==============================] - 1s 723us/step - loss: 0.4142 - mean_absolute_error: 0.5233 - acc: 0.5675 - val_loss: 0.6192 - val_mean_absolute_error: 0.7038 - val_acc: 0.3074\n"
     ]
    },
    {
     "data": {
      "text/plain": [
       "<keras.callbacks.History at 0x176bd000780>"
      ]
     },
     "execution_count": 25,
     "metadata": {},
     "output_type": "execute_result"
    }
   ],
   "source": [
    "model.fit(train_spatial_features, train_labels,epochs = 200,batch_size = 32,validation_split=0.3)"
   ]
  },
  {
   "cell_type": "code",
   "execution_count": 33,
   "metadata": {},
   "outputs": [],
   "source": [
    "model.save_weights('spatial_model_weights_own.h5')"
   ]
  },
  {
   "cell_type": "code",
   "execution_count": 36,
   "metadata": {},
   "outputs": [],
   "source": [
    "model.load_weights('spatial_model_weights_own.h5')"
   ]
  },
  {
   "cell_type": "code",
   "execution_count": 34,
   "metadata": {},
   "outputs": [],
   "source": [
    "test_count = 0\n",
    "for i in s[16:40]:\n",
    "    test_count += i    "
   ]
  },
  {
   "cell_type": "code",
   "execution_count": 35,
   "metadata": {},
   "outputs": [],
   "source": [
    "test_spatial_features = spatial_features[video_count : video_count + test_count]"
   ]
  },
  {
   "cell_type": "code",
   "execution_count": 36,
   "metadata": {},
   "outputs": [
    {
     "data": {
      "text/plain": [
       "array([[[ 0.5117295 ,  1.4812031 ,  2.089833  , ...,  0.0320504 ,\n",
       "          0.74946517,  2.0842867 ]],\n",
       "\n",
       "       [[ 2.2174253 ,  2.5074909 ,  1.9961764 , ...,  1.0572639 ,\n",
       "         -0.278305  ,  1.2677629 ]],\n",
       "\n",
       "       [[-6.479222  , -2.2114284 , -7.797285  , ..., -3.2517078 ,\n",
       "         -2.3732724 ,  1.948557  ]],\n",
       "\n",
       "       ...,\n",
       "\n",
       "       [[-4.5808954 , -0.20696592, -0.27183923, ..., -7.720537  ,\n",
       "         -0.8091659 ,  1.9693133 ]],\n",
       "\n",
       "       [[-3.5427153 ,  0.04718582,  0.26275024, ..., -8.16752   ,\n",
       "         -0.51302606,  1.6021062 ]],\n",
       "\n",
       "       [[-0.6905319 , -0.42753932,  0.55341375, ..., -4.374134  ,\n",
       "          2.528847  ,  3.82409   ]]], dtype=float32)"
      ]
     },
     "execution_count": 36,
     "metadata": {},
     "output_type": "execute_result"
    }
   ],
   "source": [
    "test_spatial_features"
   ]
  },
  {
   "cell_type": "code",
   "execution_count": 37,
   "metadata": {},
   "outputs": [],
   "source": [
    "predicted_spatial_values = model.predict(test_spatial_features)"
   ]
  },
  {
   "cell_type": "code",
   "execution_count": 38,
   "metadata": {},
   "outputs": [
    {
     "data": {
      "text/plain": [
       "array([[1.8336589],\n",
       "       [1.9409547],\n",
       "       [1.5600754],\n",
       "       ...,\n",
       "       [2.0814466],\n",
       "       [2.265152 ],\n",
       "       [1.8372481]], dtype=float32)"
      ]
     },
     "execution_count": 38,
     "metadata": {},
     "output_type": "execute_result"
    }
   ],
   "source": [
    "predicted_spatial_values"
   ]
  },
  {
   "cell_type": "code",
   "execution_count": 39,
   "metadata": {},
   "outputs": [
    {
     "data": {
      "text/plain": [
       "array([3.2181234], dtype=float32)"
      ]
     },
     "execution_count": 39,
     "metadata": {},
     "output_type": "execute_result"
    }
   ],
   "source": [
    "max(predicted_spatial_values)"
   ]
  },
  {
   "cell_type": "code",
   "execution_count": 54,
   "metadata": {},
   "outputs": [],
   "source": [
    "pairs = []\n",
    "highlight = []\n",
    "nonhighlight = []\n",
    "training_data = []\n",
    "val_data = []\n",
    "\n",
    "start = 0\n",
    "for i in s[16:40]:\n",
    "    each_vid_features = test_spatial_features[start : start + (i - 1)]\n",
    "    each_vid_labels = predicted_spatial_values[start : start + (i - 1)]\n",
    "    \n",
    "    for j in range(each_vid_labels.size):\n",
    "        if(each_vid_labels[j] >= 2):\n",
    "            for k in range(0, each_vid_labels.size, 1):\n",
    "                    if k != j:\n",
    "                        if each_vid_labels[k] < 2:\n",
    "                            highlight.append(each_vid_features[j])\n",
    "                            nonhighlight.append(each_vid_features[k])\n",
    "                            #t = np.array([each_vid_features[j], each_vid_features[k]])\n",
    "                            #pairs.append(t)\n",
    "    start = i        "
   ]
  },
  {
   "cell_type": "code",
   "execution_count": 55,
   "metadata": {},
   "outputs": [
    {
     "data": {
      "text/plain": [
       "29027"
      ]
     },
     "execution_count": 55,
     "metadata": {},
     "output_type": "execute_result"
    }
   ],
   "source": [
    "len(highlight)"
   ]
  },
  {
   "cell_type": "code",
   "execution_count": 85,
   "metadata": {},
   "outputs": [],
   "source": [
    "training_data.append(highlight[0:20000])   \n",
    "training_data.append(nonhighlight[0:20000])  \n",
    "\n",
    "val_data.append(highlight[20000:])\n",
    "val_data.append(nonhighlight[20000:])\n"
   ]
  },
  {
   "cell_type": "code",
   "execution_count": 86,
   "metadata": {},
   "outputs": [],
   "source": [
    "y_train = np.zeros(shape=(len(training_data[0])))\n",
    "y_val = np.zeros(shape=(len(val_data[0])))"
   ]
  },
  {
   "cell_type": "code",
   "execution_count": 87,
   "metadata": {},
   "outputs": [],
   "source": [
    "model1 = Sequential()\n",
    "model1.add(Dense(1000, activation='relu', input_shape=(1,1000)))\n",
    "model1.add(Dropout(0.5))\n",
    "model1.add(Dense(512, activation='relu'))\n",
    "model1.add(Dropout(0.5))\n",
    "model1.add(Dense(256, activation='relu'))\n",
    "model1.add(Dropout(0.5))\n",
    "model1.add(Dense(128, activation='relu'))\n",
    "model1.add(Dropout(0.5))\n",
    "model1.add(Dense(64, activation='relu'))\n",
    "model1.add(Dropout(0.5))\n",
    "model1.add(Flatten())\n",
    "model1.add(Dense(1))"
   ]
  },
  {
   "cell_type": "code",
   "execution_count": 88,
   "metadata": {},
   "outputs": [],
   "source": [
    "model1.compile(optimizer='rmsprop',\n",
    "              loss='mse',\n",
    "              metrics=['mae','accuracy'])"
   ]
  },
  {
   "cell_type": "code",
   "execution_count": 89,
   "metadata": {},
   "outputs": [
    {
     "data": {
      "text/plain": [
       "<keras.callbacks.History at 0x24e38445588>"
      ]
     },
     "execution_count": 89,
     "metadata": {},
     "output_type": "execute_result"
    }
   ],
   "source": [
    "model1.fit(train_spatial_features, train_labels,epochs = 0)"
   ]
  },
  {
   "cell_type": "code",
   "execution_count": 90,
   "metadata": {},
   "outputs": [],
   "source": [
    "model2 = Sequential()\n",
    "model2.add(Dense(1000, activation='relu', input_shape=(1,1000)))\n",
    "model2.add(Dropout(0.5))\n",
    "model2.add(Dense(512, activation='relu'))\n",
    "model2.add(Dropout(0.5))\n",
    "model2.add(Dense(256, activation='relu'))\n",
    "model2.add(Dropout(0.5))\n",
    "model2.add(Dense(128, activation='relu'))\n",
    "model2.add(Dropout(0.5))\n",
    "model2.add(Dense(64, activation='relu'))\n",
    "model2.add(Dropout(0.5))\n",
    "model2.add(Flatten())\n",
    "model2.add(Dense(1))"
   ]
  },
  {
   "cell_type": "code",
   "execution_count": 91,
   "metadata": {},
   "outputs": [],
   "source": [
    "model2.compile(optimizer='rmsprop',\n",
    "              loss='mse',\n",
    "              metrics=['mae','accuracy'])"
   ]
  },
  {
   "cell_type": "code",
   "execution_count": 92,
   "metadata": {},
   "outputs": [
    {
     "data": {
      "text/plain": [
       "<keras.callbacks.History at 0x24e386483c8>"
      ]
     },
     "execution_count": 92,
     "metadata": {},
     "output_type": "execute_result"
    }
   ],
   "source": [
    "model2.fit(train_spatial_features, train_labels,epochs = 0)"
   ]
  },
  {
   "cell_type": "code",
   "execution_count": 52,
   "metadata": {},
   "outputs": [],
   "source": [
    "model1.load_weights('spatial_model_weights_own.h5')\n",
    "model2.load_weights('spatial_model_weights_own.h5')"
   ]
  },
  {
   "cell_type": "code",
   "execution_count": 76,
   "metadata": {},
   "outputs": [],
   "source": [
    "merge_one = Concatenate()([model1.output, model2.output])"
   ]
  },
  {
   "cell_type": "code",
   "execution_count": 77,
   "metadata": {},
   "outputs": [],
   "source": [
    "combined_features = Dense(16, activation = 'linear')(merge_one)\n",
    "combined_features = Activation('relu')(combined_features)\n",
    "combined_features = Dense(4, activation = 'linear')(combined_features)\n",
    "combined_features = Activation('relu')(combined_features)\n",
    "combined_features = Dense(1, activation = 'sigmoid')(combined_features)"
   ]
  },
  {
   "cell_type": "code",
   "execution_count": 78,
   "metadata": {},
   "outputs": [],
   "source": [
    "final_model = Model(inputs=[model1.input, model2.input], outputs=combined_features)"
   ]
  },
  {
   "cell_type": "code",
   "execution_count": 79,
   "metadata": {},
   "outputs": [],
   "source": [
    "def pair_loss(y_true,y_pred):\n",
    "    highlight = y_pred[0,:]\n",
    "    nonhighlight = y_pred[1,:]\n",
    "    \n",
    "    #loss = 1 - K.sigmoid(K.sum(highlight) + K.sum(nonhighlight))\n",
    "    loss = 1 - tf.reduce_sum(highlight) + tf.reduce_sum(nonhighlight)\n",
    "    loss =  K.maximum(tf.reduce_sum(loss),0.0)\n",
    "    #loss = K.sigmoid(basic_loss)\n",
    " \n",
    "    return loss"
   ]
  },
  {
   "cell_type": "code",
   "execution_count": 80,
   "metadata": {},
   "outputs": [],
   "source": [
    "final_model.compile(optimizer=SGD(lr=0.001, momentum=0.9, nesterov=True),loss=pair_loss)"
   ]
  },
  {
   "cell_type": "code",
   "execution_count": 81,
   "metadata": {},
   "outputs": [
    {
     "name": "stdout",
     "output_type": "stream",
     "text": [
      "Train on 50000 samples, validate on 18870 samples\n",
      "Epoch 1/10\n",
      "50000/50000 [==============================] - 21s 417us/step - loss: 1.0186 - val_loss: 1.0011\n",
      "Epoch 2/10\n",
      "50000/50000 [==============================] - 12s 246us/step - loss: 1.0029 - val_loss: 1.0003\n",
      "Epoch 3/10\n",
      "50000/50000 [==============================] - 13s 255us/step - loss: 1.0029 - val_loss: 1.0000\n",
      "Epoch 4/10\n",
      "50000/50000 [==============================] - 13s 253us/step - loss: 0.9898 - val_loss: 1.0001\n",
      "Epoch 5/10\n",
      "50000/50000 [==============================] - 13s 257us/step - loss: 0.9573 - val_loss: 1.0000\n",
      "Epoch 6/10\n",
      "50000/50000 [==============================] - 13s 252us/step - loss: 0.9906 - val_loss: 1.0000\n",
      "Epoch 7/10\n",
      "50000/50000 [==============================] - 13s 253us/step - loss: 0.9994 - val_loss: 1.0000\n",
      "Epoch 8/10\n",
      "50000/50000 [==============================] - 13s 253us/step - loss: 0.9940 - val_loss: 1.0000\n",
      "Epoch 9/10\n",
      "50000/50000 [==============================] - 13s 251us/step - loss: 0.9973 - val_loss: 1.0000\n",
      "Epoch 10/10\n",
      "50000/50000 [==============================] - 13s 251us/step - loss: 1.0006 - val_loss: 1.0000\n"
     ]
    },
    {
     "data": {
      "text/plain": [
       "<keras.callbacks.History at 0x11ea4352da0>"
      ]
     },
     "execution_count": 81,
     "metadata": {},
     "output_type": "execute_result"
    }
   ],
   "source": [
    "final_model.fit(training_data,y_train, batch_size=256, epochs=10, verbose = 1, validation_data = (val_data, y_val))"
   ]
  },
  {
   "cell_type": "markdown",
   "metadata": {},
   "source": [
    "# Temporal DCNN"
   ]
  },
  {
   "cell_type": "code",
   "execution_count": 36,
   "metadata": {},
   "outputs": [],
   "source": [
    "with h5py.File('temporal_features_own.hdf5', 'r') as f:\n",
    "    temporal_features = f.get('video_feature_arr').value"
   ]
  },
  {
   "cell_type": "code",
   "execution_count": 37,
   "metadata": {},
   "outputs": [],
   "source": [
    "train_temporal_features = temporal_features[0:video_count]"
   ]
  },
  {
   "cell_type": "code",
   "execution_count": 38,
   "metadata": {},
   "outputs": [
    {
     "data": {
      "text/plain": [
       "2828"
      ]
     },
     "execution_count": 38,
     "metadata": {},
     "output_type": "execute_result"
    }
   ],
   "source": [
    "len(train_temporal_features)"
   ]
  },
  {
   "cell_type": "code",
   "execution_count": 39,
   "metadata": {},
   "outputs": [],
   "source": [
    "t_model = Sequential()\n",
    "t_model.add(Dense(1000, activation='relu'))\n",
    "t_model.add(Dropout(0.5))\n",
    "t_model.add(Dense(512, activation='relu'))\n",
    "t_model.add(Dropout(0.5))\n",
    "t_model.add(Dense(256, activation='relu'))\n",
    "t_model.add(Dropout(0.5))\n",
    "t_model.add(Dense(128, activation='relu'))\n",
    "t_model.add(Dropout(0.5))\n",
    "t_model.add(Dense(64, activation='relu'))\n",
    "t_model.add(Dropout(0.5))\n",
    "t_model.add(Flatten())\n",
    "t_model.add(Dense(1))"
   ]
  },
  {
   "cell_type": "code",
   "execution_count": 40,
   "metadata": {},
   "outputs": [],
   "source": [
    "t_model.compile(optimizer='rmsprop',\n",
    "              loss='mse',\n",
    "              metrics=['mae', 'accuracy'])"
   ]
  },
  {
   "cell_type": "code",
   "execution_count": 41,
   "metadata": {},
   "outputs": [
    {
     "name": "stdout",
     "output_type": "stream",
     "text": [
      "Train on 1979 samples, validate on 849 samples\n",
      "Epoch 1/200\n",
      "1979/1979 [==============================] - 6s 3ms/step - loss: 682.2514 - mean_absolute_error: 16.5574 - acc: 0.0273 - val_loss: 3.0017 - val_mean_absolute_error: 1.5405 - val_acc: 0.0130\n",
      "Epoch 2/200\n",
      "1979/1979 [==============================] - 5s 2ms/step - loss: 64.4980 - mean_absolute_error: 5.4152 - acc: 0.0768 - val_loss: 2.2313 - val_mean_absolute_error: 1.2932 - val_acc: 0.0188\n",
      "Epoch 3/200\n",
      "1979/1979 [==============================] - 5s 2ms/step - loss: 24.4144 - mean_absolute_error: 3.1582 - acc: 0.1203 - val_loss: 2.1788 - val_mean_absolute_error: 1.2778 - val_acc: 0.0035\n",
      "Epoch 4/200\n",
      "1979/1979 [==============================] - 5s 2ms/step - loss: 8.8668 - mean_absolute_error: 2.0745 - acc: 0.1652 - val_loss: 2.2454 - val_mean_absolute_error: 1.3033 - val_acc: 0.0000e+00\n",
      "Epoch 5/200\n",
      "1979/1979 [==============================] - 5s 2ms/step - loss: 4.5215 - mean_absolute_error: 1.5354 - acc: 0.2264 - val_loss: 2.1358 - val_mean_absolute_error: 1.2618 - val_acc: 0.0000e+00\n",
      "Epoch 6/200\n",
      "1979/1979 [==============================] - 5s 2ms/step - loss: 2.6907 - mean_absolute_error: 1.2034 - acc: 0.2769 - val_loss: 1.8837 - val_mean_absolute_error: 1.1590 - val_acc: 0.0012\n",
      "Epoch 7/200\n",
      "1979/1979 [==============================] - 5s 2ms/step - loss: 2.0793 - mean_absolute_error: 1.0429 - acc: 0.3552 - val_loss: 1.7514 - val_mean_absolute_error: 1.0973 - val_acc: 0.0082\n",
      "Epoch 8/200\n",
      "1979/1979 [==============================] - 5s 2ms/step - loss: 1.7977 - mean_absolute_error: 0.9906 - acc: 0.3780 - val_loss: 1.4683 - val_mean_absolute_error: 0.9594 - val_acc: 0.5077\n",
      "Epoch 9/200\n",
      "1979/1979 [==============================] - 5s 2ms/step - loss: 1.4745 - mean_absolute_error: 0.9055 - acc: 0.4123 - val_loss: 1.2171 - val_mean_absolute_error: 0.8199 - val_acc: 0.6455\n",
      "Epoch 10/200\n",
      "1979/1979 [==============================] - 5s 2ms/step - loss: 1.2311 - mean_absolute_error: 0.8310 - acc: 0.4341 - val_loss: 1.3453 - val_mean_absolute_error: 0.8930 - val_acc: 0.6431\n",
      "Epoch 11/200\n",
      "1979/1979 [==============================] - 5s 2ms/step - loss: 1.1203 - mean_absolute_error: 0.7913 - acc: 0.4381 - val_loss: 1.1728 - val_mean_absolute_error: 0.7901 - val_acc: 0.6490\n",
      "Epoch 12/200\n",
      "1979/1979 [==============================] - 5s 3ms/step - loss: 1.2075 - mean_absolute_error: 0.7976 - acc: 0.4492 - val_loss: 1.1182 - val_mean_absolute_error: 0.7565 - val_acc: 0.6514\n",
      "Epoch 13/200\n",
      "1979/1979 [==============================] - 5s 2ms/step - loss: 1.0579 - mean_absolute_error: 0.7610 - acc: 0.4669 - val_loss: 1.0122 - val_mean_absolute_error: 0.6794 - val_acc: 0.6514\n",
      "Epoch 14/200\n",
      "1979/1979 [==============================] - 5s 2ms/step - loss: 1.0350 - mean_absolute_error: 0.7522 - acc: 0.4654 - val_loss: 0.9244 - val_mean_absolute_error: 0.6169 - val_acc: 0.6514\n",
      "Epoch 15/200\n",
      "1979/1979 [==============================] - 5s 2ms/step - loss: 0.9658 - mean_absolute_error: 0.7331 - acc: 0.4583 - val_loss: 0.9830 - val_mean_absolute_error: 0.6597 - val_acc: 0.6514\n",
      "Epoch 16/200\n",
      "1979/1979 [==============================] - 5s 2ms/step - loss: 0.9787 - mean_absolute_error: 0.7168 - acc: 0.4805 - val_loss: 0.7606 - val_mean_absolute_error: 0.5378 - val_acc: 0.6502\n",
      "Epoch 17/200\n",
      "1979/1979 [==============================] - 5s 2ms/step - loss: 0.8749 - mean_absolute_error: 0.7082 - acc: 0.4583 - val_loss: 0.9029 - val_mean_absolute_error: 0.5981 - val_acc: 0.6514\n",
      "Epoch 18/200\n",
      "1979/1979 [==============================] - 5s 2ms/step - loss: 0.7981 - mean_absolute_error: 0.6857 - acc: 0.4659 - val_loss: 0.7879 - val_mean_absolute_error: 0.5394 - val_acc: 0.6514\n",
      "Epoch 19/200\n",
      "1979/1979 [==============================] - 5s 2ms/step - loss: 0.8190 - mean_absolute_error: 0.6828 - acc: 0.4765 - val_loss: 0.7717 - val_mean_absolute_error: 0.5306 - val_acc: 0.6514\n",
      "Epoch 20/200\n",
      "1979/1979 [==============================] - 5s 2ms/step - loss: 0.8224 - mean_absolute_error: 0.6779 - acc: 0.4836 - val_loss: 0.7864 - val_mean_absolute_error: 0.5255 - val_acc: 0.6514\n",
      "Epoch 21/200\n",
      "1979/1979 [==============================] - 5s 3ms/step - loss: 0.7586 - mean_absolute_error: 0.6770 - acc: 0.4684 - val_loss: 0.6451 - val_mean_absolute_error: 0.5522 - val_acc: 0.6502\n",
      "Epoch 22/200\n",
      "1979/1979 [==============================] - 5s 3ms/step - loss: 0.7739 - mean_absolute_error: 0.6632 - acc: 0.4881 - val_loss: 0.6328 - val_mean_absolute_error: 0.5616 - val_acc: 0.6502\n",
      "Epoch 23/200\n",
      "1979/1979 [==============================] - 5s 2ms/step - loss: 0.7130 - mean_absolute_error: 0.6482 - acc: 0.4992 - val_loss: 0.6892 - val_mean_absolute_error: 0.5335 - val_acc: 0.6514\n",
      "Epoch 24/200\n",
      "1979/1979 [==============================] - 5s 2ms/step - loss: 0.7147 - mean_absolute_error: 0.6512 - acc: 0.4982 - val_loss: 0.6798 - val_mean_absolute_error: 0.5350 - val_acc: 0.6514\n",
      "Epoch 25/200\n",
      "1979/1979 [==============================] - 5s 3ms/step - loss: 0.6823 - mean_absolute_error: 0.6418 - acc: 0.4972 - val_loss: 0.6801 - val_mean_absolute_error: 0.5366 - val_acc: 0.6514\n",
      "Epoch 26/200\n",
      "1979/1979 [==============================] - 6s 3ms/step - loss: 0.6869 - mean_absolute_error: 0.6500 - acc: 0.4912 - val_loss: 0.6305 - val_mean_absolute_error: 0.5598 - val_acc: 0.6514\n",
      "Epoch 27/200\n",
      "1979/1979 [==============================] - 5s 3ms/step - loss: 0.6599 - mean_absolute_error: 0.6388 - acc: 0.5048 - val_loss: 0.6314 - val_mean_absolute_error: 0.5566 - val_acc: 0.6514\n",
      "Epoch 28/200\n",
      "1979/1979 [==============================] - 5s 2ms/step - loss: 0.6618 - mean_absolute_error: 0.6437 - acc: 0.4942 - val_loss: 0.6642 - val_mean_absolute_error: 0.5417 - val_acc: 0.6514\n",
      "Epoch 29/200\n",
      "1979/1979 [==============================] - 4s 2ms/step - loss: 0.6459 - mean_absolute_error: 0.6416 - acc: 0.5018 - val_loss: 0.5893 - val_mean_absolute_error: 0.5824 - val_acc: 0.6478\n",
      "Epoch 30/200\n",
      "1979/1979 [==============================] - 4s 2ms/step - loss: 0.6405 - mean_absolute_error: 0.6321 - acc: 0.5149 - val_loss: 0.6070 - val_mean_absolute_error: 0.5757 - val_acc: 0.6514\n",
      "Epoch 31/200\n",
      "1979/1979 [==============================] - 4s 2ms/step - loss: 0.6166 - mean_absolute_error: 0.6348 - acc: 0.4962 - val_loss: 0.6270 - val_mean_absolute_error: 0.5574 - val_acc: 0.6514\n",
      "Epoch 32/200\n",
      "1979/1979 [==============================] - 5s 3ms/step - loss: 0.6099 - mean_absolute_error: 0.6335 - acc: 0.5018 - val_loss: 0.5898 - val_mean_absolute_error: 0.5850 - val_acc: 0.6514\n",
      "Epoch 33/200\n",
      "1979/1979 [==============================] - 5s 2ms/step - loss: 0.6017 - mean_absolute_error: 0.6336 - acc: 0.5028 - val_loss: 0.5742 - val_mean_absolute_error: 0.5979 - val_acc: 0.6490\n",
      "Epoch 34/200\n",
      "1979/1979 [==============================] - 5s 2ms/step - loss: 0.5888 - mean_absolute_error: 0.6282 - acc: 0.5119 - val_loss: 0.5662 - val_mean_absolute_error: 0.6044 - val_acc: 0.6478\n",
      "Epoch 35/200\n",
      "1979/1979 [==============================] - 5s 3ms/step - loss: 0.5877 - mean_absolute_error: 0.6357 - acc: 0.4942 - val_loss: 0.5761 - val_mean_absolute_error: 0.5924 - val_acc: 0.6502\n",
      "Epoch 36/200\n",
      "1979/1979 [==============================] - 5s 2ms/step - loss: 0.5623 - mean_absolute_error: 0.6251 - acc: 0.5134 - val_loss: 0.5524 - val_mean_absolute_error: 0.6240 - val_acc: 0.5583\n",
      "Epoch 37/200\n",
      "1979/1979 [==============================] - 5s 2ms/step - loss: 0.5913 - mean_absolute_error: 0.6365 - acc: 0.5058 - val_loss: 0.5503 - val_mean_absolute_error: 0.6338 - val_acc: 0.5100\n",
      "Epoch 38/200\n",
      "1979/1979 [==============================] - 6s 3ms/step - loss: 0.6045 - mean_absolute_error: 0.6493 - acc: 0.4846 - val_loss: 0.5520 - val_mean_absolute_error: 0.6231 - val_acc: 0.6066\n",
      "Epoch 39/200\n",
      "1979/1979 [==============================] - 5s 3ms/step - loss: 0.5928 - mean_absolute_error: 0.6404 - acc: 0.4896 - val_loss: 0.5488 - val_mean_absolute_error: 0.6329 - val_acc: 0.5289\n",
      "Epoch 40/200\n",
      "1979/1979 [==============================] - 5s 3ms/step - loss: 0.5765 - mean_absolute_error: 0.6313 - acc: 0.5058 - val_loss: 0.5476 - val_mean_absolute_error: 0.6364 - val_acc: 0.5006\n",
      "Epoch 41/200\n",
      "1979/1979 [==============================] - 5s 3ms/step - loss: 0.5613 - mean_absolute_error: 0.6331 - acc: 0.4947 - val_loss: 0.5592 - val_mean_absolute_error: 0.6657 - val_acc: 0.3298\n"
     ]
    },
    {
     "name": "stdout",
     "output_type": "stream",
     "text": [
      "Epoch 42/200\n",
      "1979/1979 [==============================] - 5s 2ms/step - loss: 0.5614 - mean_absolute_error: 0.6289 - acc: 0.4967 - val_loss: 0.5611 - val_mean_absolute_error: 0.6715 - val_acc: 0.3110\n",
      "Epoch 43/200\n",
      "1979/1979 [==============================] - 5s 2ms/step - loss: 0.5969 - mean_absolute_error: 0.6400 - acc: 0.5033 - val_loss: 0.5484 - val_mean_absolute_error: 0.6513 - val_acc: 0.4028\n",
      "Epoch 44/200\n",
      "1979/1979 [==============================] - 5s 2ms/step - loss: 0.5597 - mean_absolute_error: 0.6308 - acc: 0.5169 - val_loss: 0.5608 - val_mean_absolute_error: 0.6721 - val_acc: 0.3121\n",
      "Epoch 45/200\n",
      "1979/1979 [==============================] - 5s 2ms/step - loss: 0.5553 - mean_absolute_error: 0.6336 - acc: 0.5053 - val_loss: 0.5481 - val_mean_absolute_error: 0.6432 - val_acc: 0.4865\n",
      "Epoch 46/200\n",
      "1979/1979 [==============================] - 5s 2ms/step - loss: 0.5435 - mean_absolute_error: 0.6195 - acc: 0.5291 - val_loss: 0.5735 - val_mean_absolute_error: 0.6814 - val_acc: 0.3004\n",
      "Epoch 47/200\n",
      "1979/1979 [==============================] - 5s 2ms/step - loss: 0.5473 - mean_absolute_error: 0.6173 - acc: 0.5149 - val_loss: 0.5433 - val_mean_absolute_error: 0.6435 - val_acc: 0.4700\n",
      "Epoch 48/200\n",
      "1979/1979 [==============================] - 5s 2ms/step - loss: 0.5347 - mean_absolute_error: 0.6128 - acc: 0.5397 - val_loss: 0.5859 - val_mean_absolute_error: 0.6937 - val_acc: 0.2886\n",
      "Epoch 49/200\n",
      "1979/1979 [==============================] - 5s 2ms/step - loss: 0.5314 - mean_absolute_error: 0.6093 - acc: 0.5280 - val_loss: 0.5517 - val_mean_absolute_error: 0.6624 - val_acc: 0.3180\n",
      "Epoch 50/200\n",
      "1979/1979 [==============================] - 5s 2ms/step - loss: 0.5326 - mean_absolute_error: 0.6182 - acc: 0.5083 - val_loss: 0.5587 - val_mean_absolute_error: 0.6752 - val_acc: 0.2650\n",
      "Epoch 51/200\n",
      "1979/1979 [==============================] - 5s 2ms/step - loss: 0.5322 - mean_absolute_error: 0.6134 - acc: 0.5205 - val_loss: 0.5616 - val_mean_absolute_error: 0.6775 - val_acc: 0.2733\n",
      "Epoch 52/200\n",
      "1979/1979 [==============================] - 5s 2ms/step - loss: 0.5419 - mean_absolute_error: 0.6173 - acc: 0.5195 - val_loss: 0.5428 - val_mean_absolute_error: 0.6491 - val_acc: 0.3840\n",
      "Epoch 53/200\n",
      "1979/1979 [==============================] - 5s 2ms/step - loss: 0.5139 - mean_absolute_error: 0.5960 - acc: 0.5336 - val_loss: 0.5635 - val_mean_absolute_error: 0.6793 - val_acc: 0.2686\n",
      "Epoch 54/200\n",
      "1979/1979 [==============================] - 5s 2ms/step - loss: 0.5219 - mean_absolute_error: 0.6027 - acc: 0.5200 - val_loss: 0.5470 - val_mean_absolute_error: 0.6604 - val_acc: 0.2309\n",
      "Epoch 55/200\n",
      "1979/1979 [==============================] - 5s 2ms/step - loss: 0.5261 - mean_absolute_error: 0.6111 - acc: 0.4901 - val_loss: 0.5568 - val_mean_absolute_error: 0.6719 - val_acc: 0.2226\n",
      "Epoch 56/200\n",
      "1979/1979 [==============================] - 5s 2ms/step - loss: 0.5185 - mean_absolute_error: 0.5996 - acc: 0.4997 - val_loss: 0.5657 - val_mean_absolute_error: 0.6853 - val_acc: 0.2273\n",
      "Epoch 57/200\n",
      "1979/1979 [==============================] - 5s 2ms/step - loss: 0.5024 - mean_absolute_error: 0.5930 - acc: 0.4922 - val_loss: 0.5814 - val_mean_absolute_error: 0.6937 - val_acc: 0.2285\n",
      "Epoch 58/200\n",
      "1979/1979 [==============================] - 5s 2ms/step - loss: 0.5303 - mean_absolute_error: 0.5986 - acc: 0.4755 - val_loss: 0.5741 - val_mean_absolute_error: 0.6889 - val_acc: 0.2320\n",
      "Epoch 59/200\n",
      "1979/1979 [==============================] - 5s 2ms/step - loss: 0.5026 - mean_absolute_error: 0.5926 - acc: 0.4866 - val_loss: 0.6084 - val_mean_absolute_error: 0.7080 - val_acc: 0.2297\n",
      "Epoch 60/200\n",
      "1979/1979 [==============================] - 5s 2ms/step - loss: 0.4924 - mean_absolute_error: 0.5933 - acc: 0.4715 - val_loss: 0.6944 - val_mean_absolute_error: 0.7519 - val_acc: 0.2403\n",
      "Epoch 61/200\n",
      "1979/1979 [==============================] - 5s 2ms/step - loss: 0.5050 - mean_absolute_error: 0.5944 - acc: 0.4866 - val_loss: 0.5834 - val_mean_absolute_error: 0.6946 - val_acc: 0.2261\n",
      "Epoch 62/200\n",
      "1979/1979 [==============================] - 5s 2ms/step - loss: 0.4912 - mean_absolute_error: 0.5864 - acc: 0.4876 - val_loss: 0.6162 - val_mean_absolute_error: 0.7147 - val_acc: 0.2297\n",
      "Epoch 63/200\n",
      "1979/1979 [==============================] - 5s 2ms/step - loss: 0.5075 - mean_absolute_error: 0.5901 - acc: 0.4987 - val_loss: 0.5848 - val_mean_absolute_error: 0.6982 - val_acc: 0.2285\n",
      "Epoch 64/200\n",
      "1979/1979 [==============================] - 5s 2ms/step - loss: 0.4942 - mean_absolute_error: 0.5776 - acc: 0.5109 - val_loss: 0.5698 - val_mean_absolute_error: 0.6875 - val_acc: 0.2309\n",
      "Epoch 65/200\n",
      "1979/1979 [==============================] - 5s 2ms/step - loss: 0.4952 - mean_absolute_error: 0.5893 - acc: 0.4725 - val_loss: 0.6279 - val_mean_absolute_error: 0.7219 - val_acc: 0.2344\n",
      "Epoch 66/200\n",
      "1979/1979 [==============================] - 5s 2ms/step - loss: 0.4962 - mean_absolute_error: 0.5800 - acc: 0.4987 - val_loss: 0.5574 - val_mean_absolute_error: 0.6778 - val_acc: 0.2132\n",
      "Epoch 67/200\n",
      "1979/1979 [==============================] - 5s 2ms/step - loss: 0.4833 - mean_absolute_error: 0.5728 - acc: 0.5139 - val_loss: 0.5862 - val_mean_absolute_error: 0.6981 - val_acc: 0.2097\n",
      "Epoch 68/200\n",
      "1979/1979 [==============================] - 5s 2ms/step - loss: 0.5002 - mean_absolute_error: 0.5841 - acc: 0.4891 - val_loss: 0.6103 - val_mean_absolute_error: 0.7154 - val_acc: 0.2097\n",
      "Epoch 69/200\n",
      "1979/1979 [==============================] - 5s 2ms/step - loss: 0.4938 - mean_absolute_error: 0.5895 - acc: 0.4563 - val_loss: 0.5685 - val_mean_absolute_error: 0.6879 - val_acc: 0.2179n_absolute_error: 0.5907 - acc: 0.4\n",
      "Epoch 70/200\n",
      "1979/1979 [==============================] - 5s 2ms/step - loss: 0.4780 - mean_absolute_error: 0.5755 - acc: 0.4967 - val_loss: 0.6211 - val_mean_absolute_error: 0.7193 - val_acc: 0.2108\n",
      "Epoch 71/200\n",
      "1979/1979 [==============================] - 5s 2ms/step - loss: 0.4707 - mean_absolute_error: 0.5695 - acc: 0.4997 - val_loss: 0.6066 - val_mean_absolute_error: 0.7113 - val_acc: 0.2108\n",
      "Epoch 72/200\n",
      "1979/1979 [==============================] - 5s 2ms/step - loss: 0.4881 - mean_absolute_error: 0.5769 - acc: 0.4922 - val_loss: 0.7138 - val_mean_absolute_error: 0.7666 - val_acc: 0.2120\n",
      "Epoch 73/200\n",
      "1979/1979 [==============================] - 5s 3ms/step - loss: 0.4615 - mean_absolute_error: 0.5551 - acc: 0.5346 - val_loss: 0.6604 - val_mean_absolute_error: 0.7411 - val_acc: 0.2049\n",
      "Epoch 74/200\n",
      "1979/1979 [==============================] - 6s 3ms/step - loss: 0.4730 - mean_absolute_error: 0.5664 - acc: 0.5291 - val_loss: 0.5882 - val_mean_absolute_error: 0.7023 - val_acc: 0.2214\n",
      "Epoch 75/200\n",
      "1979/1979 [==============================] - 5s 3ms/step - loss: 0.4606 - mean_absolute_error: 0.5620 - acc: 0.5093 - val_loss: 0.5841 - val_mean_absolute_error: 0.7010 - val_acc: 0.2014\n",
      "Epoch 76/200\n",
      "1979/1979 [==============================] - 5s 3ms/step - loss: 0.4680 - mean_absolute_error: 0.5611 - acc: 0.5195 - val_loss: 0.6195 - val_mean_absolute_error: 0.7200 - val_acc: 0.2026\n",
      "Epoch 77/200\n",
      "1979/1979 [==============================] - 5s 3ms/step - loss: 0.4638 - mean_absolute_error: 0.5640 - acc: 0.5043 - val_loss: 0.6098 - val_mean_absolute_error: 0.7132 - val_acc: 0.2014\n",
      "Epoch 78/200\n",
      "1979/1979 [==============================] - 5s 3ms/step - loss: 0.4684 - mean_absolute_error: 0.5660 - acc: 0.5068 - val_loss: 0.6328 - val_mean_absolute_error: 0.7259 - val_acc: 0.2038\n",
      "Epoch 79/200\n",
      "1979/1979 [==============================] - 5s 2ms/step - loss: 0.4572 - mean_absolute_error: 0.5596 - acc: 0.5296 - val_loss: 0.5864 - val_mean_absolute_error: 0.7000 - val_acc: 0.2191\n",
      "Epoch 80/200\n",
      "1979/1979 [==============================] - 5s 2ms/step - loss: 0.4714 - mean_absolute_error: 0.5632 - acc: 0.5205 - val_loss: 0.5848 - val_mean_absolute_error: 0.7003 - val_acc: 0.2014\n",
      "Epoch 81/200\n",
      "1979/1979 [==============================] - 5s 2ms/step - loss: 0.4728 - mean_absolute_error: 0.5679 - acc: 0.5215 - val_loss: 0.6051 - val_mean_absolute_error: 0.7043 - val_acc: 0.2438\n",
      "Epoch 82/200\n",
      "1979/1979 [==============================] - 5s 2ms/step - loss: 0.4622 - mean_absolute_error: 0.5552 - acc: 0.5306 - val_loss: 0.6344 - val_mean_absolute_error: 0.7268 - val_acc: 0.2214\n"
     ]
    },
    {
     "name": "stdout",
     "output_type": "stream",
     "text": [
      "Epoch 83/200\n",
      "1979/1979 [==============================] - 4s 2ms/step - loss: 0.4588 - mean_absolute_error: 0.5637 - acc: 0.4937 - val_loss: 0.6444 - val_mean_absolute_error: 0.7338 - val_acc: 0.2085\n",
      "Epoch 84/200\n",
      "1979/1979 [==============================] - 4s 2ms/step - loss: 0.4438 - mean_absolute_error: 0.5431 - acc: 0.5366 - val_loss: 0.6201 - val_mean_absolute_error: 0.7204 - val_acc: 0.2097\n",
      "Epoch 85/200\n",
      "1979/1979 [==============================] - 5s 2ms/step - loss: 0.4498 - mean_absolute_error: 0.5471 - acc: 0.5392 - val_loss: 0.5959 - val_mean_absolute_error: 0.7056 - val_acc: 0.2073\n",
      "Epoch 86/200\n",
      "1979/1979 [==============================] - 5s 2ms/step - loss: 0.4310 - mean_absolute_error: 0.5407 - acc: 0.5331 - val_loss: 0.7330 - val_mean_absolute_error: 0.7758 - val_acc: 0.2038\n",
      "Epoch 87/200\n",
      "1979/1979 [==============================] - 5s 2ms/step - loss: 0.4518 - mean_absolute_error: 0.5523 - acc: 0.5139 - val_loss: 0.5965 - val_mean_absolute_error: 0.7080 - val_acc: 0.2038\n",
      "Epoch 88/200\n",
      "1979/1979 [==============================] - 4s 2ms/step - loss: 0.4610 - mean_absolute_error: 0.5537 - acc: 0.5195 - val_loss: 0.6019 - val_mean_absolute_error: 0.7122 - val_acc: 0.2014\n",
      "Epoch 89/200\n",
      "1979/1979 [==============================] - 5s 2ms/step - loss: 0.4374 - mean_absolute_error: 0.5393 - acc: 0.5417 - val_loss: 0.6090 - val_mean_absolute_error: 0.7154 - val_acc: 0.2026\n",
      "Epoch 90/200\n",
      "1979/1979 [==============================] - 4s 2ms/step - loss: 0.4455 - mean_absolute_error: 0.5411 - acc: 0.5498 - val_loss: 0.6243 - val_mean_absolute_error: 0.7189 - val_acc: 0.2155\n",
      "Epoch 91/200\n",
      "1979/1979 [==============================] - 4s 2ms/step - loss: 0.4376 - mean_absolute_error: 0.5455 - acc: 0.5230 - val_loss: 0.6309 - val_mean_absolute_error: 0.7255 - val_acc: 0.2038\n",
      "Epoch 92/200\n",
      "1979/1979 [==============================] - 5s 2ms/step - loss: 0.4173 - mean_absolute_error: 0.5274 - acc: 0.5518 - val_loss: 0.6176 - val_mean_absolute_error: 0.7188 - val_acc: 0.2014\n",
      "Epoch 93/200\n",
      "1979/1979 [==============================] - 5s 2ms/step - loss: 0.4536 - mean_absolute_error: 0.5471 - acc: 0.5235 - val_loss: 0.5783 - val_mean_absolute_error: 0.6986 - val_acc: 0.2014\n",
      "Epoch 94/200\n",
      "1979/1979 [==============================] - 4s 2ms/step - loss: 0.4505 - mean_absolute_error: 0.5405 - acc: 0.5412 - val_loss: 0.6214 - val_mean_absolute_error: 0.7231 - val_acc: 0.2014\n",
      "Epoch 95/200\n",
      "1979/1979 [==============================] - 5s 2ms/step - loss: 0.4199 - mean_absolute_error: 0.5352 - acc: 0.5457 - val_loss: 0.6047 - val_mean_absolute_error: 0.7121 - val_acc: 0.2026\n",
      "Epoch 96/200\n",
      "1979/1979 [==============================] - 5s 2ms/step - loss: 0.4314 - mean_absolute_error: 0.5339 - acc: 0.5503 - val_loss: 0.7970 - val_mean_absolute_error: 0.8055 - val_acc: 0.2014\n",
      "Epoch 97/200\n",
      "1979/1979 [==============================] - 5s 2ms/step - loss: 0.4260 - mean_absolute_error: 0.5301 - acc: 0.5483 - val_loss: 0.6319 - val_mean_absolute_error: 0.7273 - val_acc: 0.2038\n",
      "Epoch 98/200\n",
      "1979/1979 [==============================] - 4s 2ms/step - loss: 0.4285 - mean_absolute_error: 0.5290 - acc: 0.5659 - val_loss: 0.6756 - val_mean_absolute_error: 0.7487 - val_acc: 0.2014\n",
      "Epoch 99/200\n",
      "1979/1979 [==============================] - 4s 2ms/step - loss: 0.4397 - mean_absolute_error: 0.5424 - acc: 0.5437 - val_loss: 0.6155 - val_mean_absolute_error: 0.7186 - val_acc: 0.2026\n",
      "Epoch 100/200\n",
      "1979/1979 [==============================] - 5s 2ms/step - loss: 0.4428 - mean_absolute_error: 0.5421 - acc: 0.5437 - val_loss: 0.5843 - val_mean_absolute_error: 0.7008 - val_acc: 0.2097\n",
      "Epoch 101/200\n",
      "1979/1979 [==============================] - 5s 2ms/step - loss: 0.4312 - mean_absolute_error: 0.5279 - acc: 0.5654 - val_loss: 0.5576 - val_mean_absolute_error: 0.6825 - val_acc: 0.2085\n",
      "Epoch 102/200\n",
      "1979/1979 [==============================] - 4s 2ms/step - loss: 0.4509 - mean_absolute_error: 0.5462 - acc: 0.5285 - val_loss: 0.5876 - val_mean_absolute_error: 0.7042 - val_acc: 0.2038\n",
      "Epoch 103/200\n",
      "1979/1979 [==============================] - 4s 2ms/step - loss: 0.4319 - mean_absolute_error: 0.5326 - acc: 0.5432 - val_loss: 0.6018 - val_mean_absolute_error: 0.7129 - val_acc: 0.2014\n",
      "Epoch 104/200\n",
      "1979/1979 [==============================] - 4s 2ms/step - loss: 0.4324 - mean_absolute_error: 0.5337 - acc: 0.5543 - val_loss: 0.7107 - val_mean_absolute_error: 0.7660 - val_acc: 0.2038\n",
      "Epoch 105/200\n",
      "1979/1979 [==============================] - 4s 2ms/step - loss: 0.4456 - mean_absolute_error: 0.5409 - acc: 0.5467 - val_loss: 0.5682 - val_mean_absolute_error: 0.6910 - val_acc: 0.2014\n",
      "Epoch 106/200\n",
      "1979/1979 [==============================] - 4s 2ms/step - loss: 0.4402 - mean_absolute_error: 0.5342 - acc: 0.5493 - val_loss: 0.5661 - val_mean_absolute_error: 0.6890 - val_acc: 0.2026\n",
      "Epoch 107/200\n",
      "1979/1979 [==============================] - 4s 2ms/step - loss: 0.4253 - mean_absolute_error: 0.5342 - acc: 0.5437 - val_loss: 0.6091 - val_mean_absolute_error: 0.7143 - val_acc: 0.2085\n",
      "Epoch 108/200\n",
      "1979/1979 [==============================] - 5s 2ms/step - loss: 0.4200 - mean_absolute_error: 0.5301 - acc: 0.5548 - val_loss: 0.6278 - val_mean_absolute_error: 0.7241 - val_acc: 0.2132\n",
      "Epoch 109/200\n",
      "1979/1979 [==============================] - 4s 2ms/step - loss: 0.4296 - mean_absolute_error: 0.5296 - acc: 0.5609 - val_loss: 0.6092 - val_mean_absolute_error: 0.7129 - val_acc: 0.2191\n",
      "Epoch 110/200\n",
      "1979/1979 [==============================] - 5s 2ms/step - loss: 0.4244 - mean_absolute_error: 0.5264 - acc: 0.5786 - val_loss: 0.6373 - val_mean_absolute_error: 0.7309 - val_acc: 0.2038\n",
      "Epoch 111/200\n",
      "1979/1979 [==============================] - 5s 2ms/step - loss: 0.4368 - mean_absolute_error: 0.5295 - acc: 0.5619 - val_loss: 0.6012 - val_mean_absolute_error: 0.7114 - val_acc: 0.2014loss: 0.4001 - \n",
      "Epoch 112/200\n",
      "1979/1979 [==============================] - 4s 2ms/step - loss: 0.4240 - mean_absolute_error: 0.5213 - acc: 0.5715 - val_loss: 0.6522 - val_mean_absolute_error: 0.7357 - val_acc: 0.2026\n",
      "Epoch 113/200\n",
      "1979/1979 [==============================] - 5s 3ms/step - loss: 0.4168 - mean_absolute_error: 0.5244 - acc: 0.5553 - val_loss: 0.5854 - val_mean_absolute_error: 0.6974 - val_acc: 0.2073\n",
      "Epoch 114/200\n",
      "1979/1979 [==============================] - 5s 3ms/step - loss: 0.4245 - mean_absolute_error: 0.5211 - acc: 0.5771 - val_loss: 0.6754 - val_mean_absolute_error: 0.7482 - val_acc: 0.2179\n",
      "Epoch 115/200\n",
      "1979/1979 [==============================] - 5s 3ms/step - loss: 0.3996 - mean_absolute_error: 0.5109 - acc: 0.5766 - val_loss: 0.6028 - val_mean_absolute_error: 0.7130 - val_acc: 0.2026\n",
      "Epoch 116/200\n",
      "1979/1979 [==============================] - 5s 3ms/step - loss: 0.4410 - mean_absolute_error: 0.5352 - acc: 0.5483 - val_loss: 0.6372 - val_mean_absolute_error: 0.7293 - val_acc: 0.2014\n",
      "Epoch 117/200\n",
      "1979/1979 [==============================] - 5s 3ms/step - loss: 0.4156 - mean_absolute_error: 0.5271 - acc: 0.5558 - val_loss: 0.6329 - val_mean_absolute_error: 0.7232 - val_acc: 0.2226\n",
      "Epoch 118/200\n",
      "1979/1979 [==============================] - 5s 2ms/step - loss: 0.4138 - mean_absolute_error: 0.5258 - acc: 0.5467 - val_loss: 0.6913 - val_mean_absolute_error: 0.7546 - val_acc: 0.2203\n",
      "Epoch 119/200\n",
      "1979/1979 [==============================] - 5s 2ms/step - loss: 0.4131 - mean_absolute_error: 0.5256 - acc: 0.5659 - val_loss: 0.7278 - val_mean_absolute_error: 0.7719 - val_acc: 0.2144\n",
      "Epoch 120/200\n",
      "1979/1979 [==============================] - 5s 2ms/step - loss: 0.4260 - mean_absolute_error: 0.5265 - acc: 0.5685 - val_loss: 0.6341 - val_mean_absolute_error: 0.7249 - val_acc: 0.2120\n",
      "Epoch 121/200\n",
      "1979/1979 [==============================] - 5s 2ms/step - loss: 0.4068 - mean_absolute_error: 0.5166 - acc: 0.5740 - val_loss: 0.6440 - val_mean_absolute_error: 0.7333 - val_acc: 0.2026\n",
      "Epoch 122/200\n",
      "1979/1979 [==============================] - 5s 2ms/step - loss: 0.3956 - mean_absolute_error: 0.5143 - acc: 0.5776 - val_loss: 0.5896 - val_mean_absolute_error: 0.7016 - val_acc: 0.2155\n",
      "Epoch 123/200\n",
      "1979/1979 [==============================] - 5s 2ms/step - loss: 0.4090 - mean_absolute_error: 0.5190 - acc: 0.5705 - val_loss: 0.6909 - val_mean_absolute_error: 0.7559 - val_acc: 0.2097\n"
     ]
    },
    {
     "name": "stdout",
     "output_type": "stream",
     "text": [
      "Epoch 124/200\n",
      "1979/1979 [==============================] - 4s 2ms/step - loss: 0.4255 - mean_absolute_error: 0.5273 - acc: 0.5680 - val_loss: 0.6096 - val_mean_absolute_error: 0.7160 - val_acc: 0.2026\n",
      "Epoch 125/200\n",
      "1979/1979 [==============================] - 5s 2ms/step - loss: 0.4048 - mean_absolute_error: 0.5157 - acc: 0.5771 - val_loss: 0.5847 - val_mean_absolute_error: 0.7012 - val_acc: 0.2097\n",
      "Epoch 126/200\n",
      "1979/1979 [==============================] - 5s 2ms/step - loss: 0.4034 - mean_absolute_error: 0.5109 - acc: 0.5735 - val_loss: 0.5754 - val_mean_absolute_error: 0.6971 - val_acc: 0.2026\n",
      "Epoch 127/200\n",
      "1979/1979 [==============================] - 5s 2ms/step - loss: 0.3958 - mean_absolute_error: 0.5139 - acc: 0.5664 - val_loss: 0.6019 - val_mean_absolute_error: 0.7121 - val_acc: 0.2049\n",
      "Epoch 128/200\n",
      "1979/1979 [==============================] - 4s 2ms/step - loss: 0.4063 - mean_absolute_error: 0.5087 - acc: 0.5836 - val_loss: 0.5878 - val_mean_absolute_error: 0.7018 - val_acc: 0.2085\n",
      "Epoch 129/200\n",
      "1979/1979 [==============================] - 5s 2ms/step - loss: 0.3887 - mean_absolute_error: 0.5017 - acc: 0.5867 - val_loss: 0.5898 - val_mean_absolute_error: 0.7045 - val_acc: 0.2014\n",
      "Epoch 130/200\n",
      "1979/1979 [==============================] - 5s 2ms/step - loss: 0.4104 - mean_absolute_error: 0.5153 - acc: 0.5791 - val_loss: 0.6360 - val_mean_absolute_error: 0.7285 - val_acc: 0.2038\n",
      "Epoch 131/200\n",
      "1979/1979 [==============================] - 5s 2ms/step - loss: 0.4213 - mean_absolute_error: 0.5153 - acc: 0.5725 - val_loss: 0.6083 - val_mean_absolute_error: 0.7111 - val_acc: 0.2309\n",
      "Epoch 132/200\n",
      "1979/1979 [==============================] - 5s 2ms/step - loss: 0.4117 - mean_absolute_error: 0.5151 - acc: 0.5634 - val_loss: 0.5829 - val_mean_absolute_error: 0.7008 - val_acc: 0.2026\n",
      "Epoch 133/200\n",
      "1979/1979 [==============================] - 5s 2ms/step - loss: 0.4030 - mean_absolute_error: 0.5135 - acc: 0.5710 - val_loss: 0.6123 - val_mean_absolute_error: 0.7160 - val_acc: 0.2014\n",
      "Epoch 134/200\n",
      "1979/1979 [==============================] - 5s 2ms/step - loss: 0.4045 - mean_absolute_error: 0.5158 - acc: 0.5695 - val_loss: 0.6309 - val_mean_absolute_error: 0.7234 - val_acc: 0.2026\n",
      "Epoch 135/200\n",
      "1979/1979 [==============================] - 5s 2ms/step - loss: 0.3929 - mean_absolute_error: 0.5097 - acc: 0.5897 - val_loss: 0.6284 - val_mean_absolute_error: 0.7228 - val_acc: 0.2132\n",
      "Epoch 136/200\n",
      "1979/1979 [==============================] - 5s 2ms/step - loss: 0.3901 - mean_absolute_error: 0.5025 - acc: 0.5887 - val_loss: 0.6010 - val_mean_absolute_error: 0.7080 - val_acc: 0.2273\n",
      "Epoch 137/200\n",
      "1979/1979 [==============================] - 5s 2ms/step - loss: 0.3918 - mean_absolute_error: 0.5009 - acc: 0.6104 - val_loss: 0.6701 - val_mean_absolute_error: 0.7427 - val_acc: 0.2250\n",
      "Epoch 138/200\n",
      "1979/1979 [==============================] - 5s 2ms/step - loss: 0.4042 - mean_absolute_error: 0.5153 - acc: 0.5786 - val_loss: 0.7250 - val_mean_absolute_error: 0.7724 - val_acc: 0.2085\n",
      "Epoch 139/200\n",
      "1979/1979 [==============================] - 5s 2ms/step - loss: 0.3951 - mean_absolute_error: 0.5042 - acc: 0.6018 - val_loss: 0.6265 - val_mean_absolute_error: 0.7256 - val_acc: 0.2038\n",
      "Epoch 140/200\n",
      "1979/1979 [==============================] - 5s 2ms/step - loss: 0.3765 - mean_absolute_error: 0.4989 - acc: 0.5947 - val_loss: 0.6054 - val_mean_absolute_error: 0.7087 - val_acc: 0.2473\n",
      "Epoch 141/200\n",
      "1979/1979 [==============================] - 5s 2ms/step - loss: 0.3991 - mean_absolute_error: 0.5096 - acc: 0.5978 - val_loss: 0.6666 - val_mean_absolute_error: 0.7441 - val_acc: 0.2014\n",
      "Epoch 142/200\n",
      "1979/1979 [==============================] - 5s 2ms/step - loss: 0.3843 - mean_absolute_error: 0.4973 - acc: 0.6038 - val_loss: 0.6374 - val_mean_absolute_error: 0.7275 - val_acc: 0.2179\n",
      "Epoch 143/200\n",
      "1979/1979 [==============================] - 5s 2ms/step - loss: 0.3863 - mean_absolute_error: 0.5069 - acc: 0.5953 - val_loss: 0.6055 - val_mean_absolute_error: 0.7075 - val_acc: 0.2403\n",
      "Epoch 144/200\n",
      "1979/1979 [==============================] - 5s 2ms/step - loss: 0.3890 - mean_absolute_error: 0.5008 - acc: 0.6074 - val_loss: 0.6058 - val_mean_absolute_error: 0.7076 - val_acc: 0.2509\n",
      "Epoch 145/200\n",
      "1979/1979 [==============================] - 5s 2ms/step - loss: 0.4054 - mean_absolute_error: 0.5089 - acc: 0.5846 - val_loss: 0.5786 - val_mean_absolute_error: 0.6948 - val_acc: 0.2120\n",
      "Epoch 146/200\n",
      "1979/1979 [==============================] - 5s 2ms/step - loss: 0.3672 - mean_absolute_error: 0.4898 - acc: 0.6069 - val_loss: 0.5912 - val_mean_absolute_error: 0.7007 - val_acc: 0.2261\n",
      "Epoch 147/200\n",
      "1979/1979 [==============================] - 5s 2ms/step - loss: 0.3960 - mean_absolute_error: 0.5096 - acc: 0.5907 - val_loss: 0.5885 - val_mean_absolute_error: 0.7019 - val_acc: 0.2191\n",
      "Epoch 148/200\n",
      "1979/1979 [==============================] - 5s 2ms/step - loss: 0.3789 - mean_absolute_error: 0.4930 - acc: 0.6028 - val_loss: 0.5955 - val_mean_absolute_error: 0.7049 - val_acc: 0.2238\n",
      "Epoch 149/200\n",
      "1979/1979 [==============================] - 5s 2ms/step - loss: 0.3815 - mean_absolute_error: 0.4941 - acc: 0.6139 - val_loss: 0.6194 - val_mean_absolute_error: 0.7172 - val_acc: 0.2320\n",
      "Epoch 150/200\n",
      "1979/1979 [==============================] - 5s 2ms/step - loss: 0.3846 - mean_absolute_error: 0.4939 - acc: 0.6074 - val_loss: 0.5830 - val_mean_absolute_error: 0.6876 - val_acc: 0.3145\n",
      "Epoch 151/200\n",
      "1979/1979 [==============================] - 5s 2ms/step - loss: 0.3914 - mean_absolute_error: 0.5043 - acc: 0.6134 - val_loss: 0.6388 - val_mean_absolute_error: 0.7249 - val_acc: 0.2320\n",
      "Epoch 152/200\n",
      "1979/1979 [==============================] - 5s 2ms/step - loss: 0.4062 - mean_absolute_error: 0.5134 - acc: 0.5998 - val_loss: 0.6878 - val_mean_absolute_error: 0.7502 - val_acc: 0.2167\n",
      "Epoch 153/200\n",
      "1979/1979 [==============================] - 5s 2ms/step - loss: 0.3840 - mean_absolute_error: 0.4977 - acc: 0.6018 - val_loss: 0.6972 - val_mean_absolute_error: 0.7559 - val_acc: 0.2203\n",
      "Epoch 154/200\n",
      "1979/1979 [==============================] - 5s 2ms/step - loss: 0.3848 - mean_absolute_error: 0.4981 - acc: 0.5978 - val_loss: 0.5699 - val_mean_absolute_error: 0.6880 - val_acc: 0.2214\n",
      "Epoch 155/200\n",
      "1979/1979 [==============================] - 5s 2ms/step - loss: 0.3873 - mean_absolute_error: 0.5006 - acc: 0.6059 - val_loss: 0.6042 - val_mean_absolute_error: 0.7074 - val_acc: 0.2379\n",
      "Epoch 156/200\n",
      "1979/1979 [==============================] - 5s 2ms/step - loss: 0.3761 - mean_absolute_error: 0.4952 - acc: 0.6049 - val_loss: 0.6260 - val_mean_absolute_error: 0.7198 - val_acc: 0.2120\n",
      "Epoch 157/200\n",
      "1979/1979 [==============================] - 5s 2ms/step - loss: 0.3881 - mean_absolute_error: 0.4984 - acc: 0.6059 - val_loss: 0.5864 - val_mean_absolute_error: 0.7006 - val_acc: 0.2073\n",
      "Epoch 158/200\n",
      "1979/1979 [==============================] - 5s 2ms/step - loss: 0.3874 - mean_absolute_error: 0.4986 - acc: 0.5973 - val_loss: 0.5817 - val_mean_absolute_error: 0.6964 - val_acc: 0.2144\n",
      "Epoch 159/200\n",
      "1979/1979 [==============================] - 5s 2ms/step - loss: 0.3810 - mean_absolute_error: 0.4935 - acc: 0.6155 - val_loss: 0.5610 - val_mean_absolute_error: 0.6802 - val_acc: 0.2403\n",
      "Epoch 160/200\n",
      "1979/1979 [==============================] - 5s 2ms/step - loss: 0.3925 - mean_absolute_error: 0.5038 - acc: 0.5917 - val_loss: 0.5970 - val_mean_absolute_error: 0.7039 - val_acc: 0.2367\n",
      "Epoch 161/200\n",
      "1979/1979 [==============================] - 5s 2ms/step - loss: 0.3689 - mean_absolute_error: 0.4883 - acc: 0.6155 - val_loss: 0.5979 - val_mean_absolute_error: 0.7071 - val_acc: 0.2014\n",
      "Epoch 162/200\n",
      "1979/1979 [==============================] - 5s 2ms/step - loss: 0.3594 - mean_absolute_error: 0.4817 - acc: 0.6220 - val_loss: 0.5758 - val_mean_absolute_error: 0.6885 - val_acc: 0.2603\n",
      "Epoch 163/200\n",
      "1979/1979 [==============================] - 5s 2ms/step - loss: 0.3936 - mean_absolute_error: 0.5041 - acc: 0.5993 - val_loss: 0.5787 - val_mean_absolute_error: 0.6907 - val_acc: 0.2591\n",
      "Epoch 164/200\n",
      "1979/1979 [==============================] - 5s 2ms/step - loss: 0.3690 - mean_absolute_error: 0.4886 - acc: 0.6180 - val_loss: 0.7384 - val_mean_absolute_error: 0.7729 - val_acc: 0.2309\n"
     ]
    },
    {
     "name": "stdout",
     "output_type": "stream",
     "text": [
      "Epoch 165/200\n",
      "1979/1979 [==============================] - 4s 2ms/step - loss: 0.3776 - mean_absolute_error: 0.4907 - acc: 0.6291 - val_loss: 0.7071 - val_mean_absolute_error: 0.7593 - val_acc: 0.2367\n",
      "Epoch 166/200\n",
      "1979/1979 [==============================] - 4s 2ms/step - loss: 0.3741 - mean_absolute_error: 0.4875 - acc: 0.6230 - val_loss: 0.6415 - val_mean_absolute_error: 0.7289 - val_acc: 0.2002\n",
      "Epoch 167/200\n",
      "1979/1979 [==============================] - 4s 2ms/step - loss: 0.3677 - mean_absolute_error: 0.4911 - acc: 0.6028 - val_loss: 0.6116 - val_mean_absolute_error: 0.7134 - val_acc: 0.2108\n",
      "Epoch 168/200\n",
      "1979/1979 [==============================] - 4s 2ms/step - loss: 0.3848 - mean_absolute_error: 0.4919 - acc: 0.6134 - val_loss: 0.6273 - val_mean_absolute_error: 0.7193 - val_acc: 0.2497\n",
      "Epoch 169/200\n",
      "1979/1979 [==============================] - 4s 2ms/step - loss: 0.3708 - mean_absolute_error: 0.4849 - acc: 0.6306 - val_loss: 0.5561 - val_mean_absolute_error: 0.6752 - val_acc: 0.2214\n",
      "Epoch 170/200\n",
      "1979/1979 [==============================] - 4s 2ms/step - loss: 0.3793 - mean_absolute_error: 0.4878 - acc: 0.6382 - val_loss: 0.6604 - val_mean_absolute_error: 0.7381 - val_acc: 0.2226\n",
      "Epoch 171/200\n",
      "1979/1979 [==============================] - 5s 2ms/step - loss: 0.3687 - mean_absolute_error: 0.4852 - acc: 0.6225 - val_loss: 0.6334 - val_mean_absolute_error: 0.7228 - val_acc: 0.2403\n",
      "Epoch 172/200\n",
      "1979/1979 [==============================] - 5s 2ms/step - loss: 0.3713 - mean_absolute_error: 0.4906 - acc: 0.6225 - val_loss: 0.5937 - val_mean_absolute_error: 0.6996 - val_acc: 0.2638\n",
      "Epoch 173/200\n",
      "1979/1979 [==============================] - 5s 2ms/step - loss: 0.3869 - mean_absolute_error: 0.4930 - acc: 0.6342 - val_loss: 0.5525 - val_mean_absolute_error: 0.6695 - val_acc: 0.2591\n",
      "Epoch 174/200\n",
      "1979/1979 [==============================] - 5s 2ms/step - loss: 0.3799 - mean_absolute_error: 0.4963 - acc: 0.6119 - val_loss: 0.6106 - val_mean_absolute_error: 0.7099 - val_acc: 0.2521\n",
      "Epoch 175/200\n",
      "1979/1979 [==============================] - 5s 2ms/step - loss: 0.3557 - mean_absolute_error: 0.4805 - acc: 0.6190 - val_loss: 0.5825 - val_mean_absolute_error: 0.6950 - val_acc: 0.2332\n",
      "Epoch 176/200\n",
      "1979/1979 [==============================] - 5s 2ms/step - loss: 0.3633 - mean_absolute_error: 0.4811 - acc: 0.6367 - val_loss: 0.5556 - val_mean_absolute_error: 0.6679 - val_acc: 0.2968\n",
      "Epoch 177/200\n",
      "1979/1979 [==============================] - 5s 2ms/step - loss: 0.3671 - mean_absolute_error: 0.4820 - acc: 0.6326 - val_loss: 0.5731 - val_mean_absolute_error: 0.6886 - val_acc: 0.2497\n",
      "Epoch 178/200\n",
      "1979/1979 [==============================] - 5s 2ms/step - loss: 0.3659 - mean_absolute_error: 0.4809 - acc: 0.6463 - val_loss: 0.6091 - val_mean_absolute_error: 0.7083 - val_acc: 0.2638\n",
      "Epoch 179/200\n",
      "1979/1979 [==============================] - 5s 2ms/step - loss: 0.3668 - mean_absolute_error: 0.4871 - acc: 0.6261 - val_loss: 0.5984 - val_mean_absolute_error: 0.7042 - val_acc: 0.2497\n",
      "Epoch 180/200\n",
      "1979/1979 [==============================] - 4s 2ms/step - loss: 0.3769 - mean_absolute_error: 0.4918 - acc: 0.6119 - val_loss: 0.5814 - val_mean_absolute_error: 0.6969 - val_acc: 0.2014\n",
      "Epoch 181/200\n",
      "1979/1979 [==============================] - 4s 2ms/step - loss: 0.3536 - mean_absolute_error: 0.4776 - acc: 0.6397 - val_loss: 0.5724 - val_mean_absolute_error: 0.6857 - val_acc: 0.2603\n",
      "Epoch 182/200\n",
      "1979/1979 [==============================] - 5s 2ms/step - loss: 0.3638 - mean_absolute_error: 0.4807 - acc: 0.6261 - val_loss: 0.6294 - val_mean_absolute_error: 0.7240 - val_acc: 0.2379\n",
      "Epoch 183/200\n",
      "1979/1979 [==============================] - 4s 2ms/step - loss: 0.3866 - mean_absolute_error: 0.4922 - acc: 0.6170 - val_loss: 0.5574 - val_mean_absolute_error: 0.6732 - val_acc: 0.2886\n",
      "Epoch 184/200\n",
      "1979/1979 [==============================] - 4s 2ms/step - loss: 0.3612 - mean_absolute_error: 0.4793 - acc: 0.6372 - val_loss: 0.5846 - val_mean_absolute_error: 0.6968 - val_acc: 0.2532\n",
      "Epoch 185/200\n",
      "1979/1979 [==============================] - 4s 2ms/step - loss: 0.3782 - mean_absolute_error: 0.4849 - acc: 0.6402 - val_loss: 0.5888 - val_mean_absolute_error: 0.7013 - val_acc: 0.2014\n",
      "Epoch 186/200\n",
      "1979/1979 [==============================] - 5s 2ms/step - loss: 0.3902 - mean_absolute_error: 0.4983 - acc: 0.6124 - val_loss: 0.6009 - val_mean_absolute_error: 0.7088 - val_acc: 0.2014\n",
      "Epoch 187/200\n",
      "1979/1979 [==============================] - 4s 2ms/step - loss: 0.3673 - mean_absolute_error: 0.4833 - acc: 0.6357 - val_loss: 0.5680 - val_mean_absolute_error: 0.6853 - val_acc: 0.2332\n",
      "Epoch 188/200\n",
      "1979/1979 [==============================] - 4s 2ms/step - loss: 0.3707 - mean_absolute_error: 0.4861 - acc: 0.6402 - val_loss: 0.5661 - val_mean_absolute_error: 0.6789 - val_acc: 0.3062\n",
      "Epoch 189/200\n",
      "1979/1979 [==============================] - 5s 2ms/step - loss: 0.3711 - mean_absolute_error: 0.4961 - acc: 0.6225 - val_loss: 0.5650 - val_mean_absolute_error: 0.6818 - val_acc: 0.2768\n",
      "Epoch 190/200\n",
      "1979/1979 [==============================] - 5s 2ms/step - loss: 0.3762 - mean_absolute_error: 0.4911 - acc: 0.6215 - val_loss: 0.5766 - val_mean_absolute_error: 0.6925 - val_acc: 0.2014\n",
      "Epoch 191/200\n",
      "1979/1979 [==============================] - 4s 2ms/step - loss: 0.3766 - mean_absolute_error: 0.4959 - acc: 0.6139 - val_loss: 0.5659 - val_mean_absolute_error: 0.6817 - val_acc: 0.2627\n",
      "Epoch 192/200\n",
      "1979/1979 [==============================] - 5s 2ms/step - loss: 0.3697 - mean_absolute_error: 0.4896 - acc: 0.6013 - val_loss: 0.5887 - val_mean_absolute_error: 0.7004 - val_acc: 0.2250\n",
      "Epoch 193/200\n",
      "1979/1979 [==============================] - 5s 2ms/step - loss: 0.3653 - mean_absolute_error: 0.4851 - acc: 0.6301 - val_loss: 0.5923 - val_mean_absolute_error: 0.7018 - val_acc: 0.2521\n",
      "Epoch 194/200\n",
      "1979/1979 [==============================] - 5s 2ms/step - loss: 0.3546 - mean_absolute_error: 0.4765 - acc: 0.6529 - val_loss: 0.6179 - val_mean_absolute_error: 0.7132 - val_acc: 0.2756\n",
      "Epoch 195/200\n",
      "1979/1979 [==============================] - 4s 2ms/step - loss: 0.3800 - mean_absolute_error: 0.4942 - acc: 0.6180 - val_loss: 0.6349 - val_mean_absolute_error: 0.7219 - val_acc: 0.2662\n",
      "Epoch 196/200\n",
      "1979/1979 [==============================] - 5s 2ms/step - loss: 0.3658 - mean_absolute_error: 0.4783 - acc: 0.6473 - val_loss: 0.5741 - val_mean_absolute_error: 0.6920 - val_acc: 0.2226\n",
      "Epoch 197/200\n",
      "1979/1979 [==============================] - 5s 2ms/step - loss: 0.3588 - mean_absolute_error: 0.4764 - acc: 0.6342 - val_loss: 0.6147 - val_mean_absolute_error: 0.7157 - val_acc: 0.2014\n",
      "Epoch 198/200\n",
      "1979/1979 [==============================] - 5s 2ms/step - loss: 0.3518 - mean_absolute_error: 0.4726 - acc: 0.6412 - val_loss: 0.5574 - val_mean_absolute_error: 0.6735 - val_acc: 0.2603\n",
      "Epoch 199/200\n",
      "1979/1979 [==============================] - 5s 2ms/step - loss: 0.3637 - mean_absolute_error: 0.4781 - acc: 0.6518 - val_loss: 0.5922 - val_mean_absolute_error: 0.7000 - val_acc: 0.2450\n",
      "Epoch 200/200\n",
      "1979/1979 [==============================] - 4s 2ms/step - loss: 0.3715 - mean_absolute_error: 0.4917 - acc: 0.6266 - val_loss: 0.6005 - val_mean_absolute_error: 0.7063 - val_acc: 0.2627\n"
     ]
    },
    {
     "data": {
      "text/plain": [
       "<keras.callbacks.History at 0x1a67dfa5588>"
      ]
     },
     "execution_count": 41,
     "metadata": {},
     "output_type": "execute_result"
    }
   ],
   "source": [
    "t_model.fit(train_temporal_features, train_labels,epochs = 200,batch_size = 32,validation_split=0.3)"
   ]
  },
  {
   "cell_type": "code",
   "execution_count": 42,
   "metadata": {},
   "outputs": [],
   "source": [
    "t_model.save_weights('temporal_model_weights_own.h5')"
   ]
  },
  {
   "cell_type": "code",
   "execution_count": 65,
   "metadata": {},
   "outputs": [],
   "source": [
    "test_temporal_features = temporal_features[video_count : video_count + test_count]"
   ]
  },
  {
   "cell_type": "code",
   "execution_count": 66,
   "metadata": {},
   "outputs": [],
   "source": [
    "predicted_temporal_values = t_model.predict(test_temporal_features)"
   ]
  },
  {
   "cell_type": "code",
   "execution_count": 67,
   "metadata": {},
   "outputs": [
    {
     "data": {
      "text/plain": [
       "array([[1.6290549],\n",
       "       [1.6730335],\n",
       "       [1.7295103],\n",
       "       ...,\n",
       "       [1.0848876],\n",
       "       [1.3032801],\n",
       "       [1.4262053]], dtype=float32)"
      ]
     },
     "execution_count": 67,
     "metadata": {},
     "output_type": "execute_result"
    }
   ],
   "source": [
    "predicted_temporal_values"
   ]
  },
  {
   "cell_type": "code",
   "execution_count": 69,
   "metadata": {},
   "outputs": [
    {
     "data": {
      "text/plain": [
       "array([3.1200805], dtype=float32)"
      ]
     },
     "execution_count": 69,
     "metadata": {},
     "output_type": "execute_result"
    }
   ],
   "source": [
    "max(predicted_temporal_values)"
   ]
  }
 ],
 "metadata": {
  "kernelspec": {
   "display_name": "Python 3",
   "language": "python",
   "name": "python3"
  },
  "language_info": {
   "codemirror_mode": {
    "name": "ipython",
    "version": 3
   },
   "file_extension": ".py",
   "mimetype": "text/x-python",
   "name": "python",
   "nbconvert_exporter": "python",
   "pygments_lexer": "ipython3",
   "version": "3.7.1"
  }
 },
 "nbformat": 4,
 "nbformat_minor": 2
}
